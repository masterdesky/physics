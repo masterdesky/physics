{
 "cells": [
  {
   "cell_type": "code",
   "execution_count": 1,
   "metadata": {},
   "outputs": [],
   "source": [
    "import os\n",
    "import random\n",
    "import numpy as np\n",
    "from numba import jit\n",
    "from datetime import datetime\n",
    "\n",
    "import seaborn as sns\n",
    "import matplotlib as mpl\n",
    "import matplotlib.cm as cm\n",
    "import matplotlib.pyplot as plt\n",
    "import matplotlib.colors as mcolors\n",
    "from matplotlib.patches import Circle\n",
    "from mpl_toolkits.mplot3d import Axes3D\n",
    "import matplotlib.animation as animation\n",
    "from matplotlib.animation import FuncAnimation\n",
    "\n",
    "from IPython.display import clear_output, display"
   ]
  },
  {
   "cell_type": "code",
   "execution_count": 2,
   "metadata": {},
   "outputs": [],
   "source": [
    "out = '..\\\\out\\\\'\n",
    "figsave_format = 'pdf'\n",
    "figsave_dpi = 200\n",
    "\n",
    "# Set axtick dimensions\n",
    "major_size = 6\n",
    "major_width = 1.2\n",
    "minor_size = 3\n",
    "minor_width = 1\n",
    "mpl.rcParams['xtick.major.size'] = major_size\n",
    "mpl.rcParams['xtick.major.width'] = major_width\n",
    "mpl.rcParams['xtick.minor.size'] = minor_size\n",
    "mpl.rcParams['xtick.minor.width'] = minor_width\n",
    "mpl.rcParams['ytick.major.size'] = major_size\n",
    "mpl.rcParams['ytick.major.width'] = major_width\n",
    "mpl.rcParams['ytick.minor.size'] = minor_size\n",
    "mpl.rcParams['ytick.minor.width'] = minor_width\n",
    "\n",
    "# Seaborn style settings\n",
    "sns.set_style({'axes.axisbelow': True,\n",
    "               'axes.edgecolor': '.8',\n",
    "               'axes.facecolor': 'white',\n",
    "               'axes.grid': True,\n",
    "               'axes.labelcolor': '.15',\n",
    "               'axes.spines.bottom': True,\n",
    "               'axes.spines.left': True,\n",
    "               'axes.spines.right': True,\n",
    "               'axes.spines.top': True,\n",
    "               'figure.facecolor': 'white',\n",
    "               'font.family': ['sans-serif'],\n",
    "               'font.sans-serif': ['Arial',\n",
    "                'DejaVu Sans',\n",
    "                'Liberation Sans',\n",
    "                'Bitstream Vera Sans',\n",
    "                'sans-serif'],\n",
    "               'grid.color': '.8',\n",
    "               'grid.linestyle': '--',\n",
    "               'image.cmap': 'rocket',\n",
    "               'lines.solid_capstyle': 'round',\n",
    "               'patch.edgecolor': 'w',\n",
    "               'patch.force_edgecolor': True,\n",
    "               'text.color': '.15',\n",
    "               'xtick.bottom': True,\n",
    "               'xtick.color': '.15',\n",
    "               'xtick.direction': 'in',\n",
    "               'xtick.top': True,\n",
    "               'ytick.color': '.15',\n",
    "               'ytick.direction': 'in',\n",
    "               'ytick.left': True,\n",
    "               'ytick.right': True})"
   ]
  },
  {
   "cell_type": "markdown",
   "metadata": {},
   "source": [
    "## Physical Constants"
   ]
  },
  {
   "cell_type": "code",
   "execution_count": 3,
   "metadata": {},
   "outputs": [],
   "source": [
    "g = 9.81"
   ]
  },
  {
   "cell_type": "markdown",
   "metadata": {},
   "source": [
    "## RK4"
   ]
  },
  {
   "cell_type": "code",
   "execution_count": 4,
   "metadata": {},
   "outputs": [],
   "source": [
    "@jit(nopython=True)\n",
    "def derivates(X, V, i):\n",
    "    assert X.size == V.size\n",
    "    # Create placeholder array to store output of the RK4 step\n",
    "    # f = [t, r_x, r_y, r_z, v_x, v_y, v_z]\n",
    "    dXdt = np.zeros(len(X))\n",
    "    dVdt = np.zeros(len(V))\n",
    "\n",
    "    # Calculate derivates for RK4\n",
    "    # ---------------------------\n",
    "    # d(t)/dt = 1\n",
    "    #\n",
    "    # d(r_x)/dt = v_x\n",
    "    # d(r_y)/dt = v_y\n",
    "    # etc...\n",
    "    #\n",
    "    # d(v_x) = a_x\n",
    "    # d(v_y)/dt = a_y\n",
    "    # etc...\n",
    "    # where : a_i = - G * sum_j {m_j * (r_i - r_j) / |r_i - r_j|^3}\n",
    "    dXdt = V\n",
    "    dVdt = - G_AU * sum_j(X, i)\n",
    "\n",
    "    return dXdt, dVdt"
   ]
  },
  {
   "cell_type": "code",
   "execution_count": 5,
   "metadata": {},
   "outputs": [],
   "source": [
    "@jit(nopython=True)\n",
    "def RK4_step(coordinates, velocities, i, dt):\n",
    "    X = coordinates[i]\n",
    "    V = velocities[i]\n",
    "    E_i = 1/2 * geometries[i,0] * np.linalg.norm(V)\n",
    "    \n",
    "    k1X, k1V = derivates(X, V, i)\n",
    "    k1X = k1X * dt\n",
    "    k1V = k1V * dt\n",
    "    \n",
    "    k2X, k2V = derivates(X + 0.5 * k1X, V + 0.5 * k1V, i)\n",
    "    k2X = k2X * dt\n",
    "    k2V = k2V * dt\n",
    "    \n",
    "    k3X, k3V = derivates(X + 0.5 * k2X, V + 0.5 * k2V, i)\n",
    "    k3X = k3X * dt\n",
    "    k3V = k3V * dt\n",
    "    \n",
    "    k4X, k4V = derivates(X + k3X, V + k3V, i) \n",
    "    k4X = k4X * dt\n",
    "    k4V = k4V * dt\n",
    "\n",
    "    dX = (k1X + 2 * k2X + 2 * k3X + k4X) / 6.0\n",
    "    dV = (k1V + 2 * k2V + 2 * k3V + k4V) / 6.0\n",
    "\n",
    "    return dX, dV"
   ]
  },
  {
   "cell_type": "code",
   "execution_count": null,
   "metadata": {},
   "outputs": [],
   "source": []
  },
  {
   "cell_type": "code",
   "execution_count": null,
   "metadata": {},
   "outputs": [],
   "source": []
  }
 ],
 "metadata": {
  "kernelspec": {
   "display_name": "Python 3",
   "language": "python",
   "name": "python3"
  },
  "language_info": {
   "codemirror_mode": {
    "name": "ipython",
    "version": 3
   },
   "file_extension": ".py",
   "mimetype": "text/x-python",
   "name": "python",
   "nbconvert_exporter": "python",
   "pygments_lexer": "ipython3",
   "version": "3.6.0"
  }
 },
 "nbformat": 4,
 "nbformat_minor": 2
}
