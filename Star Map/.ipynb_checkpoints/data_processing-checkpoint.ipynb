{
 "cells": [
  {
   "cell_type": "code",
   "execution_count": 1,
   "metadata": {},
   "outputs": [],
   "source": [
    "import os\n",
    "import numpy as np\n",
    "import pandas as pd\n",
    "\n",
    "from IPython.display import clear_output, display"
   ]
  },
  {
   "cell_type": "code",
   "execution_count": 2,
   "metadata": {},
   "outputs": [],
   "source": [
    "data_path = \"d:\\\\gaia_dr2\\\\gaia_coords\\\\\"\n",
    "save_path = \"d:\\\\gaia_dr2\\\\gaia_slices\\\\\""
   ]
  },
  {
   "cell_type": "code",
   "execution_count": 3,
   "metadata": {},
   "outputs": [],
   "source": [
    "def aggregate_coords(l_min, l_max):\n",
    "\n",
    "    li = []\n",
    "    for data_set in os.listdir(data_path):\n",
    "        current_file = data_path + data_set\n",
    "        with open(current_file, 'r') as f:\n",
    "            df = pd.read_csv(f, index_col=None, header=0)\n",
    "            print(data_set)\n",
    "            li.append(df[(df.l > l_min) & (df.l < l_max) & (df.b > -45) & (df.b < 45)])\n",
    "\n",
    "    # Save relevant data into '.csv'\n",
    "    file_name = save_path + 'slices_{}_{}.csv'.format(l_min, l_max)\n",
    "    clear_output(wait=True)\n",
    "    print(\"Concatenating data started...\")\n",
    "    pd.concat(li, axis=0, ignore_index=True).to_csv(file_name, index=False, mode='w+')"
   ]
  },
  {
   "cell_type": "code",
   "execution_count": 4,
   "metadata": {
    "scrolled": false
   },
   "outputs": [
    {
     "name": "stdout",
     "output_type": "stream",
     "text": [
      "Concatenating data started...\n"
     ]
    }
   ],
   "source": [
    "step = 5\n",
    "for l_min in np.arange(355,360,step):\n",
    "    l_max = l_min + step\n",
    "    clear_output(wait=True)\n",
    "    aggregate_coords(l_min=l_min, l_max=l_max)"
   ]
  },
  {
   "cell_type": "code",
   "execution_count": null,
   "metadata": {},
   "outputs": [],
   "source": [
    "step = 5\n",
    "for l_min in np.arange(0,90,step):\n",
    "    l_max = l_min + step\n",
    "    clear_output(wait=True)\n",
    "    aggregate_coords(l_min=l_min, l_max=l_max)"
   ]
  },
  {
   "cell_type": "code",
   "execution_count": 12,
   "metadata": {},
   "outputs": [],
   "source": []
  }
 ],
 "metadata": {
  "kernelspec": {
   "display_name": "Python 3",
   "language": "python",
   "name": "python3"
  },
  "language_info": {
   "codemirror_mode": {
    "name": "ipython",
    "version": 3
   },
   "file_extension": ".py",
   "mimetype": "text/x-python",
   "name": "python",
   "nbconvert_exporter": "python",
   "pygments_lexer": "ipython3",
   "version": "3.7.6"
  }
 },
 "nbformat": 4,
 "nbformat_minor": 4
}
