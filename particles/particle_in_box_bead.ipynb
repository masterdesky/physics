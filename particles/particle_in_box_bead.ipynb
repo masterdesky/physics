{
 "cells": [
  {
   "cell_type": "markdown",
   "metadata": {},
   "source": [
    "# Two particles in an enclosed box"
   ]
  },
  {
   "cell_type": "code",
   "execution_count": null,
   "metadata": {},
   "outputs": [],
   "source": [
    "import numpy as np\n",
    "import sympy as sp\n",
    "\n",
    "import matplotlib as mpl\n",
    "import matplotlib.cm as cm\n",
    "import matplotlib.pyplot as plt\n",
    "from mpl_toolkits.mplot3d import Axes3D"
   ]
  },
  {
   "cell_type": "code",
   "execution_count": null,
   "metadata": {},
   "outputs": [],
   "source": [
    "figsave_dir = '..\\\\out\\\\'\n",
    "\n",
    "figsize_x = 15\n",
    "figsize_y = 13\n",
    "\n",
    "# Set axtick dimensions\n",
    "major_size = 6\n",
    "major_width = 1.2\n",
    "minor_size = 3\n",
    "minor_width = 1\n",
    "mpl.rcParams['xtick.major.size'] = major_size\n",
    "mpl.rcParams['xtick.major.width'] = major_width\n",
    "mpl.rcParams['xtick.minor.size'] = minor_size\n",
    "mpl.rcParams['xtick.minor.width'] = minor_width\n",
    "mpl.rcParams['ytick.major.size'] = major_size\n",
    "mpl.rcParams['ytick.major.width'] = major_width\n",
    "mpl.rcParams['ytick.minor.size'] = minor_size\n",
    "mpl.rcParams['ytick.minor.width'] = minor_width"
   ]
  },
  {
   "cell_type": "markdown",
   "metadata": {},
   "source": [
    "## Assignment\n",
    "\n",
    "[//]: # (Banish \\phi from this realm)\n",
    "$$\n",
    "\\renewcommand{\\phi}{\\varphi}\n",
    "$$\n",
    "\n",
    "A feladatunk a feladat kiírásához csatolt levezetésben található várható értékek kiszámítása a végtelenül mély potenciálgödörben mozgó kétrészecskés esetre. A kiírás alapján azt az esetet kell megvizsgáljuk, ahol az egyik részecske $\\phi_{a}$, míg a másik $\\phi_{b}$ állapotban helyezkedik el. A [Marianna Safronova](www.physics.udel.edu/~msafrono/) által írt jegyzet mindhárom esetre (klasszikus, bozonok, fermionok) kitér, melyben az egyes kétrészecske-állapotokhoz tartozó várhatóértékek az alábbi egyrészecskés várhatóértékkel vannak kifejezve:\n",
    "\n",
    "$$\n",
    "\\left< x \\right>_{a}\n",
    "=\n",
    "\\int_{- \\infty}^{\\infty} x_{1} \\cdot \\left| \\phi_{a} \\left( x_{1} \\right) \\right|^{2}\\,\\text{d}x_{1}\n",
    "$$\n",
    "\n",
    "$$\n",
    "\\left< x \\right>_{b}\n",
    "=\n",
    "\\int_{- \\infty}^{\\infty} x_{2} \\cdot \\left| \\phi_{b} \\left( x_{2} \\right) \\right|^{2}\\,\\text{d}x_{2}\n",
    "$$\n",
    "\n",
    "$$\n",
    "\\left< x^{2} \\right>_{a}\n",
    "=\n",
    "\\int_{- \\infty}^{\\infty} x_{1}^{2} \\cdot \\left| \\phi_{a} \\left( x_{1} \\right) \\right|^{2}\\,\\text{d}x_{1}\n",
    "$$\n",
    "\n",
    "$$\n",
    "\\left< x^{2} \\right>_{b}\n",
    "=\n",
    "\\int_{- \\infty}^{\\infty} x_{2}^{2} \\cdot \\left| \\phi_{b} \\left( x_{2} \\right) \\right|^{2}\\,\\text{d}x_{2}\n",
    "$$\n",
    "\n",
    "Ahhoz, hogy bármelyik esetre megkaphassuk az $\\left< x_{1}^{2} \\right>$, $\\left< x_{2}^{2} \\right>$, valamint $\\left< x_{1}, x_{2} \\right>$ értékeket, a fentieket értékét kell csak meghatározzuk."
   ]
  },
  {
   "cell_type": "markdown",
   "metadata": {},
   "source": [
    "A $\\phi_{n} \\left( x \\right)$ egyrészecskés hullámfüggvények a\n",
    "\n",
    "$$\n",
    "\\phi_{n} \\left( x \\right)\n",
    "=\n",
    "\\sqrt{\\frac{2}{L}} \\sin \\left( \\frac{n \\pi}{L} x \\right)\n",
    "$$\n",
    "\n",
    "alakban adhatóak meg. A négy fenti egyenlet így az alábbi formát ölti:\n",
    "\n",
    "$$\n",
    "\\left< x \\right>_{a}\n",
    "=\n",
    "\\int_{- \\infty}^{\\infty} x_{1} \\cdot \\left| \\phi_{a} \\left( x_{1} \\right) \\right|^{2}\\,\\text{d}x_{1}\n",
    "=\n",
    "\\int_{- \\infty}^{\\infty} x_{1} \\cdot \\left| \\sqrt{\\frac{2}{L}} \\sin \\left( \\frac{a \\pi}{L} x_{1} \\right) \\right|^{2}\\,\\text{d}x_{1}\n",
    "$$\n",
    "\n",
    "$$\n",
    "\\left< x \\right>_{b}\n",
    "=\n",
    "\\int_{- \\infty}^{\\infty} x_{2} \\cdot \\left| \\phi_{b} \\left( x_{2} \\right) \\right|^{2}\\,\\text{d}x_{2}\n",
    "=\n",
    "\\int_{- \\infty}^{\\infty} x_{2} \\cdot \\left| \\sqrt{\\frac{2}{L}} \\sin \\left( \\frac{b \\pi}{L} x_{2} \\right) \\right|^{2}\\,\\text{d}x_{2}\n",
    "$$\n",
    "\n",
    "$$\n",
    "\\left< x^{2} \\right>_{a}\n",
    "=\n",
    "\\int_{- \\infty}^{\\infty} x_{1}^{2} \\cdot \\left| \\phi_{a} \\left( x_{1} \\right) \\right|^{2}\\,\\text{d}x_{1}\n",
    "=\n",
    "\\int_{- \\infty}^{\\infty} x_{1}^{2} \\cdot \\left| \\sqrt{\\frac{2}{L}} \\sin \\left( \\frac{a \\pi}{L} x_{1} \\right) \\right|^{2}\\,\\text{d}x_{1}\n",
    "$$\n",
    "\n",
    "$$\n",
    "\\left< x^{2} \\right>_{b}\n",
    "=\n",
    "\\int_{- \\infty}^{\\infty} x_{2}^{2} \\cdot \\left| \\phi_{b} \\left( x_{2} \\right) \\right|^{2}\\,\\text{d}x_{2}\n",
    "=\n",
    "\\int_{- \\infty}^{\\infty} x_{2}^{2} \\cdot \\left| \\sqrt{\\frac{2}{L}} \\sin \\left( \\frac{b \\pi}{L} x_{2} \\right) \\right|^{2}\\,\\text{d}x_{2}\n",
    "$$\n",
    "\n",
    "Mivel a hullámfüggvények ebben a konkrét esetben tisztán valósak, így az abszolútérték mindig egyenletben elhagyható a négyzetre emelés miatt:\n",
    "\n",
    "$$\n",
    "\\left< x \\right>_{a}\n",
    "\\equiv\n",
    "\\int_{- \\infty}^{\\infty} x_{1} \\cdot \\frac{2}{L} \\sin^{2} \\left( \\frac{a \\pi}{L} x_{1} \\right)\\,\\text{d}x_{1}\n",
    "$$\n",
    "\n",
    "$$\n",
    "\\left< x \\right>_{b}\n",
    "\\equiv\n",
    "\\int_{- \\infty}^{\\infty} x_{2} \\cdot \\frac{2}{L} \\sin^{2} \\left( \\frac{b \\pi}{L} x_{2} \\right)\\,\\text{d}x_{2}\n",
    "$$\n",
    "\n",
    "$$\n",
    "\\left< x^{2} \\right>_{a}\n",
    "\\equiv\n",
    "\\int_{- \\infty}^{\\infty} x_{1}^{2} \\cdot \\frac{2}{L} \\sin^{2} \\left( \\frac{a \\pi}{L} x_{1} \\right)\\,\\text{d}x_{1}\n",
    "$$\n",
    "\n",
    "$$\n",
    "\\left< x^{2} \\right>_{b}\n",
    "\\equiv\n",
    "\\int_{- \\infty}^{\\infty} x_{2}^{2} \\cdot \\frac{2}{L} \\sin^{2} \\left( \\frac{b \\pi}{L} x_{2} \\right)\\,\\text{d}x_{2}\n",
    "$$"
   ]
  },
  {
   "cell_type": "markdown",
   "metadata": {},
   "source": [
    "Ezeket az integrálokat pl. `sympy` segítségével értékelhetjük ki. Emeljük ki a konstanst és jelöljük a $\\sin$ függvényben található szintén konstans részt $C_{1}$ és $C_{2}$-vel:\n",
    "\n",
    "$$\n",
    "\\left< x \\right>_{a}\n",
    "\\equiv\n",
    "\\frac{2}{L}\n",
    "\\int_{- \\infty}^{\\infty} x_{1} \\sin^{2} \\left( C_{1} x_{1} \\right)\\,\\text{d}x_{1}\n",
    "$$\n",
    "\n",
    "$$\n",
    "\\left< x \\right>_{b}\n",
    "\\equiv\n",
    "\\frac{2}{L}\n",
    "\\int_{- \\infty}^{\\infty} x_{2} \\sin^{2} \\left( C_{2} x_{2} \\right)\\,\\text{d}x_{2}\n",
    "$$\n",
    "\n",
    "$$\n",
    "\\left< x^{2} \\right>_{a}\n",
    "\\equiv\n",
    "\\frac{2}{L}\n",
    "\\int_{- \\infty}^{\\infty} x_{1}^{2} \\sin^{2} \\left( C_{1} x_{1} \\right)\\,\\text{d}x_{1}\n",
    "$$\n",
    "\n",
    "$$\n",
    "\\left< x^{2} \\right>_{b}\n",
    "\\equiv\n",
    "\\frac{2}{L}\n",
    "\\int_{- \\infty}^{\\infty} x_{2}^{2} \\sin^{2} \\left( C_{2} x_{2} \\right)\\,\\text{d}x_{2}\n",
    "$$\n",
    "\n",
    "Helyezzük a doboz egyik felét a $0$ pontba, másikat pedig az $L$-be. Ekkor az integrálok határai erre a tartományra szűkülnek:\n",
    "\n",
    "$$\n",
    "\\left< x \\right>_{a}\n",
    "\\equiv\n",
    "\\frac{2}{L}\n",
    "\\int_{0}^{L} x_{1} \\sin^{2} \\left( C_{1} x_{1} \\right)\\,\\text{d}x_{1}\n",
    "$$\n",
    "\n",
    "$$\n",
    "\\left< x \\right>_{b}\n",
    "\\equiv\n",
    "\\frac{2}{L}\n",
    "\\int_{0}^{L} x_{2} \\sin^{2} \\left( C_{2} x_{2} \\right)\\,\\text{d}x_{2}\n",
    "$$\n",
    "\n",
    "$$\n",
    "\\left< x^{2} \\right>_{a}\n",
    "\\equiv\n",
    "\\frac{2}{L}\n",
    "\\int_{0}^{L} x_{1}^{2} \\sin^{2} \\left( C_{1} x_{1} \\right)\\,\\text{d}x_{1}\n",
    "$$\n",
    "\n",
    "$$\n",
    "\\left< x^{2} \\right>_{b}\n",
    "\\equiv\n",
    "\\frac{2}{L}\n",
    "\\int_{0}^{L} x_{2}^{2} \\sin^{2} \\left( C_{2} x_{2} \\right)\\,\\text{d}x_{2}\n",
    "$$"
   ]
  },
  {
   "cell_type": "markdown",
   "metadata": {},
   "source": [
    "A bozonok és fermionok esetén egy ötödik fajta várható értéket is fel kell használnunk, mely a következő:\n",
    "\n",
    "$$\n",
    "\\left< x_{ab} \\right>\n",
    "=\n",
    "\\int_{0}^{L} x \\phi_{a}^{\\ast} \\left( x \\right) \\phi_{b} \\left( x \\right)\n",
    "=\n",
    "\\int_{0}^{L} x \\cdot \\sin \\left( C_{1} x \\right) \\cdot \\sin \\left( C_{2} x \\right)\\,\\text{d}x\n",
    "$$"
   ]
  },
  {
   "cell_type": "markdown",
   "metadata": {},
   "source": [
    "---\n",
    "\n",
    "### Kiértékelés"
   ]
  },
  {
   "cell_type": "code",
   "execution_count": null,
   "metadata": {},
   "outputs": [],
   "source": [
    "_x = sp.Symbol('x')\n",
    "x_1 = sp.Symbol('x_1')\n",
    "x_2 = sp.Symbol('x_2')\n",
    "C_1 = sp.Symbol('C_1')\n",
    "C_2 = sp.Symbol('C_2')\n",
    "L = sp.Symbol('L')"
   ]
  },
  {
   "cell_type": "markdown",
   "metadata": {},
   "source": [
    "#### 1. és 2. integrál"
   ]
  },
  {
   "cell_type": "code",
   "execution_count": null,
   "metadata": {
    "scrolled": true
   },
   "outputs": [],
   "source": [
    "int_1 = x_1 * sp.sin(C_1 * x_1)**2\n",
    "int_1"
   ]
  },
  {
   "cell_type": "code",
   "execution_count": null,
   "metadata": {
    "scrolled": true
   },
   "outputs": [],
   "source": [
    "result_1 = sp.integrate(int_1, (x_1, 0, L))\n",
    "result_1"
   ]
  },
  {
   "cell_type": "code",
   "execution_count": null,
   "metadata": {
    "scrolled": true
   },
   "outputs": [],
   "source": [
    "int_2 = x_2 * sp.sin(C_2 * x_2)**2\n",
    "int_2"
   ]
  },
  {
   "cell_type": "code",
   "execution_count": null,
   "metadata": {
    "scrolled": true
   },
   "outputs": [],
   "source": [
    "result_2 = sp.integrate(int_2, (x_2, 0, L))\n",
    "result_2"
   ]
  },
  {
   "cell_type": "markdown",
   "metadata": {},
   "source": [
    "#### 3. és 4. integrál"
   ]
  },
  {
   "cell_type": "code",
   "execution_count": null,
   "metadata": {},
   "outputs": [],
   "source": [
    "int_3 = x_1**2 * sp.sin(C_1 * x_1)**2\n",
    "int_3"
   ]
  },
  {
   "cell_type": "code",
   "execution_count": null,
   "metadata": {
    "scrolled": true
   },
   "outputs": [],
   "source": [
    "result_3 = sp.integrate(int_3, (x_1, 0, L))\n",
    "result_3"
   ]
  },
  {
   "cell_type": "code",
   "execution_count": null,
   "metadata": {},
   "outputs": [],
   "source": [
    "int_4 = x_2**2 * sp.sin(C_2 * x_2)**2\n",
    "int_4"
   ]
  },
  {
   "cell_type": "code",
   "execution_count": null,
   "metadata": {
    "scrolled": true
   },
   "outputs": [],
   "source": [
    "result_4 = sp.integrate(int_4, (x_2, 0, L))\n",
    "result_4"
   ]
  },
  {
   "cell_type": "markdown",
   "metadata": {},
   "source": [
    "#### 5. integrál"
   ]
  },
  {
   "cell_type": "code",
   "execution_count": null,
   "metadata": {},
   "outputs": [],
   "source": [
    "int_5 = _x * sp.sin(C_1 * _x) * sp.sin(C_2 * _x)\n",
    "int_5"
   ]
  },
  {
   "cell_type": "code",
   "execution_count": null,
   "metadata": {
    "scrolled": true
   },
   "outputs": [],
   "source": [
    "result_5 = sp.integrate(int_5, (x, 0, L))\n",
    "result_5"
   ]
  },
  {
   "cell_type": "markdown",
   "metadata": {},
   "source": [
    "---"
   ]
  },
  {
   "cell_type": "markdown",
   "metadata": {},
   "source": [
    "A `sympy` segítségével megkapott alakok hosszúak, azonban a megfelelő helyettesítési értékek segítségével könnyen kiértékelhetőek. A számítás előtt az integrandusban szereplő konstans tagot kiemeltem, így a várható értékek helyes eredménye egy $2\\,/\\,L$-es szorzóval kapható meg."
   ]
  },
  {
   "cell_type": "markdown",
   "metadata": {},
   "source": [
    "Hogy valami konkrétat is mondjak, vegyük a doboz szélességét $L = 1$ nagyságúnak, a két állapot pedig legyen $a=1$ és $b=2$. A két konstans $C_{1} = a \\pi\\,/\\,L$ és $C_{2} = b \\pi\\,/\\,L$. Ekkor a várható értékek a következőek:"
   ]
  },
  {
   "cell_type": "code",
   "execution_count": null,
   "metadata": {},
   "outputs": [],
   "source": [
    "eval_1 = 2/1 * result_1.evalf(subs={L: 1, C_1: 1*np.pi / 1})\n",
    "eval_1"
   ]
  },
  {
   "cell_type": "code",
   "execution_count": null,
   "metadata": {},
   "outputs": [],
   "source": [
    "eval_2 = 2/1 * result_2.evalf(subs={L: 1, C_2: 2*np.pi / 1})\n",
    "eval_2"
   ]
  },
  {
   "cell_type": "code",
   "execution_count": null,
   "metadata": {},
   "outputs": [],
   "source": [
    "eval_3 = 2/1 * result_3.evalf(subs={L: 1, C_1: 1*np.pi / 1})\n",
    "eval_3"
   ]
  },
  {
   "cell_type": "code",
   "execution_count": null,
   "metadata": {},
   "outputs": [],
   "source": [
    "eval_4 = 2/1 * result_4.evalf(subs={L: 1, C_2: 2*np.pi / 1})\n",
    "eval_4"
   ]
  },
  {
   "cell_type": "code",
   "execution_count": null,
   "metadata": {},
   "outputs": [],
   "source": [
    "eval_5 = 2/1 * result_5.evalf(subs={L: 1, C_1: 1*np.pi / 1, C_2: 2*np.pi / 1})\n",
    "eval_5"
   ]
  },
  {
   "cell_type": "markdown",
   "metadata": {},
   "source": [
    "Ahol a négyzetes várható érték esetében, nagyon nagy $a$, vagy $b$ paraméterek értékére ezen $L$ mellett $1\\,/\\,3$-hoz tartanak."
   ]
  },
  {
   "cell_type": "code",
   "execution_count": null,
   "metadata": {},
   "outputs": [],
   "source": [
    "sp.limit(result_3, C_1, sp.oo)"
   ]
  },
  {
   "cell_type": "code",
   "execution_count": null,
   "metadata": {},
   "outputs": [],
   "source": [
    "N_values = np.arange(1,100,1)\n",
    "x_sq = [2 * result_3.evalf(subs={L: 1, C_1: N*np.pi / 1}) for N in N_values]"
   ]
  },
  {
   "cell_type": "code",
   "execution_count": null,
   "metadata": {},
   "outputs": [],
   "source": [
    "fig, axes = plt.subplots(figsize=(13,7))\n",
    "\n",
    "axislabelsize = 24\n",
    "axisticksize = 15\n",
    "axislegendsize = 18\n",
    "s_size = 5\n",
    "\n",
    "axes.scatter(N_values, x_sq,\n",
    "          color='tab:red', s=s_size**2)\n",
    "axes.plot(N_values, x_sq,\n",
    "          color='tab:red', lw=3, alpha = 0.4)\n",
    "axes.axhline(y=1/3, label='1/3',\n",
    "             color='tab:green', lw=3, ls='--', alpha=0.8)\n",
    "\n",
    "axes.set_xscale('log')\n",
    "\n",
    "axes.set_xlabel('$n$', fontsize=axislabelsize)\n",
    "axes.set_ylabel('$\\\\left< x^{2} \\\\right>_{n}$', fontsize=axislabelsize)\n",
    "axes.tick_params(axis='both', which='major', labelsize=axisticksize)\n",
    "\n",
    "axes.legend(loc='best', fontsize=axislegendsize)\n",
    "\n",
    "plt.show()"
   ]
  },
  {
   "cell_type": "markdown",
   "metadata": {},
   "source": [
    "A `sympy`-al történő számítás során megkaptuk az $\\left< x \\right>_{ab}$ és $\\left< x^{2} \\right>_{ab}$ értékeket, melyekkel kifejezhető válnak a kétrészecskés rendszer $\\left< x_{1}^{2} \\right>$, $\\left< x_{2}^{2} \\right>$ és $\\left< x_{1}, x_{2} \\right>$ várható értékei.\n",
    "\n",
    "Példaként a szeparáció $\\left( x_{1} - x_{2} \\right)^{2}$ várható értékére az alábbi értékeket kapjuk különböző $n$ szintek esetén a három különböző esetben:"
   ]
  },
  {
   "cell_type": "code",
   "execution_count": null,
   "metadata": {},
   "outputs": [],
   "source": [
    "def expectations(N_1, N_2):\n",
    "    \n",
    "    x_a = np.array([float(2 * result_1.evalf(subs={L: 1, C_1: N*np.pi / 1})) for N in N_1])\n",
    "    x_b = np.array([float(2 * result_2.evalf(subs={L: 1, C_2: N*np.pi / 1})) for N in N_2])\n",
    "    x_a_sq = np.array([float(2 * result_3.evalf(subs={L: 1, C_1: N*np.pi / 1})) for N in N_1])\n",
    "    x_b_sq = np.array([float(2 * result_4.evalf(subs={L: 1, C_2: N*np.pi / 1})) for N in N_2])\n",
    "    \n",
    "    return x_a, x_b, x_a_sq, x_b_sq"
   ]
  },
  {
   "cell_type": "code",
   "execution_count": null,
   "metadata": {},
   "outputs": [],
   "source": [
    "def expectation_extra(N_1, N_2):\n",
    "    \n",
    "    x_ab = np.zeros((len(N_1), len(N_2)))\n",
    "    for i, n_1 in enumerate(N_1):\n",
    "        for j, n_2 in enumerate(N_2):\n",
    "            result = float(2 * result_5.evalf(subs={L: 1, C_1: n_1*np.pi / 1, C_2: n_2*np.pi / 1}))\n",
    "            x_ab[i][j] = result\n",
    "    \n",
    "    return x_ab"
   ]
  },
  {
   "cell_type": "code",
   "execution_count": null,
   "metadata": {},
   "outputs": [],
   "source": [
    "def separation(N_1, N_2, mode='c'):\n",
    "    \n",
    "    c = mode.lower()[0]\n",
    "    assert c == 'c' or c == 'b' or c == 'f', \"Modes should be either 'classic' or 'boson' or 'fermion'!\"\n",
    "    \n",
    "    x_a, x_b, x_a_sq, x_b_sq = expectations(N_1, N_2)\n",
    "    \n",
    "    x_a = np.meshgrid(x_a, x_a)[0]\n",
    "    x_b = np.meshgrid(x_b, x_b)[0]\n",
    "    x_a_sq = np.meshgrid(x_a_sq, x_a_sq)[0]\n",
    "    x_b_sq = np.meshgrid(x_b_sq, x_b_sq)[0]\n",
    "    \n",
    "    if c == 'c':\n",
    "        return x_a_sq + x_b_sq - 2 * x_a * x_b\n",
    "        \n",
    "    elif c == 'b':\n",
    "        x_ab = expectation_extra(N_1, N_2)\n",
    "        return x_a_sq + x_b_sq - 2 * x_a * x_b - 2*(x_ab**2)\n",
    "        \n",
    "    elif c == 'f':\n",
    "        x_ab = expectation_extra(N_1, N_2)\n",
    "        return x_a_sq + x_b_sq - 2 * x_a * x_b + 2*(x_ab**2)"
   ]
  },
  {
   "cell_type": "code",
   "execution_count": null,
   "metadata": {},
   "outputs": [],
   "source": [
    "N = np.arange(1,100,1)"
   ]
  },
  {
   "cell_type": "code",
   "execution_count": null,
   "metadata": {},
   "outputs": [],
   "source": [
    "sep_class = separation(N, N, mode='c')"
   ]
  },
  {
   "cell_type": "code",
   "execution_count": null,
   "metadata": {},
   "outputs": [],
   "source": [
    "sep_boson = separation(N, N, mode='b')"
   ]
  },
  {
   "cell_type": "code",
   "execution_count": null,
   "metadata": {},
   "outputs": [],
   "source": [
    "sep_fermi = separation(N, N, mode='f')"
   ]
  },
  {
   "cell_type": "markdown",
   "metadata": {},
   "source": [
    "### Separations"
   ]
  },
  {
   "cell_type": "code",
   "execution_count": null,
   "metadata": {},
   "outputs": [],
   "source": [
    "N_1, N_2 = np.meshgrid(N,N)"
   ]
  },
  {
   "cell_type": "code",
   "execution_count": null,
   "metadata": {},
   "outputs": [],
   "source": [
    "def plot_separation(sep, save=False):\n",
    "\n",
    "    nrows = 1\n",
    "    ncols = 1\n",
    "    fig, axes = plt.subplots(nrows=nrows, ncols=ncols, figsize=(ncols*figsize_x,nrows*figsize_y),\n",
    "                             subplot_kw={'projection': '3d'})\n",
    "    axes.view_init(20, 240)\n",
    "\n",
    "    axislabelsize = 18\n",
    "    axisticksize = 12\n",
    "    axislabelpad = 19\n",
    "    axistickpad = 12\n",
    "\n",
    "    axes.plot_surface(N_1, N_2, np.nan_to_num(sep),\n",
    "                      rstride=1, cstride=1, cmap='magma', linewidth=0, antialiased=False)\n",
    "\n",
    "    axes.set_xlabel('$N_{1}$',\n",
    "                    labelpad=axislabelpad, fontsize=axislabelsize)\n",
    "    axes.set_ylabel('$N_{2}$',\n",
    "                    labelpad=axislabelpad, fontsize=axislabelsize)\n",
    "    axes.set_zlabel('$\\\\left< \\\\left( x_{1} - x_{2} \\\\right)^{2} \\\\right>$',\n",
    "                    labelpad=axislabelpad+5, fontsize=axislabelsize)\n",
    "\n",
    "    axes.tick_params(axis='both', which='major',\n",
    "                     pad=axistickpad, labelsize=axisticksize)\n",
    "\n",
    "    if save:\n",
    "        fig.savefig(figsave_dir +\n",
    "                    'separation.png')\n",
    "\n",
    "    plt.show()"
   ]
  },
  {
   "cell_type": "markdown",
   "metadata": {},
   "source": [
    "#### Classical case"
   ]
  },
  {
   "cell_type": "code",
   "execution_count": null,
   "metadata": {},
   "outputs": [],
   "source": [
    "plot_separation(sep_class, save=False)"
   ]
  },
  {
   "cell_type": "markdown",
   "metadata": {},
   "source": [
    "### Bosons"
   ]
  },
  {
   "cell_type": "code",
   "execution_count": null,
   "metadata": {},
   "outputs": [],
   "source": [
    "plot_separation(sep_boson, save=False)"
   ]
  },
  {
   "cell_type": "markdown",
   "metadata": {},
   "source": [
    "### Fermions"
   ]
  },
  {
   "cell_type": "code",
   "execution_count": null,
   "metadata": {},
   "outputs": [],
   "source": [
    "plot_separation(sep_fermi, save=False)"
   ]
  },
  {
   "cell_type": "markdown",
   "metadata": {},
   "source": [
    "Szerintem a plottok bal oldalán levő levágás csak valamilyen numerikus hiba, elég fura lenne egy ilyen szimmetriatörés konzekvensen mindegyiknél... Valamint ha a két N érték megegyezik akkor mindegyik esetben érthetően furcsa dolgok jönnek elő."
   ]
  }
 ],
 "metadata": {
  "kernelspec": {
   "display_name": "Python 3 (ipykernel)",
   "language": "python",
   "name": "python3"
  },
  "language_info": {
   "codemirror_mode": {
    "name": "ipython",
    "version": 3
   },
   "file_extension": ".py",
   "mimetype": "text/x-python",
   "name": "python",
   "nbconvert_exporter": "python",
   "pygments_lexer": "ipython3",
   "version": "3.11.6"
  }
 },
 "nbformat": 4,
 "nbformat_minor": 4
}
