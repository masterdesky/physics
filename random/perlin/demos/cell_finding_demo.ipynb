{
 "cells": [
  {
   "cell_type": "markdown",
   "id": "b9c59e8c-a280-4485-8f84-a22933c0f815",
   "metadata": {},
   "source": [
    "# Cell finding demo"
   ]
  },
  {
   "cell_type": "code",
   "execution_count": null,
   "id": "3704fe60-7e8a-4230-858a-8f16ed7e54d0",
   "metadata": {},
   "outputs": [],
   "source": [
    "import numpy as np\n",
    "import matplotlib.pyplot as plt"
   ]
  },
  {
   "cell_type": "code",
   "execution_count": null,
   "id": "63b04d8e-dc30-4ac2-a1d3-402195bba24b",
   "metadata": {},
   "outputs": [],
   "source": [
    "nrows = 3\n",
    "ncols = 6\n",
    "res = 30"
   ]
  },
  {
   "cell_type": "code",
   "execution_count": null,
   "id": "14578210-9551-4e37-8caa-fefc531871e2",
   "metadata": {},
   "outputs": [],
   "source": [
    "def set_grid(nrows, ncols, stepx, stepy):\n",
    "    grid = np.zeros((nrows*ncols, 2))\n",
    "    # Calculate coordinates of grid points\n",
    "    for i in range(nrows):\n",
    "        for j in range(ncols):\n",
    "            grid[i * ncols + j] = np.array((j*stepx, i*stepy))\n",
    "            \n",
    "    return grid"
   ]
  },
  {
   "cell_type": "markdown",
   "id": "b368b404-6f8d-490c-b327-058b1c089b1e",
   "metadata": {},
   "source": [
    "## 1. Finding main grid cells"
   ]
  },
  {
   "cell_type": "code",
   "execution_count": null,
   "id": "66bc91a0-ebbf-465d-b6df-c7f323b20ed4",
   "metadata": {},
   "outputs": [],
   "source": [
    "def set_cell_corners(nrows, ncols):\n",
    "    crows = nrows - 1\n",
    "    ccols = ncols - 1\n",
    "    cell_corners = np.zeros((crows*ccols,4), dtype=int)\n",
    "    \n",
    "    #Iterate over all points, except the last row and the last column.\n",
    "    #The iteration is basically over the possible upper left corners for a cell.\n",
    "    for i in range(crows):\n",
    "        for j in range(ccols):\n",
    "            idx = i * ccols + j\n",
    "            c = i * ncols + j\n",
    "\n",
    "            cell_corners[idx] = np.array((c, c+1, c+ncols, c+ncols+1))\n",
    "            \n",
    "    return cell_corners"
   ]
  },
  {
   "cell_type": "code",
   "execution_count": null,
   "id": "c90ef49e-07ab-4b49-bfd3-dd02837c83df",
   "metadata": {},
   "outputs": [],
   "source": [
    "def get_current_cell(p, nrows, ncols,\n",
    "                     cell_corners):\n",
    "    ix = (int)(p[0])\n",
    "    iy = (int)(p[1])\n",
    "    # Correct for points on borders\n",
    "    if(ix == ncols-1): ix = ncols-2\n",
    "    if(iy == nrows-1): iy = nrows-2\n",
    "\n",
    "    return cell_corners[iy * (ncols-1) + ix]"
   ]
  },
  {
   "cell_type": "code",
   "execution_count": null,
   "id": "f41edfc8-b735-4f08-837e-e66c4ee1c587",
   "metadata": {},
   "outputs": [],
   "source": [
    "p = np.array((0.314*ncols, 0.35*nrows))\n",
    "\n",
    "main_grid = set_grid(nrows, ncols, 1, 1)\n",
    "cell_corners = set_cell_corners(nrows, ncols)\n",
    "cell = get_current_cell(p, nrows, ncols,\n",
    "                        cell_corners)"
   ]
  },
  {
   "cell_type": "code",
   "execution_count": null,
   "id": "81f35dbf-a484-4094-8d5e-7df756243150",
   "metadata": {},
   "outputs": [],
   "source": [
    "fig, ax = plt.subplots(figsize=(10, 10), dpi=120)\n",
    "ax.set_aspect('equal')\n",
    "ax.axis(False)\n",
    "\n",
    "ax.scatter(main_grid[:, 0], main_grid[:, 1],\n",
    "           color='grey', s=8**2, zorder=2)\n",
    "\n",
    "for c in cell:\n",
    "    ax.scatter(main_grid[c, 0], main_grid[c, 1],\n",
    "               color='tab:green', s=10**2, zorder=3)\n",
    "\n",
    "for i in range(ncols):\n",
    "    ax.plot([i, i], [0, nrows-1],\n",
    "            color='grey', ls='--', lw=2, zorder=1)\n",
    "for i in range(nrows):\n",
    "    ax.plot([0, ncols-1], [i, i],\n",
    "            color='grey', ls='--', lw=2, zorder=1)\n",
    "    \n",
    "ax.scatter(p[0], p[1],\n",
    "           color='tab:red', marker='x', lw=4, s=15**2, zorder=4)\n",
    "    \n",
    "plt.show()"
   ]
  },
  {
   "cell_type": "markdown",
   "id": "46115057-922d-4f68-bed3-d9eef3b49fc6",
   "metadata": {},
   "source": [
    "## 2. Finding subgrid cells"
   ]
  },
  {
   "cell_type": "code",
   "execution_count": null,
   "id": "8f597ef7-7964-46e4-82db-a7ce7f10dd93",
   "metadata": {},
   "outputs": [],
   "source": [
    "def set_sub_cell_corners(nrows, ncols, res):\n",
    "    crows = res-1\n",
    "    ccols = res-1\n",
    "    sub_cell_corners = np.zeros((crows*ccols,4), dtype=int)\n",
    "    \n",
    "    # Iterate over all points, except the last row and the last column.\n",
    "    # The iteration is basically over the possible upper left corners for a cell.\n",
    "    for i in range(crows):\n",
    "        for j in range(ccols):\n",
    "            idx = i * ccols + j\n",
    "            c = i * (ccols+1) + j\n",
    "\n",
    "            sub_cell_corners[idx] = np.array((c, c+1, c+ccols+1, c+ccols+2))\n",
    "            \n",
    "    return sub_cell_corners"
   ]
  },
  {
   "cell_type": "code",
   "execution_count": null,
   "id": "36ac40ba-115e-48c8-b0c7-adcd5ad152c3",
   "metadata": {},
   "outputs": [],
   "source": [
    "def get_current_sub_cell(p, nrows, ncols, res,\n",
    "                         sub_cell_corners):\n",
    "    ix = (int)(p[0] / ((ncols-1)/(res-1)))\n",
    "    iy = (int)(p[1] / ((nrows-1)/(res-1)))\n",
    "\n",
    "    snrows = res\n",
    "    sncols = res\n",
    "    # Correct for points on borders\n",
    "    if(ix == sncols-1): ix = sncols-2\n",
    "    if(iy == snrows-1): iy = snrows-2\n",
    "\n",
    "    return sub_cell_corners[iy * (sncols-1) + ix]"
   ]
  },
  {
   "cell_type": "code",
   "execution_count": null,
   "id": "f7458055-c537-44c7-ad31-3cc03bd8b4c7",
   "metadata": {},
   "outputs": [],
   "source": [
    "p = np.array((0.314*ncols, 0.35*nrows))\n",
    "\n",
    "sub_grid = set_grid(res, res, (ncols-1)/(res-1), (nrows-1)/(res-1))\n",
    "sub_cell_corners = set_sub_cell_corners(nrows, ncols, res)\n",
    "sub_cell = get_current_sub_cell(p, nrows, ncols, res,\n",
    "                                sub_cell_corners)"
   ]
  },
  {
   "cell_type": "code",
   "execution_count": null,
   "id": "65ee5054-99bd-4bff-a2ef-faddcb0ccf6d",
   "metadata": {},
   "outputs": [],
   "source": [
    "fig, ax = plt.subplots(figsize=(10, 10), dpi=120)\n",
    "ax.set_aspect('equal')\n",
    "ax.axis(False)\n",
    "\n",
    "ax.scatter(main_grid[:,0], main_grid[:,1],\n",
    "           color='grey', s=8**2, zorder=2)\n",
    "ax.scatter(sub_grid[:,0], sub_grid[:,1],\n",
    "           color='grey', s=2**2, zorder=2)\n",
    "\n",
    "#for c in sub_cell:\n",
    "for c in sub_cell:\n",
    "    ax.scatter(sub_grid[c,0], sub_grid[c,1],\n",
    "               color='tab:green', s=4**2, zorder=3)\n",
    "\n",
    "for i in range(ncols):\n",
    "    ax.plot([i, i], [0, nrows-1],\n",
    "            color='grey', ls='--', lw=2, zorder=1)\n",
    "for i in range(nrows):\n",
    "    ax.plot([0, ncols-1], [i, i],\n",
    "            color='grey', ls='--', lw=2, zorder=1)\n",
    "    \n",
    "ax.scatter(p[0], p[1],\n",
    "           color='tab:red', marker='x', lw=2, s=6**2, zorder=4)\n",
    "    \n",
    "plt.show()"
   ]
  },
  {
   "cell_type": "code",
   "execution_count": null,
   "id": "f8f506d7-5234-41d4-9e73-8234652ad218",
   "metadata": {},
   "outputs": [],
   "source": []
  },
  {
   "cell_type": "code",
   "execution_count": null,
   "id": "1c2fce95-55b1-41e8-a2cd-4decebefc2b9",
   "metadata": {},
   "outputs": [],
   "source": []
  }
 ],
 "metadata": {
  "kernelspec": {
   "display_name": "Python 3 (ipykernel)",
   "language": "python",
   "name": "python3"
  },
  "language_info": {
   "codemirror_mode": {
    "name": "ipython",
    "version": 3
   },
   "file_extension": ".py",
   "mimetype": "text/x-python",
   "name": "python",
   "nbconvert_exporter": "python",
   "pygments_lexer": "ipython3",
   "version": "3.11.4"
  }
 },
 "nbformat": 4,
 "nbformat_minor": 5
}
