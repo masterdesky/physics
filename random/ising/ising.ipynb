{
 "cells": [
  {
   "cell_type": "markdown",
   "id": "6bb6ba94-bd78-4123-aebe-5989dbcc9e72",
   "metadata": {},
   "source": [
    "# Ising model simulation with Monte Carlo method"
   ]
  },
  {
   "cell_type": "code",
   "execution_count": null,
   "id": "0074e97f-0167-44cf-bb9c-ce2b572e7970",
   "metadata": {
    "tags": []
   },
   "outputs": [],
   "source": [
    "import os\n",
    "import shutil\n",
    "import numpy as np\n",
    "import multiprocessing\n",
    "from functools import partial\n",
    "\n",
    "import matplotlib as mpl\n",
    "import matplotlib.pyplot as plt"
   ]
  },
  {
   "cell_type": "code",
   "execution_count": null,
   "id": "621ebb77-51f8-46c8-b6e7-edfc1f5bfc00",
   "metadata": {
    "tags": []
   },
   "outputs": [],
   "source": [
    "fdir = './out/ising/'\n",
    "ffmt = 'pdf'\n",
    "fdpi = 120"
   ]
  },
  {
   "cell_type": "code",
   "execution_count": null,
   "id": "7cf2437a-0b71-473b-86cc-6168d9e235cb",
   "metadata": {
    "tags": []
   },
   "outputs": [],
   "source": [
    "def get_random_spins(size=None):\n",
    "    '''\n",
    "    Returns an array filled with +1 and -1 values, randomly sampled from\n",
    "    a uniform distribution.\n",
    "    '''\n",
    "    return np.sign(np.random.random(size) - 0.5)"
   ]
  },
  {
   "cell_type": "code",
   "execution_count": null,
   "id": "439d4f4a-91d1-462d-9387-0b29fc3365a5",
   "metadata": {
    "tags": []
   },
   "outputs": [],
   "source": [
    "def e_i(s_i, s_j, J=1):\n",
    "    '''\n",
    "    Calculates the interaction energy between two spins.\n",
    "    '''\n",
    "    return -J * s_i * s_j"
   ]
  },
  {
   "cell_type": "code",
   "execution_count": null,
   "id": "85bba7ea-950d-494e-8727-8517ca6d8656",
   "metadata": {
    "tags": []
   },
   "outputs": [],
   "source": [
    "def calc_E(S, J=1, h=0):\n",
    "    '''\n",
    "    Calculates the total energy for a given spin configuration.\n",
    "    '''\n",
    "    # Size of the lattice\n",
    "    Nr, Nc = S.shape[0], S.shape[1]\n",
    "    # Relative indexes of neighbouring spins\n",
    "    nb = np.array((-1, -Nc, 1, Nc))\n",
    "    # Flattened indexes\n",
    "    k = np.arange(0, S.size)\n",
    "    k_nb = (np.repeat(k[:, np.newaxis], 4, axis=1) - nb) % (Nr*Nc)\n",
    "\n",
    "    # Calculate E = -J * Sum_{<i,j>} s_i s_j - h * Sum_{i} s_i\n",
    "    Sij = np.sum(np.multiply(S.reshape(-1, 1), S.flat[k_nb]), axis=1)\n",
    "    E = -J*np.sum(Sij) / 4 - np.sum(h*S.flat[k])\n",
    "\n",
    "    return E"
   ]
  },
  {
   "cell_type": "code",
   "execution_count": null,
   "id": "3f355d19-8251-43ec-a2e5-abe63e2acf08",
   "metadata": {},
   "outputs": [],
   "source": [
    "def calc_m(S):\n",
    "    '''\n",
    "    Calculates the total magnetization for a given spin configuration.\n",
    "    '''\n",
    "    return np.sum(S)"
   ]
  },
  {
   "cell_type": "code",
   "execution_count": null,
   "id": "70eb7062-0cf2-46ad-b465-0fe36343b501",
   "metadata": {
    "tags": []
   },
   "outputs": [],
   "source": [
    "def delta_E(S, i, j, J=1, h=0):\n",
    "    '''\n",
    "    Calculate the energy change after the flip of the (i, j) spin.\n",
    "    '''\n",
    "    # Size of the lattice\n",
    "    Nr, Nc = S.shape[0], S.shape[1]\n",
    "    # Relative indexes of neighbouring spins\n",
    "    nb = np.array((-1, -Nc, 1, Nc))\n",
    "\n",
    "    # Flattened indexes\n",
    "    k = i*Nc + j\n",
    "    k_nb = (k - nb) % (Nr*Nc)\n",
    "\n",
    "    # Calculate the energy change\n",
    "    dE = 2*J*np.sum(S.flat[k] * S.flat[k_nb]) + 2*h*S.flat[k]\n",
    "\n",
    "    return dE"
   ]
  },
  {
   "cell_type": "code",
   "execution_count": null,
   "id": "4687661c-88de-4d65-88ad-594c38b0df1b",
   "metadata": {
    "tags": []
   },
   "outputs": [],
   "source": [
    "def mcmc_step(S, beta=0.01, J=1, h=0):\n",
    "\n",
    "    # Choose random indexes\n",
    "    i = np.random.randint(0, S.shape[0])\n",
    "    j = np.random.randint(0, S.shape[1])\n",
    "\n",
    "    # Calculate energy difference on flip of spin_ij\n",
    "    dE = delta_E(S, i, j, J, h)\n",
    "\n",
    "    # If dE < 0, then execute the flip\n",
    "    if(dE < 0):\n",
    "        S[i, j] *= -1\n",
    "    # If dE == 0, then randomly flip the spin\n",
    "    elif(dE == 0):\n",
    "        S[i, j] *= get_random_spins()\n",
    "    # If dE > 0, choose a random number R, between 0 and 1\n",
    "    # If R < e^(-beta * dE), then execute the spin flip\n",
    "    # If not, then leave the spins' state untouched and continue with the next step\n",
    "    elif(np.random.random() < np.exp(-beta * dE)):\n",
    "        S[i, j] *= -1\n",
    "\n",
    "    return S"
   ]
  },
  {
   "cell_type": "code",
   "execution_count": null,
   "id": "456c53a0-7c97-444d-a485-975753e397e7",
   "metadata": {
    "tags": []
   },
   "outputs": [],
   "source": [
    "def mcmc(S, T, J, h, N_iter=1_000, save=False):\n",
    "\n",
    "    # Calculate the dimensionless thermodynamic beta\n",
    "    beta = 1 / T\n",
    "\n",
    "    S_n = S.copy()\n",
    "    for _ in range(N_iter):\n",
    "        S_n = mcmc_step(S_n, beta=beta, J=J, h=h)\n",
    "\n",
    "    if save:\n",
    "        os.makedirs(fdir, exist_ok=True)\n",
    "        np.save(file=os.path.join(fdir, f'spins_T{T}'), arr=S_n)\n",
    "\n",
    "    return S_n"
   ]
  },
  {
   "cell_type": "code",
   "execution_count": null,
   "id": "80d860d5-65f4-43b8-a1aa-57dd72cebd2c",
   "metadata": {
    "tags": []
   },
   "outputs": [],
   "source": [
    "Ts = np.array([0.1, 1.5, 2.5, 5])  # Temperature values\n",
    "Nr, Nc = 400, 400  # Size of lattice\n",
    "# The current positions of the spins\n",
    "S = get_random_spins((Nr, Nc))\n",
    "J = 1  # Coupling parameter (dimensionless)\n",
    "h = 0  # External magnetic field\n",
    "N_iter = 10_000_000  # Number of iterations"
   ]
  },
  {
   "cell_type": "code",
   "execution_count": null,
   "id": "b8f724dc-7c84-41c6-b988-bed047d530a4",
   "metadata": {},
   "outputs": [],
   "source": [
    "%%time\n",
    "partial_mcmc = partial(mcmc, S, J=J, h=h, N_iter=N_iter, save=True)\n",
    "with multiprocessing.Pool(processes=4) as pool:\n",
    "    Ss = pool.map(partial_mcmc, Ts)"
   ]
  },
  {
   "cell_type": "code",
   "execution_count": null,
   "id": "e7b30a2f-5707-45b4-9d6a-7f79f1dbf4e2",
   "metadata": {
    "tags": []
   },
   "outputs": [],
   "source": [
    "nrows, ncols = 1, Ts.size\n",
    "fig, axes = plt.subplots(nrows, ncols, figsize=(ncols*7, nrows*7),\n",
    "                         facecolor='ghostwhite')\n",
    "fig.subplots_adjust(wspace=0.0)\n",
    "\n",
    "spin_files = {\n",
    "  f.split('T')[1].split('.npy')[0] : f for f in os.listdir(fdir) if '.npy' in f\n",
    "}\n",
    "for T, ax in zip(Ts, axes.flat):\n",
    "    ax.axis('off')\n",
    "\n",
    "    spins_n = np.load(file=os.path.join(fdir, spin_files[f'{T}']))\n",
    "    ax.imshow(spins_n, cmap='Greys', interpolation='none')\n",
    "    ax.set_title(f'{T = } K',\n",
    "                 fontsize=16, fontweight='bold')\n",
    "plt.show()"
   ]
  },
  {
   "cell_type": "markdown",
   "id": "a84548c7-423a-4010-8f5f-1d93ab80d0ad",
   "metadata": {},
   "source": [
    "## Temperature dependence of energy and magnetization"
   ]
  },
  {
   "cell_type": "code",
   "execution_count": null,
   "id": "9698f489-8a81-4a69-b700-2a3017d45d4c",
   "metadata": {
    "tags": []
   },
   "outputs": [],
   "source": [
    "def mcmc_ms(S, T, J, h, N_iter=1_000):\n",
    "\n",
    "    # Calculate the dimensionless thermodynamic beta\n",
    "    beta = 1 / T\n",
    "\n",
    "    # Storage for the measured physical values\n",
    "    E = m = 0\n",
    "\n",
    "    S_n = S.copy()\n",
    "    for _ in range(N_iter):\n",
    "        S_n = mcmc_step(S_n, beta=beta, J=J, h=h)\n",
    "        E += calc_E(S_n, J=J, h=h)\n",
    "        m += calc_m(S_n)\n",
    "\n",
    "    return (E/N_iter, m/N_iter)"
   ]
  },
  {
   "cell_type": "code",
   "execution_count": null,
   "id": "798a5b32-2dc5-440b-8b6e-da646542358c",
   "metadata": {},
   "outputs": [],
   "source": [
    "%%time\n",
    "# Temperature values\n",
    "Ts = np.linspace(0.01, 10, 100)\n",
    "# Size of the spin configuration\n",
    "Nr, Nc = 50, 50\n",
    "# The current positions of the spins\n",
    "S = get_random_spins((Nr, Nc))\n",
    "\n",
    "J = 1  # Coupling parameter (dimensionless)\n",
    "h = 0  # External magnetic field"
   ]
  },
  {
   "cell_type": "code",
   "execution_count": null,
   "id": "1fe059f3-6852-4f59-b4bd-4d19785ae4ac",
   "metadata": {},
   "outputs": [],
   "source": [
    "# Number of iterations to find the equilibrium\n",
    "N_iter_eq = 100_000\n",
    "\n",
    "partial_mcmc_eq = partial(mcmc, S, J=J, h=h, N_iter=N_iter_eq, save=True)\n",
    "with multiprocessing.Pool(processes=8) as pool:\n",
    "    _ = pool.map(partial_mcmc_eq, Ts)\n",
    "#Ss = np.array(Ss)"
   ]
  },
  {
   "cell_type": "code",
   "execution_count": null,
   "id": "61bbd067-01b3-465f-980b-77b965aa6f59",
   "metadata": {},
   "outputs": [],
   "source": [
    "# Numnber of iteration to measure the physical parameters\n",
    "N_iter_ms = 50_000\n",
    "\n",
    "partial_mcmc_ms = partial(mcmc_ms, S, J=J, h=h, N_iter=N_iter_ms)\n",
    "with multiprocessing.Pool(processes=8) as pool:\n",
    "    M = pool.map(partial_mcmc_ms, Ts)\n",
    "M = np.array(M)"
   ]
  },
  {
   "cell_type": "code",
   "execution_count": null,
   "id": "9e89b847-d0c3-41e1-83ea-e365159eaaca",
   "metadata": {},
   "outputs": [],
   "source": [
    "E = M[:, 0]/(Nr*Nc)\n",
    "m = M[:, 1]/(Nr*Nc)"
   ]
  },
  {
   "cell_type": "code",
   "execution_count": null,
   "id": "4c5f7adc-53b6-401c-84c6-77cb2f6c0256",
   "metadata": {},
   "outputs": [],
   "source": [
    "nr, nc = 1, 2\n",
    "fig, axes = plt.subplots(nr, nc, figsize=(nc*7, nr*5), dpi=120)\n",
    "axes = axes.flat\n",
    "for ax in axes:\n",
    "    ax.grid(True, ls='--', alpha=0.6)\n",
    "\n",
    "axes[0].scatter(Ts, E, s=36)\n",
    "axes[0].set_xlabel('Temperature', fontsize=16, fontweight='bold')\n",
    "axes[0].set_ylabel('Energy', fontsize=16, fontweight='bold')\n",
    "\n",
    "axes[1].scatter(Ts, m, s=36)\n",
    "axes[1].set_xlabel('Temperature', fontsize=16, fontweight='bold')\n",
    "axes[1].set_ylabel('Magnetization', fontsize=16, fontweight='bold')\n",
    "\n",
    "plt.show()"
   ]
  }
 ],
 "metadata": {
  "kernelspec": {
   "display_name": "Python 3 (ipykernel)",
   "language": "python",
   "name": "python3"
  },
  "language_info": {
   "codemirror_mode": {
    "name": "ipython",
    "version": 3
   },
   "file_extension": ".py",
   "mimetype": "text/x-python",
   "name": "python",
   "nbconvert_exporter": "python",
   "pygments_lexer": "ipython3",
   "version": "3.11.6"
  }
 },
 "nbformat": 4,
 "nbformat_minor": 5
}
