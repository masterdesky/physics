{
 "cells": [
  {
   "cell_type": "code",
   "execution_count": 1,
   "metadata": {},
   "outputs": [],
   "source": [
    "import os\n",
    "import cv2\n",
    "import numpy as np\n",
    "from natsort import natsorted"
   ]
  },
  {
   "cell_type": "code",
   "execution_count": 2,
   "metadata": {},
   "outputs": [],
   "source": [
    "images_path = 'D:\\\\gaia_dr2\\\\HighRes\\\\out\\\\'"
   ]
  },
  {
   "cell_type": "code",
   "execution_count": 3,
   "metadata": {},
   "outputs": [],
   "source": [
    "slices = natsorted(os.listdir(images_path), key=lambda y: y.lower())"
   ]
  },
  {
   "cell_type": "code",
   "execution_count": 5,
   "metadata": {},
   "outputs": [],
   "source": [
    "i = 0\n",
    "slices_1 = []\n",
    "slices_2 = []\n",
    "for sl in slices:\n",
    "    current = sl.split('.')[0].split('_')[1:]\n",
    "    if all(int(i) <= 180 for i in current):\n",
    "        slices_1.append(sl)\n",
    "    elif all(int(i) >= 180 for i in current):\n",
    "        slices_2.append(sl)"
   ]
  },
  {
   "cell_type": "code",
   "execution_count": 6,
   "metadata": {},
   "outputs": [],
   "source": [
    "images_1 = [cv2.imread(images_path + i) for i in slices_1]\n",
    "images_2 = [cv2.imread(images_path + i) for i in slices_2]"
   ]
  },
  {
   "cell_type": "code",
   "execution_count": 7,
   "metadata": {},
   "outputs": [],
   "source": [
    "im_h = cv2.hconcat(images_1)\n",
    "cv2.imwrite('D:\\\\gaia_dr2\\\\HighRes\\\\finished\\\\galaxy1.png', im_h)\n",
    "del images_1\n",
    "\n",
    "im_h = cv2.hconcat(images_2)\n",
    "cv2.imwrite('D:\\\\gaia_dr2\\\\HighRes\\\\finished\\\\galaxy2.png', im_h)\n",
    "del images_2\n",
    "\n",
    "del im_h"
   ]
  },
  {
   "cell_type": "code",
   "execution_count": 8,
   "metadata": {},
   "outputs": [
    {
     "data": {
      "text/plain": [
       "True"
      ]
     },
     "execution_count": 8,
     "metadata": {},
     "output_type": "execute_result"
    }
   ],
   "source": [
    "galaxy_left = cv2.imread('D:\\\\gaia_dr2\\\\HighRes\\\\finished\\\\galaxy2_small.png')\n",
    "galaxy_right = cv2.imread('D:\\\\gaia_dr2\\\\HighRes\\\\finished\\\\galaxy1_small.png')\n",
    "\n",
    "im_h = cv2.flip(cv2.hconcat([galaxy_left, galaxy_right]), 1)\n",
    "cv2.imwrite('D:\\\\gaia_dr2\\\\HighRes\\\\finished\\\\galaxy_small.png', im_h)"
   ]
  },
  {
   "cell_type": "code",
   "execution_count": null,
   "metadata": {},
   "outputs": [],
   "source": []
  }
 ],
 "metadata": {
  "kernelspec": {
   "display_name": "Python 3",
   "language": "python",
   "name": "python3"
  },
  "language_info": {
   "codemirror_mode": {
    "name": "ipython",
    "version": 3
   },
   "file_extension": ".py",
   "mimetype": "text/x-python",
   "name": "python",
   "nbconvert_exporter": "python",
   "pygments_lexer": "ipython3",
   "version": "3.7.6"
  }
 },
 "nbformat": 4,
 "nbformat_minor": 4
}
