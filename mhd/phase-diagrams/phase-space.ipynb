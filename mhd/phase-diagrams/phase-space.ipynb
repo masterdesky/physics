{
 "cells": [
  {
   "cell_type": "markdown",
   "id": "4fcfd224-2bb0-46f6-80a4-b569ab98c2fe",
   "metadata": {},
   "source": [
    "# Group and phase diagrams of MHD waves\n",
    "\n"
   ]
  }
 ],
 "metadata": {
  "kernelspec": {
   "display_name": "Python 3 (ipykernel)",
   "language": "python",
   "name": "python3"
  },
  "language_info": {
   "codemirror_mode": {
    "name": "ipython",
    "version": 3
   },
   "file_extension": ".py",
   "mimetype": "text/x-python",
   "name": "python",
   "nbconvert_exporter": "python",
   "pygments_lexer": "ipython3",
   "version": "3.11.3"
  }
 },
 "nbformat": 4,
 "nbformat_minor": 5
}
