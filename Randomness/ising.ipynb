{
 "cells": [
  {
   "cell_type": "markdown",
   "id": "6bb6ba94-bd78-4123-aebe-5989dbcc9e72",
   "metadata": {},
   "source": [
    "# Ising model simulation with Monte Carlo method"
   ]
  },
  {
   "cell_type": "code",
   "execution_count": 53,
   "id": "0074e97f-0167-44cf-bb9c-ce2b572e7970",
   "metadata": {
    "execution": {
     "iopub.execute_input": "2021-11-17T10:16:25.641544Z",
     "iopub.status.busy": "2021-11-17T10:16:25.641544Z",
     "iopub.status.idle": "2021-11-17T10:16:25.655531Z",
     "shell.execute_reply": "2021-11-17T10:16:25.655531Z",
     "shell.execute_reply.started": "2021-11-17T10:16:25.641544Z"
    },
    "tags": []
   },
   "outputs": [],
   "source": [
    "import os\n",
    "import shutil\n",
    "import numpy as np\n",
    "\n",
    "import seaborn as sns\n",
    "import matplotlib as mpl\n",
    "import matplotlib.pyplot as plt\n",
    "from joblib import Parallel, delayed"
   ]
  },
  {
   "cell_type": "code",
   "execution_count": 3,
   "id": "621ebb77-51f8-46c8-b6e7-edfc1f5bfc00",
   "metadata": {
    "execution": {
     "iopub.execute_input": "2021-11-17T09:30:48.786579Z",
     "iopub.status.busy": "2021-11-17T09:30:48.785582Z",
     "iopub.status.idle": "2021-11-17T09:30:48.800542Z",
     "shell.execute_reply": "2021-11-17T09:30:48.800542Z",
     "shell.execute_reply.started": "2021-11-17T09:30:48.786579Z"
    }
   },
   "outputs": [],
   "source": [
    "fdir = './out/ising/'\n",
    "ffmt = 'pdf'\n",
    "fdpi = 150\n",
    "\n",
    "axistitlesize = 26\n",
    "axisticksize = 23\n",
    "axislabelsize = 26\n",
    "axislegendsize = 23\n",
    "axistextsize = 20\n",
    "axiscbarfontsize = 15\n",
    "sc = 10\n",
    "\n",
    "# Set axtick dimensions\n",
    "major_size = 6\n",
    "major_width = 1.2\n",
    "minor_size = 3\n",
    "minor_width = 1\n",
    "mpl.rcParams['xtick.major.size'] = major_size\n",
    "mpl.rcParams['xtick.major.width'] = major_width\n",
    "mpl.rcParams['xtick.minor.size'] = minor_size\n",
    "mpl.rcParams['xtick.minor.width'] = minor_width\n",
    "mpl.rcParams['ytick.major.size'] = major_size\n",
    "mpl.rcParams['ytick.major.width'] = major_width\n",
    "mpl.rcParams['ytick.minor.size'] = minor_size\n",
    "mpl.rcParams['ytick.minor.width'] = minor_width\n",
    "\n",
    "mpl.rcParams.update({'figure.autolayout': False})\n",
    "\n",
    "# Seaborn style settings\n",
    "sns.set_style({'axes.axisbelow': True,\n",
    "               'axes.edgecolor': '.8',\n",
    "               'axes.facecolor': 'white',\n",
    "               'axes.grid': False,\n",
    "               'axes.labelcolor': '.15',\n",
    "               'axes.spines.bottom': True,\n",
    "               'axes.spines.left': True,\n",
    "               'axes.spines.right': True,\n",
    "               'axes.spines.top': True,\n",
    "               'figure.facecolor': 'white',\n",
    "               'grid.color': '.8',\n",
    "               'grid.linestyle': '--',\n",
    "               'image.cmap': 'rocket',\n",
    "               'lines.solid_capstyle': 'round',\n",
    "               'patch.edgecolor': 'w',\n",
    "               'patch.force_edgecolor': True,\n",
    "               'text.color': '.15',\n",
    "               'xtick.bottom': True,\n",
    "               'xtick.color': '.15',\n",
    "               'xtick.direction': 'in',\n",
    "               'xtick.top': True,\n",
    "               'ytick.color': '.15',\n",
    "               'ytick.direction': 'in',\n",
    "               'ytick.left': True,\n",
    "               'ytick.right': True})\n",
    "\n",
    "# Colorpalettes, colormaps, etc.\n",
    "sns.set_palette(palette='rocket')"
   ]
  },
  {
   "cell_type": "markdown",
   "id": "1b6e01bb-eb10-49b1-9a7a-5e29725895e9",
   "metadata": {},
   "source": [
    "## Characteristic parameters of the system"
   ]
  },
  {
   "cell_type": "code",
   "execution_count": 14,
   "id": "309f0b97-f893-4fe1-8973-524c62587d53",
   "metadata": {
    "execution": {
     "iopub.execute_input": "2021-11-17T09:32:42.457785Z",
     "iopub.status.busy": "2021-11-17T09:32:42.457785Z",
     "iopub.status.idle": "2021-11-17T09:32:42.468752Z",
     "shell.execute_reply": "2021-11-17T09:32:42.468752Z",
     "shell.execute_reply.started": "2021-11-17T09:32:42.457785Z"
    },
    "tags": []
   },
   "outputs": [],
   "source": [
    "k_B = 1.380648e-23    # Boltzmann constant\n",
    "h = 0                 # External magnetic field\n",
    "J = 1                 # Arbitrary J\n",
    "T = 200               # Temperature\n",
    "beta = 1 / (k_B * T)  # Characteristic value"
   ]
  },
  {
   "cell_type": "markdown",
   "id": "f6e45934-a430-49b2-ac8e-0a9cb236da06",
   "metadata": {},
   "source": [
    "## Random +1 or -1"
   ]
  },
  {
   "cell_type": "code",
   "execution_count": 6,
   "id": "7cf2437a-0b71-473b-86cc-6168d9e235cb",
   "metadata": {
    "execution": {
     "iopub.execute_input": "2021-11-17T09:31:10.617124Z",
     "iopub.status.busy": "2021-11-17T09:31:10.617124Z",
     "iopub.status.idle": "2021-11-17T09:31:10.624105Z",
     "shell.execute_reply": "2021-11-17T09:31:10.624105Z",
     "shell.execute_reply.started": "2021-11-17T09:31:10.617124Z"
    }
   },
   "outputs": [],
   "source": [
    "def get_random_spins(size):\n",
    "  return np.sign(np.random.random(size) - 0.5)"
   ]
  },
  {
   "cell_type": "markdown",
   "id": "74b3562b-0a58-488c-b061-55f9ad478bf1",
   "metadata": {},
   "source": [
    "# Ising model simulation on 2D lattice"
   ]
  },
  {
   "cell_type": "code",
   "execution_count": 7,
   "id": "ddc7dfa4-c60f-4b71-a816-ff07da74308e",
   "metadata": {
    "execution": {
     "iopub.execute_input": "2021-11-17T09:31:12.345503Z",
     "iopub.status.busy": "2021-11-17T09:31:12.345503Z",
     "iopub.status.idle": "2021-11-17T09:31:12.359465Z",
     "shell.execute_reply": "2021-11-17T09:31:12.359465Z",
     "shell.execute_reply.started": "2021-11-17T09:31:12.345503Z"
    }
   },
   "outputs": [],
   "source": [
    "# Number of spins in a row at the 2D case\n",
    "N_spin = 30\n",
    "\n",
    "start_offset = 2000"
   ]
  },
  {
   "cell_type": "code",
   "execution_count": 8,
   "id": "daf7f5a6-2271-4b33-8622-6f1db1715115",
   "metadata": {
    "execution": {
     "iopub.execute_input": "2021-11-17T09:31:13.145364Z",
     "iopub.status.busy": "2021-11-17T09:31:13.145364Z",
     "iopub.status.idle": "2021-11-17T09:31:13.155338Z",
     "shell.execute_reply": "2021-11-17T09:31:13.155338Z",
     "shell.execute_reply.started": "2021-11-17T09:31:13.145364Z"
    }
   },
   "outputs": [],
   "source": [
    "# The current positions of the spins\n",
    "spins = get_random_spins(size=(N_spin, N_spin))"
   ]
  },
  {
   "cell_type": "code",
   "execution_count": 9,
   "id": "439d4f4a-91d1-462d-9387-0b29fc3365a5",
   "metadata": {
    "execution": {
     "iopub.execute_input": "2021-11-17T09:31:15.152998Z",
     "iopub.status.busy": "2021-11-17T09:31:15.152998Z",
     "iopub.status.idle": "2021-11-17T09:31:15.170961Z",
     "shell.execute_reply": "2021-11-17T09:31:15.170961Z",
     "shell.execute_reply.started": "2021-11-17T09:31:15.152998Z"
    }
   },
   "outputs": [],
   "source": [
    "def e_i(spins, s_i,\n",
    "        J=1, h=0):\n",
    "\n",
    "  e = 0\n",
    "  for s_j in spins.flat:\n",
    "    e += -J/2 * s_i * s_j\n",
    "  \n",
    "  return e - h*s_i"
   ]
  },
  {
   "cell_type": "code",
   "execution_count": 10,
   "id": "85bba7ea-950d-494e-8727-8517ca6d8656",
   "metadata": {
    "execution": {
     "iopub.execute_input": "2021-11-17T09:31:15.769378Z",
     "iopub.status.busy": "2021-11-17T09:31:15.769378Z",
     "iopub.status.idle": "2021-11-17T09:31:15.781318Z",
     "shell.execute_reply": "2021-11-17T09:31:15.781318Z",
     "shell.execute_reply.started": "2021-11-17T09:31:15.769378Z"
    }
   },
   "outputs": [],
   "source": [
    "def E(spins,\n",
    "      J=1, h=0, L_cut=2):\n",
    "\n",
    "  E = 0\n",
    "  for s_i in spins.flat:\n",
    "    E += e_i(spins, s_i, J, h)\n",
    "\n",
    "  return E"
   ]
  },
  {
   "cell_type": "code",
   "execution_count": 11,
   "id": "70eb7062-0cf2-46ad-b465-0fe36343b501",
   "metadata": {
    "execution": {
     "iopub.execute_input": "2021-11-17T09:31:16.288961Z",
     "iopub.status.busy": "2021-11-17T09:31:16.288961Z",
     "iopub.status.idle": "2021-11-17T09:31:16.295942Z",
     "shell.execute_reply": "2021-11-17T09:31:16.295942Z",
     "shell.execute_reply.started": "2021-11-17T09:31:16.288961Z"
    }
   },
   "outputs": [],
   "source": [
    "def delta_E(spins, i, j,\n",
    "            J=1, h=0):\n",
    "  \n",
    "  dE = 0\n",
    "  indeces = [[0,1],[0,-1],[1,0],[-1,0]]\n",
    "  \n",
    "  for rel in indeces:\n",
    "    dE += 2 * spins[i,j] * spins[(i + rel[0])%spins.shape[0],\n",
    "                                 (j + rel[1])%spins.shape[1]]\n",
    "  \n",
    "  return dE * J - h*spins[i,j]"
   ]
  },
  {
   "cell_type": "code",
   "execution_count": 29,
   "id": "4687661c-88de-4d65-88ad-594c38b0df1b",
   "metadata": {
    "execution": {
     "iopub.execute_input": "2021-11-17T09:45:30.004576Z",
     "iopub.status.busy": "2021-11-17T09:45:30.003578Z",
     "iopub.status.idle": "2021-11-17T09:45:30.015546Z",
     "shell.execute_reply": "2021-11-17T09:45:30.015546Z",
     "shell.execute_reply.started": "2021-11-17T09:45:30.004576Z"
    },
    "tags": []
   },
   "outputs": [],
   "source": [
    "def simulation_step(spins,\n",
    "                    beta=10, J=1, h=0):\n",
    "\n",
    "  # Choose random index\n",
    "  r_i = np.random.randint(0, spins.shape[0])\n",
    "  r_j = np.random.randint(0, spins.shape[1])\n",
    "  \n",
    "  # Calculate energy difference\n",
    "  dE = delta_E(spins, r_i, r_j)\n",
    "  \n",
    "  # If dE <= 0, then execute the flip\n",
    "  if(dE < 0):\n",
    "    spins[r_i, r_j] *= -1\n",
    "  elif(dE == 0):\n",
    "    if(np.random.random() < 0.5):\n",
    "      spins[r_i, r_j] *= -1\n",
    "  # If dE > 0, choose a random number X, between 0 and 1\n",
    "  # If X < e^(-beta * dE), then execute the spin flip\n",
    "  # If not, then leave the spins' state untouched and continue with the next step\n",
    "  else:\n",
    "    if(np.random.random() < np.exp(-beta * dE)):\n",
    "      spins[r_i, r_j] *= -1\n",
    "\n",
    "  return spins"
   ]
  },
  {
   "cell_type": "code",
   "execution_count": 33,
   "id": "456c53a0-7c97-444d-a485-975753e397e7",
   "metadata": {
    "execution": {
     "iopub.execute_input": "2021-11-17T09:59:58.402687Z",
     "iopub.status.busy": "2021-11-17T09:59:58.401689Z",
     "iopub.status.idle": "2021-11-17T09:59:58.422657Z",
     "shell.execute_reply": "2021-11-17T09:59:58.421692Z",
     "shell.execute_reply.started": "2021-11-17T09:59:58.402687Z"
    },
    "tags": []
   },
   "outputs": [],
   "source": [
    "def run_simulation(spins, N_steps,\n",
    "                   T, J, h):\n",
    "\n",
    "  beta = 1 / (k_B * T)\n",
    "  spins_n = spins.copy()\n",
    "  for _ in range(N_steps):\n",
    "    spins_n = simulation_step(spins_n,\n",
    "                              beta=beta, J=J, h=h)\n",
    "  \n",
    "  np.save(file=os.path.join(fdir, f'spins_T{T}'),\n",
    "          arr=spins_n)\n",
    "  \n",
    "  return spins_n"
   ]
  },
  {
   "cell_type": "code",
   "execution_count": 54,
   "id": "80d860d5-65f4-43b8-a1aa-57dd72cebd2c",
   "metadata": {
    "execution": {
     "iopub.execute_input": "2021-11-17T10:16:39.877530Z",
     "iopub.status.busy": "2021-11-17T10:16:39.877530Z",
     "iopub.status.idle": "2021-11-17T10:59:21.107082Z",
     "shell.execute_reply": "2021-11-17T10:59:21.105070Z",
     "shell.execute_reply.started": "2021-11-17T10:16:39.877530Z"
    },
    "tags": []
   },
   "outputs": [],
   "source": [
    "Ts = np.array([1,10,100,300])\n",
    "spins = get_random_spins(size=(400,400))\n",
    "N_steps=100_000_000\n",
    "\n",
    "if not os.path.exists(fdir):\n",
    "  os.makedirs(fdir)\n",
    "\n",
    "_ = Parallel(n_jobs=4)(delayed(run_simulation)(spins,\n",
    "                                               N_steps=N_steps,\n",
    "                                               T=T, J=J, h=h) for T in Ts)"
   ]
  },
  {
   "cell_type": "code",
   "execution_count": 63,
   "id": "e7b30a2f-5707-45b4-9d6a-7f79f1dbf4e2",
   "metadata": {
    "execution": {
     "iopub.execute_input": "2021-11-17T11:15:36.229656Z",
     "iopub.status.busy": "2021-11-17T11:15:36.229656Z",
     "iopub.status.idle": "2021-11-17T11:15:36.625597Z",
     "shell.execute_reply": "2021-11-17T11:15:36.624624Z",
     "shell.execute_reply.started": "2021-11-17T11:15:36.229656Z"
    },
    "tags": []
   },
   "outputs": [
    {
     "data": {
      "image/png": "[encoded data removed]",
      "text/plain": [
       "<Figure size 2016x504 with 4 Axes>"
      ]
     },
     "metadata": {},
     "output_type": "display_data"
    }
   ],
   "source": [
    "nrows, ncols = 1, Ts.size\n",
    "fig, axes = plt.subplots(nrows, ncols, figsize=(ncols*7, nrows*7),\n",
    "                         facecolor='ghostwhite')\n",
    "fig.subplots_adjust(wspace=0.0)\n",
    "\n",
    "spin_files = {\n",
    "  f.split('T')[1].split('.')[0] : f for f in os.listdir(fdir) if '.npy' in f\n",
    "}\n",
    "for T, ax in zip(Ts, axes.flat):\n",
    "  spins_n = np.load(file=os.path.join(fdir, spin_files[f'{T}']))\n",
    "  ax.axis('off')\n",
    "  ax.imshow(spins_n, cmap='Greys',\n",
    "            interpolation='none')\n",
    "  ax.set_title(f'T = {T} K\\nSteps = {N_steps:,}',\n",
    "               fontsize=16, fontweight='bold')\n",
    "  \n",
    "plt.show()"
   ]
  }
 ],
 "metadata": {
  "kernelspec": {
   "display_name": "Python 3 (ipykernel)",
   "language": "python",
   "name": "python3"
  },
  "language_info": {
   "codemirror_mode": {
    "name": "ipython",
    "version": 3
   },
   "file_extension": ".py",
   "mimetype": "text/x-python",
   "name": "python",
   "nbconvert_exporter": "python",
   "pygments_lexer": "ipython3",
   "version": "3.9.7"
  }
 },
 "nbformat": 4,
 "nbformat_minor": 5
}
