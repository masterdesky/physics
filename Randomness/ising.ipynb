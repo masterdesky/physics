{
 "cells": [
  {
   "cell_type": "markdown",
   "id": "6bb6ba94-bd78-4123-aebe-5989dbcc9e72",
   "metadata": {},
   "source": [
    "# Ising model simulation with Monte Carlo method"
   ]
  },
  {
   "cell_type": "code",
   "execution_count": 1,
   "id": "0074e97f-0167-44cf-bb9c-ce2b572e7970",
   "metadata": {
    "tags": []
   },
   "outputs": [],
   "source": [
    "import os\n",
    "import numpy as np\n",
    "\n",
    "import seaborn as sns\n",
    "import matplotlib as mpl\n",
    "import matplotlib.pyplot as plt\n",
    "from matplotlib.lines import Line2D\n",
    "from matplotlib.patches import Patch\n",
    "from matplotlib.patches import Circle"
   ]
  },
  {
   "cell_type": "code",
   "execution_count": 2,
   "id": "621ebb77-51f8-46c8-b6e7-edfc1f5bfc00",
   "metadata": {},
   "outputs": [],
   "source": [
    "fdir = './Documentation/src/images/'\n",
    "ffmt = 'pdf'\n",
    "fdpi = 150\n",
    "\n",
    "axistitlesize = 26\n",
    "axisticksize = 23\n",
    "axislabelsize = 26\n",
    "axislegendsize = 23\n",
    "axistextsize = 20\n",
    "axiscbarfontsize = 15\n",
    "sc = 10\n",
    "\n",
    "# Set axtick dimensions\n",
    "major_size = 6\n",
    "major_width = 1.2\n",
    "minor_size = 3\n",
    "minor_width = 1\n",
    "mpl.rcParams['xtick.major.size'] = major_size\n",
    "mpl.rcParams['xtick.major.width'] = major_width\n",
    "mpl.rcParams['xtick.minor.size'] = minor_size\n",
    "mpl.rcParams['xtick.minor.width'] = minor_width\n",
    "mpl.rcParams['ytick.major.size'] = major_size\n",
    "mpl.rcParams['ytick.major.width'] = major_width\n",
    "mpl.rcParams['ytick.minor.size'] = minor_size\n",
    "mpl.rcParams['ytick.minor.width'] = minor_width\n",
    "\n",
    "mpl.rcParams.update({'figure.autolayout': False})\n",
    "\n",
    "# Seaborn style settings\n",
    "sns.set_style({'axes.axisbelow': True,\n",
    "               'axes.edgecolor': '.8',\n",
    "               'axes.facecolor': 'white',\n",
    "               'axes.grid': False,\n",
    "               'axes.labelcolor': '.15',\n",
    "               'axes.spines.bottom': True,\n",
    "               'axes.spines.left': True,\n",
    "               'axes.spines.right': True,\n",
    "               'axes.spines.top': True,\n",
    "               'figure.facecolor': 'white',\n",
    "               'grid.color': '.8',\n",
    "               'grid.linestyle': '--',\n",
    "               'image.cmap': 'rocket',\n",
    "               'lines.solid_capstyle': 'round',\n",
    "               'patch.edgecolor': 'w',\n",
    "               'patch.force_edgecolor': True,\n",
    "               'text.color': '.15',\n",
    "               'xtick.bottom': True,\n",
    "               'xtick.color': '.15',\n",
    "               'xtick.direction': 'in',\n",
    "               'xtick.top': True,\n",
    "               'ytick.color': '.15',\n",
    "               'ytick.direction': 'in',\n",
    "               'ytick.left': True,\n",
    "               'ytick.right': True})\n",
    "\n",
    "# Colorpalettes, colormaps, etc.\n",
    "sns.set_palette(palette='rocket')"
   ]
  },
  {
   "cell_type": "markdown",
   "id": "1b6e01bb-eb10-49b1-9a7a-5e29725895e9",
   "metadata": {},
   "source": [
    "## Characteristic parameters of the system"
   ]
  },
  {
   "cell_type": "code",
   "execution_count": 3,
   "id": "309f0b97-f893-4fe1-8973-524c62587d53",
   "metadata": {},
   "outputs": [],
   "source": [
    "k_B = 1.380648e-23    # Boltzmann constant\n",
    "J = 5e-22             # Arbitrary J\n",
    "T = 200               # Temperature\n",
    "beta = 1 / (k_B * T)  # Characteristic value"
   ]
  },
  {
   "cell_type": "markdown",
   "id": "f6e45934-a430-49b2-ac8e-0a9cb236da06",
   "metadata": {},
   "source": [
    "## Random +1 or -1"
   ]
  },
  {
   "cell_type": "code",
   "execution_count": 9,
   "id": "7cf2437a-0b71-473b-86cc-6168d9e235cb",
   "metadata": {},
   "outputs": [],
   "source": [
    "def get_random_spins(size):\n",
    "  return np.sign(np.random.random(size) - 0.5)"
   ]
  },
  {
   "cell_type": "markdown",
   "id": "74b3562b-0a58-488c-b061-55f9ad478bf1",
   "metadata": {},
   "source": [
    "# Ising model simulation on 2D lattice"
   ]
  },
  {
   "cell_type": "code",
   "execution_count": 32,
   "id": "ddc7dfa4-c60f-4b71-a816-ff07da74308e",
   "metadata": {},
   "outputs": [],
   "source": [
    "# Number of spins in a row at the 2D case\n",
    "N_spin = 30\n",
    "\n",
    "start_offset = 2000"
   ]
  },
  {
   "cell_type": "code",
   "execution_count": 33,
   "id": "daf7f5a6-2271-4b33-8622-6f1db1715115",
   "metadata": {},
   "outputs": [],
   "source": [
    "# The current positions of the spins\n",
    "spins = get_random_spins(size=(N_spin, N_spin))"
   ]
  },
  {
   "cell_type": "code",
   "execution_count": 81,
   "id": "439d4f4a-91d1-462d-9387-0b29fc3365a5",
   "metadata": {},
   "outputs": [],
   "source": [
    "def e_i(spins, s_i,\n",
    "        J=1, h=0):\n",
    "\n",
    "  e = 0\n",
    "  for s_j in spins.flat:\n",
    "    e += -J/2 * s_i * s_j\n",
    "  \n",
    "  return e - h*s_i"
   ]
  },
  {
   "cell_type": "code",
   "execution_count": 98,
   "id": "85bba7ea-950d-494e-8727-8517ca6d8656",
   "metadata": {},
   "outputs": [],
   "source": [
    "def E(spins,\n",
    "      J=1, h=0, L_cut=2):\n",
    "\n",
    "  E = 0\n",
    "  for s_i in spins.flat:\n",
    "    E += e_i(spins, s_i, J, h)\n",
    "\n",
    "  return E"
   ]
  },
  {
   "cell_type": "code",
   "execution_count": 105,
   "id": "70eb7062-0cf2-46ad-b465-0fe36343b501",
   "metadata": {},
   "outputs": [],
   "source": [
    "def delta_E(spins, i, j,\n",
    "            J=1, h=0):\n",
    "  \n",
    "  dE = 0\n",
    "  indeces = [[0,1],[0,-1],[1,0],[-1,0]]\n",
    "  \n",
    "  for rel in indeces:\n",
    "    dE += 2 * spins[i,j] * spins[(i + rel[0])%spins.shape[0],\n",
    "                                 (j + rel[1])%spins.shape[1]]\n",
    "  \n",
    "  return dE * J - h*spins[i,j]"
   ]
  },
  {
   "cell_type": "code",
   "execution_count": 194,
   "id": "4687661c-88de-4d65-88ad-594c38b0df1b",
   "metadata": {},
   "outputs": [],
   "source": [
    "def simulation_step(spins,\n",
    "                    beta=10, J=1, h=0):\n",
    "\n",
    "  # Choose random index\n",
    "  r_i = np.random.randint(0, spins.shape[0])\n",
    "  r_j = np.random.randint(0, spins.shape[1])\n",
    "  \n",
    "  # Calculate energy difference\n",
    "  dE = delta_E(spins, r_i, r_j)\n",
    "  \n",
    "  # If dE <= 0, then execute the flip\n",
    "  if(dE < 0):\n",
    "    spins[r_i, r_j] *= -1\n",
    "  elif(dE == 0):\n",
    "    if(np.random.random() < 0.5):\n",
    "      spins[r_i, r_j] *= -1\n",
    "  # If dE > 0, choose a random number X, between 0 and 1\n",
    "  # If X < e^(-beta * dE), then execute the spin flip\n",
    "  # If not, then leave the spins' state untouched and continue with the next step\n",
    "  else:\n",
    "    if(np.random.random() < np.exp(-beta * dE)):\n",
    "      spins[r_i, r_j] *= -1\n",
    "\n",
    "  return spins"
   ]
  },
  {
   "cell_type": "code",
   "execution_count": 202,
   "id": "e7b30a2f-5707-45b4-9d6a-7f79f1dbf4e2",
   "metadata": {},
   "outputs": [
    {
     "data": {
      "image/png": "[encoded data removed]",
      "text/plain": [
       "<Figure size 2520x504 with 5 Axes>"
      ]
     },
     "metadata": {},
     "output_type": "display_data"
    }
   ],
   "source": [
    "beta = np.logspace(1,10,5)\n",
    "nrows, ncols = 1, beta.size\n",
    "fig, axes = plt.subplots(nrows, ncols, figsize=(ncols*7, nrows*7),\n",
    "                         facecolor='ghostwhite')\n",
    "fig.subplots_adjust(wspace=0.0)\n",
    "\n",
    "N_steps = 100000\n",
    "spins = get_random_spins(size=(80,80))\n",
    "\n",
    "for ax, b in zip(axes.flat, beta):\n",
    "  ax.axis('off')\n",
    "  spins_n = spins.copy()\n",
    "  for _ in range(N_steps):\n",
    "    spins_n = simulation_step(spins_n,\n",
    "                              beta=b, J=1, h=h)\n",
    "\n",
    "  ax.imshow(spins_n, interpolation='none')\n",
    "    \n",
    "plt.show()"
   ]
  },
  {
   "cell_type": "code",
   "execution_count": null,
   "id": "e0e1ac6e-059b-42ed-8b7b-997c4324ab00",
   "metadata": {},
   "outputs": [],
   "source": []
  }
 ],
 "metadata": {
  "kernelspec": {
   "display_name": "Python 3 (ipykernel)",
   "language": "python",
   "name": "python3"
  },
  "language_info": {
   "codemirror_mode": {
    "name": "ipython",
    "version": 3
   },
   "file_extension": ".py",
   "mimetype": "text/x-python",
   "name": "python",
   "nbconvert_exporter": "python",
   "pygments_lexer": "ipython3",
   "version": "3.9.7"
  }
 },
 "nbformat": 4,
 "nbformat_minor": 5
}
