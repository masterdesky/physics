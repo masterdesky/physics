{
 "cells": [
  {
   "cell_type": "markdown",
   "id": "6bb6ba94-bd78-4123-aebe-5989dbcc9e72",
   "metadata": {},
   "source": [
    "# Ising model simulation with Monte Carlo method"
   ]
  },
  {
   "cell_type": "code",
   "execution_count": null,
   "id": "0074e97f-0167-44cf-bb9c-ce2b572e7970",
   "metadata": {
    "tags": []
   },
   "outputs": [],
   "source": [
    "import os\n",
    "import shutil\n",
    "import numpy as np\n",
    "\n",
    "import matplotlib as mpl\n",
    "import matplotlib.pyplot as plt\n",
    "from joblib import Parallel, delayed"
   ]
  },
  {
   "cell_type": "code",
   "execution_count": null,
   "id": "621ebb77-51f8-46c8-b6e7-edfc1f5bfc00",
   "metadata": {
    "tags": []
   },
   "outputs": [],
   "source": [
    "fdir = './out/ising/'\n",
    "ffmt = 'png'\n",
    "fdpi = 150"
   ]
  },
  {
   "cell_type": "markdown",
   "id": "1b6e01bb-eb10-49b1-9a7a-5e29725895e9",
   "metadata": {},
   "source": [
    "## Characteristic parameters of the system"
   ]
  },
  {
   "cell_type": "code",
   "execution_count": null,
   "id": "309f0b97-f893-4fe1-8973-524c62587d53",
   "metadata": {
    "tags": []
   },
   "outputs": [],
   "source": [
    "k_B = 1.380648e-23  # Boltzmann constant\n",
    "h = 0               # External magnetic field\n",
    "J = 1               # Coupling parameter\n",
    "T = 1               # Temperature\n",
    "beta = 1 / T        # Dimensionless thermodynamic beta"
   ]
  },
  {
   "cell_type": "code",
   "execution_count": null,
   "id": "7cf2437a-0b71-473b-86cc-6168d9e235cb",
   "metadata": {
    "tags": []
   },
   "outputs": [],
   "source": [
    "def get_random_spins(size):\n",
    "    '''\n",
    "    Returns an array filled with +1 and -1 values, randomly sampled from\n",
    "    a uniform distribution.\n",
    "    '''\n",
    "    return np.sign(np.random.random(size) - 0.5)"
   ]
  },
  {
   "cell_type": "code",
   "execution_count": null,
   "id": "439d4f4a-91d1-462d-9387-0b29fc3365a5",
   "metadata": {
    "tags": []
   },
   "outputs": [],
   "source": [
    "def e_i(s_i, s_j, J=1):\n",
    "    '''\n",
    "    Calculates the interaction energy between two spins.\n",
    "    '''\n",
    "    return -J * s_i * s_j"
   ]
  },
  {
   "cell_type": "code",
   "execution_count": null,
   "id": "85bba7ea-950d-494e-8727-8517ca6d8656",
   "metadata": {
    "tags": []
   },
   "outputs": [],
   "source": [
    "def E(spins, J=1, h=0):\n",
    "    '''\n",
    "    Calculates the Hamiltonian for a given spin configuration.\n",
    "    '''\n",
    "    # Size of the lattice\n",
    "    Nr, Nc = spins.shape[0], spins.shape[1]\n",
    "    # Relative indexes of neighbouring spins\n",
    "    nb = np.array((-1, -Nc, 1, Nc))\n",
    "\n",
    "    E = 0\n",
    "    for k, s_k in enumerate(spins.flat):\n",
    "        # Flattened indexes\n",
    "        k_nb = (k - nb) % (Nr*Nc)\n",
    "        # Calculate the interactions between neighbouring spins\n",
    "        E += np.sum(-J * s_k * spins.flat[k_nb]) / 4\n",
    "        # Apply the external magnetic field\n",
    "        E -= h*s_k\n",
    "    return E"
   ]
  },
  {
   "cell_type": "code",
   "execution_count": null,
   "id": "3f355d19-8251-43ec-a2e5-abe63e2acf08",
   "metadata": {},
   "outputs": [],
   "source": [
    "def m(spins):\n",
    "    return np.mean(spins)"
   ]
  },
  {
   "cell_type": "code",
   "execution_count": null,
   "id": "70eb7062-0cf2-46ad-b465-0fe36343b501",
   "metadata": {
    "tags": []
   },
   "outputs": [],
   "source": [
    "def delta_E(spins, i, j, J=1, h=0):\n",
    "    '''\n",
    "    Calculate the change in the Hamiltonian on the flip of the (i, j)\n",
    "    spin.\n",
    "    '''\n",
    "    # Size of the lattice\n",
    "    Nr, Nc = spins.shape[0], spins.shape[1]\n",
    "    # Relative indexes of neighbouring spins\n",
    "    nb = np.array((-1, -Nc, 1, Nc))\n",
    "\n",
    "    # Flattened indexes\n",
    "    k = i*Nc + j\n",
    "    k_nb = (k - nb) % (Nr*Nc)\n",
    "\n",
    "    dE = np.sum(spins.flat[k] * spins.flat[k_nb])\n",
    "\n",
    "    return 2*J*dE + 2*h*spins.flat[k]"
   ]
  },
  {
   "cell_type": "code",
   "execution_count": null,
   "id": "4687661c-88de-4d65-88ad-594c38b0df1b",
   "metadata": {
    "tags": []
   },
   "outputs": [],
   "source": [
    "def mcmc_step(spins, beta=0.01, J=1, h=0):\n",
    "\n",
    "    # Choose random indexes\n",
    "    i = np.random.randint(0, spins.shape[0])\n",
    "    j = np.random.randint(0, spins.shape[1])\n",
    "\n",
    "    # Calculate energy difference on flip of spin_ij\n",
    "    dE = delta_E(spins, i, j, J, h)\n",
    "\n",
    "    # If dE < 0, then execute the flip\n",
    "    if(dE < 0):\n",
    "        spins[i, j] *= -1\n",
    "    # If dE > 0, choose a random number R, between 0 and 1\n",
    "    # If R < e^(-beta * dE), then execute the spin flip\n",
    "    # If not, then leave the spins' state untouched and continue with the next step\n",
    "    elif(np.random.random() < np.exp(-beta * dE)):\n",
    "        spins[i, j] *= -1\n",
    "\n",
    "    return spins"
   ]
  },
  {
   "cell_type": "code",
   "execution_count": null,
   "id": "456c53a0-7c97-444d-a485-975753e397e7",
   "metadata": {
    "tags": []
   },
   "outputs": [],
   "source": [
    "def run_simulation(spins, N_iter, T, J, h, save=False):\n",
    "\n",
    "    # Calculate the dimensionless thermodynamic beta\n",
    "    beta = 1 / T\n",
    "\n",
    "    spins_n = spins.copy()\n",
    "    for _ in range(N_iter):\n",
    "        spins_n = mcmc_step(spins_n, beta=beta, J=J, h=h)\n",
    "\n",
    "    if save:\n",
    "        np.save(file=os.path.join(fdir, f'spins_T{T}'), arr=spins_n)\n",
    "\n",
    "    return spins_n"
   ]
  },
  {
   "cell_type": "code",
   "execution_count": null,
   "id": "80d860d5-65f4-43b8-a1aa-57dd72cebd2c",
   "metadata": {
    "tags": []
   },
   "outputs": [],
   "source": [
    "Ts = np.array([0.1, 1, 2.5, 5])\n",
    "# Size of lattice\n",
    "Nr, Nc = 100, 100\n",
    "# The current positions of the spins\n",
    "spins = get_random_spins((Nr, Nc))\n",
    "# Number of iterations\n",
    "N_iter = 500_000\n",
    "\n",
    "if not os.path.exists(fdir):\n",
    "    os.makedirs(fdir)\n",
    "\n",
    "Ss = Parallel(n_jobs=4)(delayed(run_simulation)(spins, N_iter=N_iter, T=T, J=J, h=h, save=True) for T in Ts)"
   ]
  },
  {
   "cell_type": "code",
   "execution_count": null,
   "id": "e7b30a2f-5707-45b4-9d6a-7f79f1dbf4e2",
   "metadata": {
    "tags": []
   },
   "outputs": [],
   "source": [
    "nrows, ncols = 1, Ts.size\n",
    "fig, axes = plt.subplots(nrows, ncols, figsize=(ncols*7, nrows*7),\n",
    "                         facecolor='ghostwhite')\n",
    "fig.subplots_adjust(wspace=0.0)\n",
    "\n",
    "spin_files = {\n",
    "  f.split('T')[1].split('.npy')[0] : f for f in os.listdir(fdir) if '.npy' in f\n",
    "}\n",
    "for T, ax in zip(Ts, axes.flat):\n",
    "    ax.axis('off')\n",
    "\n",
    "    spins_n = np.load(file=os.path.join(fdir, spin_files[f'{T}']))\n",
    "    ax.imshow(spins_n, cmap='Greys',\n",
    "            interpolation='none')\n",
    "    ax.set_title(f'{T = } K\\nSteps = {N_iter:,}',\n",
    "                 fontsize=16, fontweight='bold')\n",
    "plt.show()"
   ]
  },
  {
   "cell_type": "markdown",
   "id": "a84548c7-423a-4010-8f5f-1d93ab80d0ad",
   "metadata": {},
   "source": [
    "## Temperature dependence of energy and magnetization"
   ]
  },
  {
   "cell_type": "code",
   "execution_count": null,
   "id": "293def9e-16ae-423f-814e-950236deb02d",
   "metadata": {},
   "outputs": [],
   "source": [
    "Ts = np.linspace(0.01, 5, 10)\n",
    "# Size of lattice\n",
    "Nr, Nc = 50, 50\n",
    "# The current positions of the spins\n",
    "spins = get_random_spins((Nr, Nc))\n",
    "# Number of iterations\n",
    "N_iter = 500_000\n",
    "\n",
    "Ss = np.zeros((len(Ts), Nr, Nc))\n",
    "for i, T in enumerate(Ts):\n",
    "    Ss[i] = run_simulation(spins, N_iter=N_iter, T=T, J=J, h=h, save=True)"
   ]
  },
  {
   "cell_type": "code",
   "execution_count": null,
   "id": "de7e851b-a81a-4ca8-94c4-34c0d8162205",
   "metadata": {},
   "outputs": [],
   "source": [
    "nr, nc = 2, 5\n",
    "fig, axes = plt.subplots(nr, nc, figsize=(nc*4, nr*4))\n",
    "\n",
    "for i, ax in enumerate(axes.flat):\n",
    "    ax.axis('off')\n",
    "    ax.imshow(Ss[i], cmap='Greys', interpolation='none')\n",
    "\n",
    "plt.show()"
   ]
  },
  {
   "cell_type": "code",
   "execution_count": null,
   "id": "8fdbca31-2c84-4d4e-b341-df21c2a73c8e",
   "metadata": {},
   "outputs": [],
   "source": [
    "Es = np.zeros_like(Ts)\n",
    "for i, s in enumerate(Ss):\n",
    "    Es[i] = E(s, J=J, h=h)\n",
    "\n",
    "ms = np.zeros_like(Ts)\n",
    "for i, s in enumerate(Ss):\n",
    "    ms[i] = m(s)"
   ]
  },
  {
   "cell_type": "code",
   "execution_count": null,
   "id": "4c5f7adc-53b6-401c-84c6-77cb2f6c0256",
   "metadata": {},
   "outputs": [],
   "source": [
    "nr, nc = 1, 2\n",
    "fig, axes = plt.subplots(nr, nc, figsize=(nc*7, nr*5), dpi=120)\n",
    "axes = axes.flat\n",
    "for ax in axes:\n",
    "    ax.grid(True, ls='--', alpha=0.6)\n",
    "\n",
    "axes[0].scatter(Ts, Es, s=36)\n",
    "axes[0].set_xlabel('Temperature', fontsize=16, fontweight='bold')\n",
    "axes[0].set_ylabel('Energy', fontsize=16, fontweight='bold')\n",
    "\n",
    "axes[1].scatter(Ts, ms, s=36)\n",
    "axes[1].set_xlabel('Temperature', fontsize=16, fontweight='bold')\n",
    "axes[1].set_ylabel('Magnetization', fontsize=16, fontweight='bold')\n",
    "\n",
    "plt.show()"
   ]
  },
  {
   "cell_type": "code",
   "execution_count": null,
   "id": "69445f47-54e7-4d87-b868-3bc094af5d3b",
   "metadata": {},
   "outputs": [],
   "source": []
  }
 ],
 "metadata": {
  "kernelspec": {
   "display_name": "Python 3 (ipykernel)",
   "language": "python",
   "name": "python3"
  },
  "language_info": {
   "codemirror_mode": {
    "name": "ipython",
    "version": 3
   },
   "file_extension": ".py",
   "mimetype": "text/x-python",
   "name": "python",
   "nbconvert_exporter": "python",
   "pygments_lexer": "ipython3",
   "version": "3.11.3"
  }
 },
 "nbformat": 4,
 "nbformat_minor": 5
}
