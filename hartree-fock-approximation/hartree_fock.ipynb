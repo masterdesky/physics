{
 "cells": [
  {
   "cell_type": "markdown",
   "metadata": {},
   "source": [
    "# Hartree-Fock approximation\n",
    "\n",
    "## Megoldás\n",
    "\n",
    "A Fock-operátor a Hartree--Fock-közelítésben megjelenő operátor, mely többek között egy rendszer Hamilton operátorának közelítését szolgálja az alábbi módon:\n",
    "\n",
    "$$\n",
    "\\hat{H} \\psi = E \\psi\n",
    "\\quad\\sim\\quad\n",
    "\\hat{F} \\psi = E \\psi\n",
    "$$\n",
    "\n",
    "Ahol az $\\hat{F}$ Fock-operátort az alábbi módon definiáljuk:\n",
    "\n",
    "$$\n",
    "\\hat{F}\n",
    "=\n",
    "\\hat{h}_{1} + \\sum_{i} \\left( \\hat{J}_{i} - \\hat{K}_{i} \\right)\n",
    "$$\n",
    "\n",
    "Mely definícióban a $\\hat{h}_{1}$ az $i$-edik elektronra vonatkozó egyrészecskés Hamilton-operátor, $\\hat{J}_{i}$ az $i$-edik és $j$-edik között ható (Coulomb) kölcsönhatás, $\\hat{K}$ pedig a kicserélődési operátor. A feladatban elhagyatjuk a $\\hat{K}$ kicserélődési operátor hatását"
   ]
  },
  {
   "cell_type": "code",
   "execution_count": 1,
   "metadata": {},
   "outputs": [],
   "source": [
    "import numpy as np\n",
    "import sympy as sp\n",
    "\n",
    "import seaborn as sns\n",
    "import matplotlib as mpl\n",
    "import matplotlib.cm as cm\n",
    "import matplotlib.pyplot as plt\n",
    "from mpl_toolkits.mplot3d import Axes3D"
   ]
  },
  {
   "cell_type": "code",
   "execution_count": null,
   "metadata": {},
   "outputs": [],
   "source": []
  }
 ],
 "metadata": {
  "kernelspec": {
   "display_name": "Python 3",
   "language": "python",
   "name": "python3"
  },
  "language_info": {
   "codemirror_mode": {
    "name": "ipython",
    "version": 3
   },
   "file_extension": ".py",
   "mimetype": "text/x-python",
   "name": "python",
   "nbconvert_exporter": "python",
   "pygments_lexer": "ipython3",
   "version": "3.7.6"
  }
 },
 "nbformat": 4,
 "nbformat_minor": 4
}
