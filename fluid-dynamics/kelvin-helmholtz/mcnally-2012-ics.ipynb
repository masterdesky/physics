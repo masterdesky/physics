{
 "cells": [
  {
   "cell_type": "markdown",
   "id": "3148f76e-7509-4235-84fd-78e7a15ae347",
   "metadata": {},
   "source": [
    "# Replicate ICs from McNally *et. al.* (2012)"
   ]
  },
  {
   "cell_type": "code",
   "execution_count": null,
   "id": "513d6879-06b2-45bc-9d50-fb9fbac727df",
   "metadata": {
    "tags": []
   },
   "outputs": [],
   "source": [
    "DATA_DIR = '/home/pal.balazs/data/kelvin_helmholtz/ICs/'"
   ]
  },
  {
   "cell_type": "code",
   "execution_count": null,
   "id": "4619fb89-1deb-4868-9bd5-0a47cc4ad020",
   "metadata": {
    "tags": []
   },
   "outputs": [],
   "source": [
    "import os\n",
    "import h5py\n",
    "\n",
    "import numpy as np\n",
    "from scipy.interpolate import griddata\n",
    "\n",
    "import matplotlib.pyplot as plt"
   ]
  },
  {
   "cell_type": "code",
   "execution_count": null,
   "id": "85316ddb-5729-40ff-93c6-a2c161fba280",
   "metadata": {
    "tags": []
   },
   "outputs": [],
   "source": [
    "def get_keys(s):\n",
    "    with h5py.File(os.path.join(DATA_DIR, s), \"r\") as f:\n",
    "        keys = list(f['PartType0'].keys())\n",
    "    return keys"
   ]
  },
  {
   "cell_type": "code",
   "execution_count": null,
   "id": "d5e807e6-8fb9-4535-9dd7-70be705eee38",
   "metadata": {
    "tags": []
   },
   "outputs": [],
   "source": [
    "def get_data(s):\n",
    "    values = {}\n",
    "    with h5py.File(os.path.join(DATA_DIR, s), \"r\") as f:\n",
    "        for k in get_keys(s):\n",
    "            values[k] = f['PartType0'][k][:]\n",
    "    return values"
   ]
  },
  {
   "cell_type": "code",
   "execution_count": null,
   "id": "ef745680-ddbb-44d2-96b6-e53f9a8cc482",
   "metadata": {
    "tags": []
   },
   "outputs": [],
   "source": [
    "def get_grid_data(s, N):\n",
    "    X, Y, D, _ = get_data(s)\n",
    "    xi, yi = np.meshgrid(np.linspace(0, 1, N), np.linspace(0, 1, N),\n",
    "                         indexing='ij')\n",
    "    return griddata(np.stack((X, Y), axis=1), D, (xi, yi), method='cubic')"
   ]
  },
  {
   "cell_type": "markdown",
   "id": "047bb89f-fd23-458f-b1f8-2ac4289c4fd7",
   "metadata": {},
   "source": [
    "## Generate initial conditions with smooth boundaries"
   ]
  },
  {
   "cell_type": "markdown",
   "id": "dbafa206-055e-496f-8732-150cbf0b6336",
   "metadata": {},
   "source": [
    "### Hyperparameters"
   ]
  },
  {
   "cell_type": "code",
   "execution_count": null,
   "id": "811b7ff6-2ef0-4aa7-8e98-064bce9e719e",
   "metadata": {},
   "outputs": [],
   "source": [
    "N  = 192   # Number of particles in a single dimension\n",
    "Lx = 1.0    # Size of the box along the x-axis\n",
    "Ly = 1.0    # Size of the box along the y-axis\n",
    "dh = 0.025  # Smoothing length of V and D on the fluid boundary"
   ]
  },
  {
   "cell_type": "code",
   "execution_count": null,
   "id": "c6212a5f-083b-433d-a275-43c94a8b2990",
   "metadata": {
    "tags": []
   },
   "outputs": [],
   "source": [
    "KH = [0.25, 0.75]"
   ]
  },
  {
   "cell_type": "markdown",
   "id": "5034fc16-b3f5-460f-ad3c-bfdfdf8d96bd",
   "metadata": {},
   "source": [
    "### Determine smoothing length"
   ]
  },
  {
   "cell_type": "code",
   "execution_count": null,
   "id": "dcaa3e82-799d-4bda-bd84-85a89a17f660",
   "metadata": {
    "tags": []
   },
   "outputs": [],
   "source": [
    "delta_x = (Lx**2 / (N*Lx)**2)**0.5\n",
    "delta_y = (Ly**2 / (N*Ly)**2)**0.5\n",
    "delta_x, delta_y"
   ]
  },
  {
   "cell_type": "markdown",
   "id": "67020729-0bd3-4e35-84ae-84374ec87919",
   "metadata": {},
   "source": [
    "### Generate coordinates"
   ]
  },
  {
   "cell_type": "code",
   "execution_count": null,
   "id": "5c3a6fa6-d936-4af4-bd4e-6a06b0a59f1f",
   "metadata": {},
   "outputs": [],
   "source": [
    "# Coordinates on a grid\n",
    "xi   = np.linspace(0, Lx, int(N*Lx), endpoint=False)\n",
    "yi   = np.linspace(0, Ly, int(N*Ly), endpoint=False)\n",
    "X, Y = np.meshgrid(xi, yi, sparse=False, indexing='xy')\n",
    "X, Y = X.flatten(), Y.flatten()\n",
    "Z    = np.zeros(X.size)"
   ]
  },
  {
   "cell_type": "code",
   "execution_count": null,
   "id": "027e9899-ec8d-43ae-9aee-e3f8498efb71",
   "metadata": {
    "tags": []
   },
   "outputs": [],
   "source": [
    "F = (Y - np.min(Y)) / np.max(Y - np.min(Y))"
   ]
  },
  {
   "cell_type": "markdown",
   "id": "ebd82a12-f5d3-4400-a157-57cd68c7fac8",
   "metadata": {},
   "source": [
    "### Generate densities"
   ]
  },
  {
   "cell_type": "code",
   "execution_count": null,
   "id": "c4164712-4cea-4aad-9634-2b4d0122de48",
   "metadata": {},
   "outputs": [],
   "source": [
    "rho_1, rho_2 = 1, 2  # Densities of the two interacting fluids\n",
    "rho_m = (rho_1 - rho_2) * 0.5"
   ]
  },
  {
   "cell_type": "code",
   "execution_count": null,
   "id": "7ea87152-9940-478d-ba70-654012764798",
   "metadata": {
    "tags": []
   },
   "outputs": [],
   "source": [
    "D = np.zeros(X.size)\n",
    "\n",
    "#\n",
    "mask    = (F >= 0) & (F < KH[0])\n",
    "D[mask] = rho_1 - rho_m * np.exp((F[mask] - KH[0]) / dh)\n",
    "\n",
    "#\n",
    "mask    = (F >= KH[0]) & (F < 0.5)\n",
    "D[mask] = rho_2 + rho_m * np.exp((-F[mask] + KH[0]) / dh)\n",
    "\n",
    "#\n",
    "mask    = (F >= 0.5) & (F < KH[1])\n",
    "D[mask] = rho_2 + rho_m * np.exp((-(KH[1] - F[mask])) / dh)\n",
    "\n",
    "#\n",
    "mask    = (F >= KH[1]) & (F <= 1.0)\n",
    "D[mask] = rho_1 - rho_m * np.exp((-(F[mask] - KH[1])) / dh)"
   ]
  },
  {
   "cell_type": "code",
   "execution_count": null,
   "id": "f2293ef9-1bc4-49ec-b2d0-14131005e31b",
   "metadata": {},
   "outputs": [],
   "source": [
    "nr, nc = 1, 2\n",
    "fig, axes = plt.subplots(nr, nc, figsize=(nc*6, nr*5))\n",
    "axes[0].plot(D)\n",
    "axes[1].plot(sorted(D))\n",
    "plt.show()"
   ]
  },
  {
   "cell_type": "markdown",
   "id": "fd1c656a-dd70-45bd-b233-4117fa26f12e",
   "metadata": {},
   "source": [
    "### Generate velocities"
   ]
  },
  {
   "cell_type": "code",
   "execution_count": null,
   "id": "f29b4031-5dc8-462e-bbdf-fdeeeeea3b3b",
   "metadata": {
    "tags": []
   },
   "outputs": [],
   "source": [
    "u_1, u_2 = 0.5, -0.5  # Velocities of the two interacting fluids\n",
    "u_m = (u_1 - u_2) * 0.5"
   ]
  },
  {
   "cell_type": "code",
   "execution_count": null,
   "id": "62f83e56-4900-4f12-a7f3-1fb4bd4a3e39",
   "metadata": {
    "tags": []
   },
   "outputs": [],
   "source": [
    "vx = np.zeros(X.size)\n",
    "\n",
    "#\n",
    "mask    = (F >= 0) & (F < KH[0])\n",
    "vx[mask] = u_1 - u_m * np.exp((F[mask] - KH[0]) / dh)\n",
    "\n",
    "#\n",
    "mask    = (F >= KH[0]) & (F < 0.5)\n",
    "vx[mask] = u_2 + u_m * np.exp((-F[mask] + KH[0]) / dh)\n",
    "\n",
    "#\n",
    "mask    = (F >= 0.5) & (F < KH[1])\n",
    "vx[mask] = u_2 + u_m * np.exp((-(KH[1] - F[mask])) / dh)\n",
    "\n",
    "#\n",
    "mask    = (F >= KH[1]) & (F <= 1.0)\n",
    "vx[mask] = u_1 - u_m * np.exp((-(F[mask] - KH[1])) / dh)"
   ]
  },
  {
   "cell_type": "code",
   "execution_count": null,
   "id": "737f0642-709d-4830-8415-d72ffd5a9c4b",
   "metadata": {
    "tags": []
   },
   "outputs": [],
   "source": [
    "vy = 0.01 * np.sin(4.0 * np.pi * X)"
   ]
  },
  {
   "cell_type": "code",
   "execution_count": null,
   "id": "918647e5-044d-4867-aa68-8cd5aceaec54",
   "metadata": {
    "tags": []
   },
   "outputs": [],
   "source": [
    "vz = np.zeros(X.size)"
   ]
  },
  {
   "cell_type": "code",
   "execution_count": null,
   "id": "7f04720b-16fd-4dd8-bea0-5bcb78a2e045",
   "metadata": {},
   "outputs": [],
   "source": [
    "nr, nc = 1, 3\n",
    "fig, axes = plt.subplots(nr, nc, figsize=(nc*6, nr*5))\n",
    "axes[0].plot(Y, vx)\n",
    "axes[1].scatter(X, vy)\n",
    "axes[2].plot(vz)\n",
    "plt.show()"
   ]
  },
  {
   "cell_type": "markdown",
   "id": "d628baeb-14e5-4aba-8ce3-0b7b00711dc5",
   "metadata": {},
   "source": [
    "### Calculate internal energy"
   ]
  },
  {
   "cell_type": "code",
   "execution_count": null,
   "id": "0d0baddd-1c6d-48de-bbc1-cd51ae09b427",
   "metadata": {
    "tags": []
   },
   "outputs": [],
   "source": [
    "P = 5./2.      # Constant pressure as seen in Springel (2010) and McNally (2012)\n",
    "gamma = 5./3.  # Polytropic/adiabatic index of ideal EoS"
   ]
  },
  {
   "cell_type": "code",
   "execution_count": null,
   "id": "cc4eedc7-4016-4653-9457-9b5b30d140d4",
   "metadata": {},
   "outputs": [],
   "source": [
    "E = P / ((gamma - 1) * D)"
   ]
  },
  {
   "cell_type": "markdown",
   "id": "7ec85451-9606-41c7-9992-7e9c3f4bcde7",
   "metadata": {},
   "source": [
    "### Calculate masses"
   ]
  },
  {
   "cell_type": "code",
   "execution_count": null,
   "id": "67f6aa13-af49-471f-8064-bc8d57f88887",
   "metadata": {},
   "outputs": [],
   "source": [
    "M = D / D.size"
   ]
  },
  {
   "cell_type": "markdown",
   "id": "eacde744-538c-4d0a-a82e-aa995940de5d",
   "metadata": {},
   "source": [
    "## Inspect generated IC"
   ]
  },
  {
   "cell_type": "code",
   "execution_count": null,
   "id": "8871ed0f-80eb-4116-858e-bea7a6ffa014",
   "metadata": {},
   "outputs": [],
   "source": [
    "nr, nc = 2, 2\n",
    "fig, axes = plt.subplots(nr, nc, figsize=(nc*6*Lx, nr*6*Ly), dpi=120,\n",
    "                         facecolor='black')\n",
    "fig.subplots_adjust(wspace=0.01, hspace=0.01)\n",
    "axes = axes.flatten()\n",
    "\n",
    "for ax in axes:\n",
    "    ax.axis(False)\n",
    "    ax.set_aspect('equal')\n",
    "    ax.set_xlim(np.min(X), np.max(X))\n",
    "    ax.set_ylim(np.min(Y), np.max(Y))\n",
    "\n",
    "# X-velocities\n",
    "ax = axes[0]\n",
    "ax.scatter(X, Y, c=vx, cmap='viridis', s=0.1)\n",
    "\n",
    "# Density\n",
    "ax = axes[1]\n",
    "ax.scatter(X, Y, c=D, cmap='viridis', s=0.1)\n",
    "\n",
    "# Internal energy\n",
    "ax = axes[2]\n",
    "ax.scatter(X, Y, c=E, cmap='viridis', s=0.1)\n",
    "\n",
    "# Masses\n",
    "ax = axes[3]\n",
    "ax.scatter(X, Y, c=M, cmap='viridis', s=0.1)\n",
    "\n",
    "plt.show()"
   ]
  },
  {
   "cell_type": "markdown",
   "id": "0cfdb7f5-44e2-4141-a826-e9de42fe8376",
   "metadata": {},
   "source": [
    "## Save IC"
   ]
  },
  {
   "cell_type": "code",
   "execution_count": null,
   "id": "9a28553a-f304-4760-9ac4-81238a3cfed5",
   "metadata": {
    "tags": []
   },
   "outputs": [],
   "source": [
    "file = h5py.File(os.path.join(DATA_DIR, f'kh_mcnally_{N}.hdf5'), 'w')\n",
    "\n",
    "h = file.create_group('Header')\n",
    "NPART = np.array([X.size, 0, 0, 0, 0, 0])\n",
    "h.attrs['NumPart_ThisFile'] = NPART\n",
    "h.attrs['NumPart_Total'] = NPART\n",
    "h.attrs['NumPart_Total_HighWord'] = 0*NPART\n",
    "h.attrs['MassTable'] = np.zeros(6)\n",
    "h.attrs['Time'] = 0.0\n",
    "h.attrs['NumFilesPerSnapshot'] = 1\n",
    "h.attrs['Flag_DoublePrecision'] = 0\n",
    "\n",
    "p = file.create_group('PartType0')\n",
    "p.create_dataset('Coordinates', data=np.column_stack((X, Y, Z)))\n",
    "p.create_dataset('Velocities', data=np.column_stack((vx, vy, vz)))\n",
    "p.create_dataset('ParticleIDs', data=np.arange(1, N**2+1, 1))\n",
    "#p.create_dataset('ParticleChildIDsNumber', data=np.zeros(N**2))\n",
    "#p.create_dataset('ParticleIDGenerationNumber', data=np.zeros(N**2))\n",
    "p.create_dataset('Masses', data=M)\n",
    "p.create_dataset('Density', data=D)\n",
    "p.create_dataset('InternalEnergy', data=E)\n",
    "p.create_dataset('SmoothingLength', data=((M / D)**(1/2)))\n",
    "\n",
    "file.close()"
   ]
  },
  {
   "cell_type": "code",
   "execution_count": null,
   "id": "1b924bf1-efa6-4542-b9dd-a73bfde1b1f3",
   "metadata": {},
   "outputs": [],
   "source": [
    "s = os.path.join(DATA_DIR, 'test_kh_ics.hdf5')"
   ]
  },
  {
   "cell_type": "code",
   "execution_count": null,
   "id": "9b09a3b5-b993-4a92-a63a-bb4a363202e2",
   "metadata": {},
   "outputs": [],
   "source": [
    "values = get_data(s)"
   ]
  },
  {
   "cell_type": "code",
   "execution_count": null,
   "id": "ebfcdb3a-411c-471b-bef9-b700f934cea3",
   "metadata": {},
   "outputs": [],
   "source": [
    "values"
   ]
  },
  {
   "cell_type": "code",
   "execution_count": null,
   "id": "ab109216-b212-4302-98ee-e7c5709d8e79",
   "metadata": {},
   "outputs": [],
   "source": []
  }
 ],
 "metadata": {
  "kernelspec": {
   "display_name": "Python 3 (ipykernel)",
   "language": "python",
   "name": "python3"
  },
  "language_info": {
   "codemirror_mode": {
    "name": "ipython",
    "version": 3
   },
   "file_extension": ".py",
   "mimetype": "text/x-python",
   "name": "python",
   "nbconvert_exporter": "python",
   "pygments_lexer": "ipython3",
   "version": "3.11.6"
  }
 },
 "nbformat": 4,
 "nbformat_minor": 5
}
