{
 "cells": [
  {
   "cell_type": "code",
   "execution_count": null,
   "id": "4c7c56b3-5a0f-44b9-baa9-b9d913b278f8",
   "metadata": {
    "tags": []
   },
   "outputs": [],
   "source": [
    "DATA_DIR = '/home/pal.balazs/data/kelvin_helmholtz/'"
   ]
  },
  {
   "cell_type": "code",
   "execution_count": null,
   "id": "f4246c65-be90-42e0-a23a-f8354a3d5173",
   "metadata": {
    "tags": []
   },
   "outputs": [],
   "source": [
    "import os\n",
    "import h5py\n",
    "\n",
    "import numpy as np\n",
    "from scipy.interpolate import griddata\n",
    "\n",
    "import colorcet as cc\n",
    "import matplotlib as mpl\n",
    "import matplotlib.cm as cm\n",
    "import matplotlib.pyplot as plt\n",
    "from matplotlib.animation import FuncAnimation"
   ]
  },
  {
   "cell_type": "code",
   "execution_count": null,
   "id": "64e4efdd-10e1-4ce1-b778-9f32d8f783f8",
   "metadata": {
    "tags": []
   },
   "outputs": [],
   "source": [
    "def get_keys(s):\n",
    "    with h5py.File(s, \"r\") as f:\n",
    "        keys = list(f['PartType0'].keys())\n",
    "    return keys"
   ]
  },
  {
   "cell_type": "code",
   "execution_count": null,
   "id": "e7b7013b-8216-41f3-a9dd-87930e5440be",
   "metadata": {
    "tags": []
   },
   "outputs": [],
   "source": [
    "def get_data(s):\n",
    "    with h5py.File(s, \"r\") as f:\n",
    "        X, Y, _ = f['PartType0']['Coordinates'][:].T\n",
    "        D = f['PartType0']['Density'][:]\n",
    "        h = f['PartType0']['SmoothingLength'][:]\n",
    "    return X, Y, D, h"
   ]
  },
  {
   "cell_type": "code",
   "execution_count": null,
   "id": "d5cb0734-e0e1-4b4f-a72f-1b4552297a48",
   "metadata": {
    "tags": []
   },
   "outputs": [],
   "source": [
    "def get_grid_data(s, N):\n",
    "    X, Y, D, _ = get_data(s)\n",
    "    A = round(np.max(X) / np.max(Y), 1)\n",
    "    xi, yi = np.meshgrid(np.linspace(0, np.max(X), int(N*A)),\n",
    "                         np.linspace(0, np.max(Y), N),\n",
    "                         indexing='ij')\n",
    "    return griddata(np.stack((X, Y), axis=1), D, (xi, yi), method='nearest')"
   ]
  },
  {
   "cell_type": "markdown",
   "id": "f372c25c-3ff1-425a-bcc0-8c8179696f50",
   "metadata": {},
   "source": [
    "## Open and visualize snapshot"
   ]
  },
  {
   "cell_type": "code",
   "execution_count": null,
   "id": "cd2bb6f8-d717-4b07-8f65-1ee3cd2cebe3",
   "metadata": {
    "tags": []
   },
   "outputs": [],
   "source": [
    "run = os.path.join(DATA_DIR, 'kh2048')\n",
    "fn = sorted([os.path.join(run, f) for f in os.listdir(run) if f.startswith('snapshot_')])"
   ]
  },
  {
   "cell_type": "code",
   "execution_count": null,
   "id": "b0afe054-81a9-42a7-bcab-1c1a0b15112a",
   "metadata": {},
   "outputs": [],
   "source": [
    "len(fn)"
   ]
  },
  {
   "cell_type": "code",
   "execution_count": null,
   "id": "28e6196a-f665-4496-823a-c86651aa2f61",
   "metadata": {},
   "outputs": [],
   "source": [
    "si = -1"
   ]
  },
  {
   "cell_type": "code",
   "execution_count": null,
   "id": "3d756add-ab3e-4ed1-915f-cba723defec8",
   "metadata": {
    "tags": []
   },
   "outputs": [],
   "source": [
    "X, Y, D, _ = get_data(fn[si])\n",
    "grid = get_grid_data(fn[si], N=2048)"
   ]
  },
  {
   "cell_type": "code",
   "execution_count": null,
   "id": "25c4af19-b18a-4621-a59e-ce7766d821b9",
   "metadata": {
    "tags": []
   },
   "outputs": [],
   "source": [
    "fig, ax = plt.subplots(figsize=(8, 8), dpi=120, facecolor='black')\n",
    "ax.set_aspect('equal')\n",
    "ax.axis(False)\n",
    "\n",
    "ax.imshow(np.rot90(np.nan_to_num(grid), axes=(-2,-1)),\n",
    "          cmap=cm.RdBu_r)\n",
    "\n",
    "#plt.savefig(f'{os.path.basename(run)}-field-snapshot{si}',\n",
    "#            pad_inches=0.0, bbox_inches='tight')\n",
    "plt.show()"
   ]
  },
  {
   "cell_type": "code",
   "execution_count": null,
   "id": "7b7b1512-1e4b-41e7-b37b-444696434da2",
   "metadata": {},
   "outputs": [],
   "source": [
    "from matplotlib.colors import ListedColormap"
   ]
  },
  {
   "cell_type": "code",
   "execution_count": null,
   "id": "80304db8-e521-444a-b9fd-83dec937bb66",
   "metadata": {},
   "outputs": [],
   "source": [
    "top = mpl.colormaps['Oranges_r'].resampled(128)\n",
    "bottom = mpl.colormaps['Blues'].resampled(128)\n",
    "\n",
    "newcolors = np.vstack((top(np.linspace(0, 1, 128)),\n",
    "                       bottom(np.linspace(0, 1, 128))))\n",
    "newcmp = ListedColormap(newcolors, name='OrangeBlue')"
   ]
  },
  {
   "cell_type": "code",
   "execution_count": null,
   "id": "1a784680-8fb5-4665-9a8b-be843029681b",
   "metadata": {
    "tags": []
   },
   "outputs": [],
   "source": [
    "fig, ax = plt.subplots(figsize=(8, 8), dpi=120, facecolor='black')\n",
    "ax.set_aspect('equal')\n",
    "ax.axis(False)\n",
    "\n",
    "#cmap = cm.get_cmap(\"cet_CET_CBD2\")\n",
    "ax.scatter(X, Y, c=D, cmap=newcmp, s=3)\n",
    "ax.set_xlim(min(X), max(X))\n",
    "ax.set_ylim(min(Y), max(Y))\n",
    "\n",
    "plt.show()"
   ]
  },
  {
   "cell_type": "code",
   "execution_count": null,
   "id": "5647acbb-cc2d-4735-b6d0-84c4c3649e89",
   "metadata": {
    "tags": []
   },
   "outputs": [],
   "source": [
    "nr, nc = 2, 1\n",
    "fig, axes = plt.subplots(nr, nc, figsize=(nc*6*2.7, nr*6*1), dpi=120,\n",
    "                         facecolor='black')\n",
    "fig.subplots_adjust(wspace=0, hspace=0)\n",
    "axes = axes.flatten()\n",
    "\n",
    "for ax in axes:\n",
    "    ax.axis(False)\n",
    "    ax.set_aspect('equal')\n",
    "\n",
    "ax = axes[0]\n",
    "ax.scatter(X, Y, c=D, cmap='viridis', s=0.5)\n",
    "ax.set_xlim(min(X), max(X))\n",
    "ax.set_ylim(min(Y), max(Y))\n",
    "\n",
    "ax = axes[1]\n",
    "ax.imshow(np.rot90(grid, axes=(-2,-1)))\n",
    "\n",
    "plt.show()"
   ]
  },
  {
   "cell_type": "markdown",
   "id": "12516018-992e-4dd4-8f26-fc2eafc967e0",
   "metadata": {},
   "source": [
    "## Datashader"
   ]
  },
  {
   "cell_type": "code",
   "execution_count": null,
   "id": "9a2a539e-21a7-400a-88e4-9acb9c2403ef",
   "metadata": {},
   "outputs": [],
   "source": [
    "import pandas as pd\n",
    "import datashader as ds\n",
    "import datashader.transfer_functions as tf\n",
    "\n",
    "import matplotlib.cm as cm"
   ]
  },
  {
   "cell_type": "code",
   "execution_count": null,
   "id": "d49530e5-d1bf-4e34-ba14-b92c941acd16",
   "metadata": {},
   "outputs": [],
   "source": [
    "df = pd.DataFrame({'x': X, 'y': Y, 'd': D})"
   ]
  },
  {
   "cell_type": "code",
   "execution_count": null,
   "id": "3f34101d-e9af-497b-acf3-1332956a1692",
   "metadata": {},
   "outputs": [],
   "source": [
    "%%time\n",
    "n = 1.0\n",
    "canvas = ds.Canvas(plot_width=int(n*851), plot_height=int(n*315))\n",
    "tf.shade(canvas.points(df, 'x', 'y', ds.mean('d')),\n",
    "         cmap=cm.inferno_r)"
   ]
  },
  {
   "cell_type": "markdown",
   "id": "4b54cc18-a043-494a-8b9d-d44963c1712b",
   "metadata": {},
   "source": [
    "## Compare grid resolutions"
   ]
  },
  {
   "cell_type": "code",
   "execution_count": null,
   "id": "60a96139-1bec-4c17-b6c0-feb8dd4fa659",
   "metadata": {},
   "outputs": [],
   "source": [
    "N = [128, 256, 512, 1024]\n",
    "nr, nc = 2, 2\n",
    "fig, axes = plt.subplots(nr, nc, figsize=(nc*6, nr*6), dpi=120,\n",
    "                         facecolor='black')\n",
    "fig.subplots_adjust(wspace=0, hspace=0)\n",
    "axes = axes.flatten()\n",
    "\n",
    "for ax in axes:\n",
    "    ax.axis(False)\n",
    "\n",
    "for ax, ni in zip(axes, N):\n",
    "    ax.imshow(np.rot90(get_grid_data(s, N=ni), axes=(-2,-1)),\n",
    "              cmap='cividis_r')\n",
    "\n",
    "plt.show()"
   ]
  },
  {
   "cell_type": "markdown",
   "id": "c0eb6fab-ddb9-4647-99ba-360e61c2c146",
   "metadata": {},
   "source": [
    "## Animation"
   ]
  },
  {
   "cell_type": "code",
   "execution_count": null,
   "id": "1c63128c-2b8f-4569-830e-96bfe7e1052b",
   "metadata": {},
   "outputs": [],
   "source": [
    "def visualize_field(run, *,\n",
    "                    fps=15, ni=512, cmap='viridis', fname=None):\n",
    "    fig, ax = plt.subplots(figsize=(8, 8), dpi=120, facecolor='black')\n",
    "    fig.subplots_adjust(left=0, right=1, bottom=0, top=1)\n",
    "    ax.set_aspect('equal')\n",
    "    ax.axis(False)\n",
    "\n",
    "    run = os.path.join(DATA_DIR, run)\n",
    "    fn = sorted([os.path.join(run, f) for f in os.listdir(run) if f.startswith('snapshot_')])\n",
    "    data = np.rot90(get_grid_data(fn[0], N=ni), axes=(-2,-1))\n",
    "    img = ax.imshow(data, cmap=cmap, animated=True)\n",
    "\n",
    "    def update(frame):\n",
    "        data = np.rot90(get_grid_data(fn[frame], N=ni), axes=(-2,-1))\n",
    "        img.set_array(data)\n",
    "        return img,\n",
    "\n",
    "    ani = FuncAnimation(fig, update, frames=len(fn), interval=1000/fps, blit=True)\n",
    "    plt.show()\n",
    "\n",
    "    # Save animation\n",
    "    if fname is None:\n",
    "        fname = f'{os.path.basename(run)}-anim-field-{fps}fps.mp4'\n",
    "    ani.save(fname, fps=fps, writer='ffmpeg')\n",
    "    # or save as gif\n",
    "    # ani.save('wave_animation.gif', writer='imagemagick')"
   ]
  },
  {
   "cell_type": "code",
   "execution_count": null,
   "id": "ae4b960f-a7fa-4c3c-900a-1f56670ffd98",
   "metadata": {},
   "outputs": [],
   "source": [
    "%%time\n",
    "run = 'kh2048'\n",
    "fps = 24\n",
    "ni = 2048\n",
    "visualize_field(run, fps=fps, ni=ni, cmap=cm.RdBu_r)"
   ]
  },
  {
   "cell_type": "code",
   "execution_count": null,
   "id": "61811465-bbfc-4541-ac14-862910bae801",
   "metadata": {
    "tags": []
   },
   "outputs": [],
   "source": [
    "def visualize_sph(run, *,\n",
    "                  fps=15, cmap='viridis', fname=None):\n",
    "    fig, ax = plt.subplots(figsize=(8, 8), dpi=120, facecolor='black')\n",
    "    fig.subplots_adjust(left=0, right=1, bottom=0, top=1)\n",
    "    ax.set_aspect('equal')\n",
    "    ax.axis(False)\n",
    "\n",
    "    run = os.path.join(DATA_DIR, run)\n",
    "    fn = sorted([os.path.join(run, f) for f in os.listdir(run) if f.startswith('snapshot_')])\n",
    "    X, Y, D, _ = get_data(fn[0])\n",
    "    scatter = ax.scatter(X, Y, c=D, s=3.5, cmap=cmap, animated=True)\n",
    "    ax.set_xlim(min(X), max(X))\n",
    "    ax.set_ylim(min(Y), max(Y))\n",
    "\n",
    "    def update(frame):\n",
    "        X, Y, D, _ = get_data(fn[frame])\n",
    "        scatter.set_offsets(np.c_[X, Y])\n",
    "        scatter.set_array(D)\n",
    "        return scatter,\n",
    "\n",
    "    ani = FuncAnimation(fig, update, frames=len(fn), interval=1000/fps, blit=True)\n",
    "    plt.show()\n",
    "\n",
    "    # Save animation\n",
    "    if fname is None:\n",
    "        fname = f'{os.path.basename(run)}-anim-sph-{fps}fps.mp4'\n",
    "    ani.save(fname, fps=fps, writer='ffmpeg')\n",
    "    # or save as gif\n",
    "    # ani.save('wave_animation.gif', writer='imagemagick')"
   ]
  },
  {
   "cell_type": "code",
   "execution_count": null,
   "id": "14f92976-40bc-4452-b8f3-a68fa20bdb56",
   "metadata": {
    "tags": []
   },
   "outputs": [],
   "source": [
    "%%time\n",
    "run = 'kh192'\n",
    "visualize_sph(run, fps=24, cmap=newcmp)"
   ]
  },
  {
   "cell_type": "markdown",
   "id": "bdff2244-41e5-46f3-92c9-ab44a4ce21cf",
   "metadata": {
    "jp-MarkdownHeadingCollapsed": true
   },
   "source": [
    "RUPTURE.\n",
    "\n",
    "The Kelvin-Helmholtz instability (KHI) is a physical phenomenon in (magneto)hydrodynamics that typically arises when two fluids of different velocities come in contact. The velocity difference (or more precisely velocity shear) causes the interface of the two fluids to become unstable, creating a vortex-like turbulence along their boundary.\n",
    "\n",
    "The image above shows the density field of a snapshot from a 2D simulation of the KHI with periodic boundary conditions. The simulation consists of two inviscid (super)fluids with a density ratio of 1:2, flowing in the opposite directions with the same velocity. The denser fluid, which occupies the central portion of the image, is primarily illustrated in red, while the less dense areas are portrayed in blue. The turbulent boundary region where the fluids interact showcases a gradient transitioning from blue to red (through white in the middle). This color transition provides a visual representation of the merging fluids and the complex dynamics at play within the vortex features on the fluid boundary. Theoretically, this setup would result in an infinitely repeating fractal pattern that can also be seen here. A sheet of vortices form not just on the fluid boundary, but on the individual vortices too. A handful of these lesser vortices also show even smaller-scale vortices forming on them.\n",
    "\n",
    "The hydrodynamic simulation was carried out using the GIZMO multi-physics code, utilizing its meshless finite-mass/finite-volume hydrosolver method developed by Hopkins (2015). Initial conditions with smooth boundaries were generated according to McNally et al. (2012) and Berlok (2019) on a grid of 5529x2048 particles (which is approximately the standard ratio of Facebook covers - 851:315 or approximately 2.7:1). The simulation was completed on the computational infrastructure of the Wigner RCP's GPU Laboratory using 128 CPU threads on an AMD EPYC 7742, 64-core processor in ~30 hours, which is around 160 days of total CPU time. The final visualization was made using matplotlib in Python.\n",
    "\n",
    "---\n",
    "\n",
    "Hopkins, P. F. (2015). A new class of accurate, mesh-free hydrodynamic simulation methods. Monthly Notices of the Royal Astronomical Society, 450(1), 53-110.\n",
    "\n",
    "McNally, C. P., Lyra, W., & Passy, J. C. (2012). A well-posed Kelvin–Helmholtz instability test and comparison. The Astrophysical Journal Supplement Series, 201(2), 18.\n",
    "\n",
    "Berlok, T., & Pfrommer, C. (2019). On the Kelvin–Helmholtz instability with smooth initial conditions–linear theory and simulations. Monthly Notices of the Royal Astronomical Society, 485(1), 908-923."
   ]
  },
  {
   "cell_type": "markdown",
   "id": "1b326e9d-e034-452d-9e81-520a7b80b8d9",
   "metadata": {
    "jp-MarkdownHeadingCollapsed": true
   },
   "source": [
    "RUPTURE.\n",
    "\n",
    "The Kelvin-Helmholtz instability (KHI) is a physical phenomenon in (magneto)hydrodynamics that typically arises when two fluids of different velocities come in contact. The velocity difference (or more precisely velocity shear) causes the interface of the two fluids to become unstable, creating a vortex-like turbulence along their boundary.\n",
    "\n",
    "The image above shows the density field of a snapshot from a 2D simulation of the KHI with periodic boundary conditions. The simulation consists of two inviscid (super)fluids with a density ratio of 1:2, flowing in the opposite directions with the same velocity. The denser fluid, which occupies the central portion of the image, is primarily illustrated in red, while the less dense areas are portrayed in blue. The turbulent boundary region where the fluids interact showcases a gradient transitioning from blue to red (through white in the middle). This color transition provides a visual representation of the merging fluids and the complex dynamics at play within the vortex features on the fluid boundary. Theoretically, this setup would result in an infinitely repeating fractal pattern that can also be seen here. A sheet of vortices form not just on the fluid boundary, but on the individual vortices too. A handful of these lesser vortices also show even smaller-scale vortices forming on them.\n",
    "\n",
    "The hydrodynamic simulation was carried out using the GIZMO multi-physics code, utilizing its meshless finite-mass/finite-volume hydrosolver method developed by Hopkins (2015). Initial conditions with smooth boundaries were generated according to McNally et al. (2012) and Berlok (2019) on a grid of 2048x2048 particles. The simulation was completed on the computational infrastructure of the Wigner RCP's GPU Laboratory using 128 CPU threads on an AMD EPYC 7742, 64-core processor in ~30 hours, which is around 160 days of total CPU time. The final visualization was made using matplotlib in Python.\n",
    "\n",
    "---\n",
    "\n",
    "Hopkins, P. F. (2015). A new class of accurate, mesh-free hydrodynamic simulation methods. Monthly Notices of the Royal Astronomical Society, 450(1), 53-110.\n",
    "\n",
    "McNally, C. P., Lyra, W., & Passy, J. C. (2012). A well-posed Kelvin–Helmholtz instability test and comparison. The Astrophysical Journal Supplement Series, 201(2), 18.\n",
    "\n",
    "Berlok, T., & Pfrommer, C. (2019). On the Kelvin–Helmholtz instability with smooth initial conditions–linear theory and simulations. Monthly Notices of the Royal Astronomical Society, 485(1), 908-923."
   ]
  },
  {
   "cell_type": "markdown",
   "id": "d2385d7e-2476-48d5-866b-4a25353f5599",
   "metadata": {},
   "source": [
    "MOZAIC.\n",
    "\n",
    "Yet another simulation of the Kelvin-Helmholtz instability with the same physical characteristics, but now with a much smaller resolution to visually give rise to the simualation's microscopic nature. Individual SPH particles on a meshless grid pushes against each other, creating a mozaic-like domain structure.\n",
    "\n",
    "The hydrodynamic simulation was carried out using the GIZMO multi-physics code, utilizing its meshless finite-mass/finite-volume hydrosolver method developed by Hopkins (2015). Initial conditions with smooth boundaries were generated according to McNally et al. (2012) and Berlok (2019) on a grid of 192x192 particles. The simulation was completed on the computational infrastructure of the Wigner RCP's GPU Laboratory using 128 CPU threads on an AMD EPYC 7742, 64-core processor in ~3 minutes, which is ~6.4 hours of total CPU time. The final visualization was made using matplotlib in Python.\n",
    "\n",
    "---\n",
    "\n",
    "Hopkins, P. F. (2015). A new class of accurate, mesh-free hydrodynamic simulation methods. Monthly Notices of the Royal Astronomical Society, 450(1), 53-110.\n",
    "\n",
    "McNally, C. P., Lyra, W., & Passy, J. C. (2012). A well-posed Kelvin–Helmholtz instability test and comparison. The Astrophysical Journal Supplement Series, 201(2), 18.\n",
    "\n",
    "Berlok, T., & Pfrommer, C. (2019). On the Kelvin–Helmholtz instability with smooth initial conditions–linear theory and simulations. Monthly Notices of the Royal Astronomical Society, 485(1), 908-923."
   ]
  },
  {
   "cell_type": "code",
   "execution_count": null,
   "id": "6569943c-f651-4a4d-8e4a-054f7148bc44",
   "metadata": {},
   "outputs": [],
   "source": []
  }
 ],
 "metadata": {
  "kernelspec": {
   "display_name": "Python 3 (ipykernel)",
   "language": "python",
   "name": "python3"
  },
  "language_info": {
   "codemirror_mode": {
    "name": "ipython",
    "version": 3
   },
   "file_extension": ".py",
   "mimetype": "text/x-python",
   "name": "python",
   "nbconvert_exporter": "python",
   "pygments_lexer": "ipython3",
   "version": "3.11.6"
  }
 },
 "nbformat": 4,
 "nbformat_minor": 5
}
