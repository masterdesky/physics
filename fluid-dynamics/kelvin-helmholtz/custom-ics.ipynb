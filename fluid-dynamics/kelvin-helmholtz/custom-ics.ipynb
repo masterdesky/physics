{
 "cells": [
  {
   "cell_type": "code",
   "execution_count": null,
   "id": "2589ad40-adfc-4dcc-b9ed-82d7f4fbf644",
   "metadata": {
    "tags": []
   },
   "outputs": [],
   "source": [
    "DATA_DIR = '/home/pal.balazs/github/gizmo-public/ICs/'"
   ]
  },
  {
   "cell_type": "code",
   "execution_count": null,
   "id": "ecca2bc2-d79d-4f59-a3eb-190d02dc6c0b",
   "metadata": {
    "tags": []
   },
   "outputs": [],
   "source": [
    "import os\n",
    "import h5py\n",
    "\n",
    "import numpy as np\n",
    "from scipy.interpolate import griddata\n",
    "\n",
    "import matplotlib.pyplot as plt"
   ]
  },
  {
   "cell_type": "code",
   "execution_count": null,
   "id": "1f18919c-bb5a-4367-9ac2-7a8c7c0822da",
   "metadata": {
    "tags": []
   },
   "outputs": [],
   "source": [
    "def get_keys(s):\n",
    "    with h5py.File(os.path.join(DATA_DIR, s), \"r\") as f:\n",
    "        keys = list(f['PartType0'].keys())\n",
    "    return keys"
   ]
  },
  {
   "cell_type": "code",
   "execution_count": null,
   "id": "e48d610c-16f3-49a9-bde2-6677e65cd014",
   "metadata": {
    "tags": []
   },
   "outputs": [],
   "source": [
    "def get_data(s):\n",
    "    values = {}\n",
    "    with h5py.File(os.path.join(DATA_DIR, s), \"r\") as f:\n",
    "        for k in get_keys(s):\n",
    "            values[k] = f['PartType0'][k][:]\n",
    "    return values"
   ]
  },
  {
   "cell_type": "code",
   "execution_count": null,
   "id": "dbeca81a-ba08-4333-a024-5e0d6a19da87",
   "metadata": {
    "tags": []
   },
   "outputs": [],
   "source": [
    "def get_grid_data(s, N):\n",
    "    X, Y, D, _ = get_data(s)\n",
    "    xi, yi = np.meshgrid(np.linspace(0, 1, N), np.linspace(0, 1, N),\n",
    "                         indexing='ij')\n",
    "    return griddata(np.stack((X, Y), axis=1), D, (xi, yi), method='cubic')"
   ]
  },
  {
   "cell_type": "markdown",
   "id": "0edd3b14-ffa1-4880-9cd9-9e7cdb097a57",
   "metadata": {},
   "source": [
    "## Generate initial conditions with smooth boundaries"
   ]
  },
  {
   "cell_type": "code",
   "execution_count": null,
   "id": "811b7ff6-2ef0-4aa7-8e98-064bce9e719e",
   "metadata": {},
   "outputs": [],
   "source": [
    "N  = 784   # Number of particles in a single dimension\n",
    "L  = 1.0   # Size of the box\n",
    "dh = 0.05  # Smoothing length of V and D on the fluid boundary"
   ]
  },
  {
   "cell_type": "markdown",
   "id": "3dfd0677-56f7-4629-a5c6-da769b484362",
   "metadata": {},
   "source": [
    "### Determine smoothing length"
   ]
  },
  {
   "cell_type": "code",
   "execution_count": null,
   "id": "c4be14ae-c66d-459f-b826-46675c3ceda3",
   "metadata": {
    "tags": []
   },
   "outputs": [],
   "source": [
    "delta_x = (L**2 / N**2)**0.5"
   ]
  },
  {
   "cell_type": "markdown",
   "id": "6a055936-c2c4-4de3-be95-8815ac0d56d9",
   "metadata": {},
   "source": [
    "### Generate coordinates"
   ]
  },
  {
   "cell_type": "code",
   "execution_count": null,
   "id": "94e7b1ea-b8d1-43a9-b46e-91be000eb62f",
   "metadata": {},
   "outputs": [],
   "source": [
    "# Uniformly random coordinates\n",
    "coordinates = np.column_stack((\n",
    "    np.random.uniform(low=[-0.5, -0.5], high=[0.5, 0.5], size=(N**2, 2)),\n",
    "    np.zeros(N**2)\n",
    "))"
   ]
  },
  {
   "cell_type": "code",
   "execution_count": null,
   "id": "322c0798-7dbb-4057-a0f3-1a1ceb1f9e83",
   "metadata": {},
   "outputs": [],
   "source": [
    "# Coordinates on a grid \n",
    "xi = np.linspace(-0.5+delta_x, 0.5-delta_x, N)\n",
    "yi = np.linspace(-0.5+delta_x, 0.5-delta_x, N)\n",
    "X, Y = np.meshgrid(xi, yi, sparse=False, indexing='xy')\n",
    "Z    = np.zeros(N**2)"
   ]
  },
  {
   "cell_type": "code",
   "execution_count": null,
   "id": "d055d20e-8b71-45d7-b417-4f1343cde719",
   "metadata": {},
   "outputs": [],
   "source": [
    "fig, ax = plt.subplots(figsize=(8, 8))\n",
    "ax.set_aspect('equal')\n",
    "ax.axis(False)\n",
    "ax.scatter(X, Y, s=0.1, alpha=1.0)\n",
    "plt.show()"
   ]
  },
  {
   "cell_type": "markdown",
   "id": "2f89f772-506e-4712-af29-f0530e5a3e44",
   "metadata": {},
   "source": [
    "### Generate densities"
   ]
  },
  {
   "cell_type": "code",
   "execution_count": null,
   "id": "c4164712-4cea-4aad-9634-2b4d0122de48",
   "metadata": {},
   "outputs": [],
   "source": [
    "rho_1, rho_2 = 1, 2  # Densities of the two interacting fluids"
   ]
  },
  {
   "cell_type": "code",
   "execution_count": null,
   "id": "9b6eeae9-a59c-40d4-aa55-361d762a69f8",
   "metadata": {},
   "outputs": [],
   "source": [
    "D = np.tanh(Y/dh)\n",
    "D = (D - np.min(D)) * (1 / (np.max(D) - np.min(D)))\n",
    "D = D * np.abs(rho_1 - rho_2) + np.min((rho_1, rho_2))\n",
    "D = D[::-1]"
   ]
  },
  {
   "cell_type": "code",
   "execution_count": null,
   "id": "c2c71a70-e2b9-4920-aee3-b593dc6a6537",
   "metadata": {},
   "outputs": [],
   "source": [
    "fig, ax = plt.subplots(figsize=(8, 8))\n",
    "ax.set_aspect('equal')\n",
    "ax.axis(False)\n",
    "ax.scatter(X, Y, c=D, s=0.1, alpha=1.0)\n",
    "plt.show()"
   ]
  },
  {
   "cell_type": "markdown",
   "id": "b4a73b4d-3286-4442-8cf0-8e375bf18024",
   "metadata": {},
   "source": [
    "### Generate X-velocities"
   ]
  },
  {
   "cell_type": "code",
   "execution_count": null,
   "id": "a30e6200-3a18-477f-99ac-f6715f9a7430",
   "metadata": {},
   "outputs": [],
   "source": [
    "vx = np.tanh(Y/dh) * 0.5"
   ]
  },
  {
   "cell_type": "code",
   "execution_count": null,
   "id": "b37d50c8-0942-4aa5-ae27-3c247bcde0fe",
   "metadata": {},
   "outputs": [],
   "source": [
    "vx"
   ]
  },
  {
   "cell_type": "code",
   "execution_count": null,
   "id": "532995fb-1160-4f7c-b0ae-863b9f040308",
   "metadata": {},
   "outputs": [],
   "source": [
    "fig, ax = plt.subplots(figsize=(8, 8))\n",
    "ax.set_aspect('equal')\n",
    "ax.axis(False)\n",
    "ax.scatter(X, Y, c=vx, s=0.1, alpha=1.0)\n",
    "plt.show()"
   ]
  },
  {
   "cell_type": "markdown",
   "id": "6d466984-ee25-4c40-a17d-e4ad4c7d0613",
   "metadata": {},
   "source": [
    "### Generate Y-velocities"
   ]
  },
  {
   "cell_type": "code",
   "execution_count": null,
   "id": "3848e8ad-f072-416d-8e6d-612b5d95cdb6",
   "metadata": {},
   "outputs": [],
   "source": [
    "# Similarly to McNally et. al (2012)\n",
    "vy = 0.01 * np.sin(4 * np.pi * X)"
   ]
  },
  {
   "cell_type": "code",
   "execution_count": null,
   "id": "c0045012-89d4-408d-b9ec-a4f34164642e",
   "metadata": {},
   "outputs": [],
   "source": [
    "vy"
   ]
  },
  {
   "cell_type": "code",
   "execution_count": null,
   "id": "2d31b73a-d699-4c10-beb4-4cb369fd1a0a",
   "metadata": {},
   "outputs": [],
   "source": [
    "fig, ax = plt.subplots(figsize=(8, 8))\n",
    "ax.set_aspect('equal')\n",
    "ax.axis(False)\n",
    "ax.scatter(X, Y, c=vy, s=0.1, alpha=1.0)\n",
    "plt.show()"
   ]
  },
  {
   "cell_type": "markdown",
   "id": "2d2cdece-5c9c-4289-a33a-0694386a8d4e",
   "metadata": {},
   "source": [
    "### Calculate internal energy"
   ]
  },
  {
   "cell_type": "code",
   "execution_count": null,
   "id": "23f80962-d790-4751-b552-e44bbd729a87",
   "metadata": {
    "tags": []
   },
   "outputs": [],
   "source": [
    "P = 5./2.      # Constant pressure from McNally et al. (2012)\n",
    "gamma = 5./3.  # Polytropic index of ideal EoS"
   ]
  },
  {
   "cell_type": "code",
   "execution_count": null,
   "id": "eafb2b44-8948-43f7-ac88-ff9a15b26ebd",
   "metadata": {},
   "outputs": [],
   "source": [
    "E = P / ((gamma - 1) * D)"
   ]
  },
  {
   "cell_type": "code",
   "execution_count": null,
   "id": "acad16fc-9e2c-4e22-9170-b0075c39aa90",
   "metadata": {},
   "outputs": [],
   "source": [
    "fig, ax = plt.subplots(figsize=(8, 8))\n",
    "ax.set_aspect('equal')\n",
    "ax.axis(False)\n",
    "ax.scatter(X, Y, c=E, s=0.1, alpha=1.0)\n",
    "plt.show()"
   ]
  },
  {
   "cell_type": "markdown",
   "id": "5fb750cf-c132-4d4c-9d6d-067d4b4239a3",
   "metadata": {},
   "source": [
    "### Calculate masses"
   ]
  },
  {
   "cell_type": "code",
   "execution_count": null,
   "id": "67f6aa13-af49-471f-8064-bc8d57f88887",
   "metadata": {},
   "outputs": [],
   "source": [
    "M = D / D.size"
   ]
  },
  {
   "cell_type": "code",
   "execution_count": null,
   "id": "c069eee6-90d4-4914-b080-269aa3f2ece4",
   "metadata": {},
   "outputs": [],
   "source": [
    "fig, ax = plt.subplots(figsize=(8, 8))\n",
    "ax.set_aspect('equal')\n",
    "ax.axis(False)\n",
    "ax.scatter(X, Y, c=M, s=0.1, alpha=1.0)\n",
    "plt.show()"
   ]
  },
  {
   "cell_type": "markdown",
   "id": "5ab4dc91-2bb7-40eb-a26c-e0ca31c87a6d",
   "metadata": {},
   "source": [
    "## Save initial condition file"
   ]
  },
  {
   "cell_type": "code",
   "execution_count": null,
   "id": "9a28553a-f304-4760-9ac4-81238a3cfed5",
   "metadata": {
    "tags": []
   },
   "outputs": [],
   "source": [
    "file = h5py.File(os.path.join(DATA_DIR, 'test_kh_ics.hdf5'), 'w')\n",
    "\n",
    "h = file.create_group('Header')\n",
    "NPART = np.array([N**2, 0, 0, 0, 0, 0])\n",
    "h.attrs['NumPart_ThisFile'] = NPART\n",
    "h.attrs['NumPart_Total'] = NPART\n",
    "h.attrs['NumPart_Total_HighWord'] = 0*NPART\n",
    "h.attrs['MassTable'] = np.zeros(6)\n",
    "h.attrs['Time'] = 0.0\n",
    "h.attrs['NumFilesPerSnapshot'] = 1\n",
    "h.attrs['Flag_DoublePrecision'] = 0\n",
    "\n",
    "p = file.create_group('PartType0')\n",
    "p.create_dataset('Coordinates', data=np.column_stack((X.flatten(), Y.flatten(), Z.flatten())))\n",
    "p.create_dataset('Velocities', data=np.column_stack((vx.flatten(), vy.flatten(), np.zeros(N**2))))\n",
    "p.create_dataset('ParticleIDs', data=np.arange(1, N**2+1, 1))\n",
    "p.create_dataset('ParticleChildIDsNumber', data=np.zeros(N**2))\n",
    "p.create_dataset('ParticleIDGenerationNumber', data=np.zeros(N**2))\n",
    "p.create_dataset('Masses', data=M.flatten())\n",
    "p.create_dataset('Density', data=D.flatten())\n",
    "p.create_dataset('InternalEnergy', data=E.flatten())\n",
    "p.create_dataset('SmoothingLength', data=((M / D)**(1/2)).flatten())\n",
    "\n",
    "file.close()"
   ]
  },
  {
   "cell_type": "code",
   "execution_count": null,
   "id": "1b924bf1-efa6-4542-b9dd-a73bfde1b1f3",
   "metadata": {},
   "outputs": [],
   "source": [
    "s = os.path.join(DATA_DIR, 'test_kh_ics.hdf5')"
   ]
  },
  {
   "cell_type": "code",
   "execution_count": null,
   "id": "9b09a3b5-b993-4a92-a63a-bb4a363202e2",
   "metadata": {},
   "outputs": [],
   "source": [
    "values = get_data(s)"
   ]
  },
  {
   "cell_type": "code",
   "execution_count": null,
   "id": "ebfcdb3a-411c-471b-bef9-b700f934cea3",
   "metadata": {},
   "outputs": [],
   "source": [
    "values"
   ]
  },
  {
   "cell_type": "code",
   "execution_count": null,
   "id": "dabe6f76-3f2f-4506-b79a-678b92f4eb30",
   "metadata": {
    "tags": []
   },
   "outputs": [],
   "source": [
    "idx = np.array([1, 5777, 9605, 22281]) - 1\n",
    "for i in idx:\n",
    "    print(f'{i+1}\\t-- x: {X.flatten()[i]:.4f}\\ty: {Y.flatten()[i]:.4f}\\tvx: {V.flatten()[i]:.4f}\\td: {D.flatten()[i]:.4f}')"
   ]
  },
  {
   "cell_type": "code",
   "execution_count": null,
   "id": "c174535d-6170-4b3c-a59d-8c5955e9f221",
   "metadata": {},
   "outputs": [],
   "source": [
    "s = os.path.join('/home/pal.balazs/github/gizmo-public/scripts', 'box_3d_r32.hdf5')"
   ]
  }
 ],
 "metadata": {
  "kernelspec": {
   "display_name": "Python 3 (ipykernel)",
   "language": "python",
   "name": "python3"
  },
  "language_info": {
   "codemirror_mode": {
    "name": "ipython",
    "version": 3
   },
   "file_extension": ".py",
   "mimetype": "text/x-python",
   "name": "python",
   "nbconvert_exporter": "python",
   "pygments_lexer": "ipython3",
   "version": "3.11.6"
  }
 },
 "nbformat": 4,
 "nbformat_minor": 5
}
