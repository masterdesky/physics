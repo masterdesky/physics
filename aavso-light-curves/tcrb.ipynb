{
 "cells": [
  {
   "cell_type": "code",
   "execution_count": null,
   "id": "d48755aa-b109-4407-85af-6dc23b2d5c1d",
   "metadata": {},
   "outputs": [],
   "source": [
    "import os\n",
    "import scipy\n",
    "import numpy as np\n",
    "import pandas as pd\n",
    "from tqdm import tqdm\n",
    "\n",
    "import matplotlib as mpl\n",
    "import matplotlib.cm as cm\n",
    "import matplotlib.pyplot as plt\n",
    "import matplotlib.dates as mdates"
   ]
  },
  {
   "cell_type": "code",
   "execution_count": null,
   "id": "9ff75d40-5ddb-4967-af35-1237c902497a",
   "metadata": {},
   "outputs": [],
   "source": [
    "ODIR = 'out'\n",
    "FFMT = 'png'\n",
    "FDPI = 200\n",
    "\n",
    "# Configure rcParams\n",
    "size  = {'major': 6, 'minor': 3}\n",
    "width = {'major': 1, 'minor': 1}\n",
    "for xy in ['xtick', 'ytick']:\n",
    "    for t in ['major', 'minor']:\n",
    "        mpl.rcParams[f'{xy}.{t}.size'] = size[t]\n",
    "        mpl.rcParams[f'{xy}.{t}.width'] = width[t]\n",
    "    mpl.rcParams[f'{xy}.direction'] = 'in'\n",
    "    mpl.rcParams[f'{xy}.color'] = 'white'\n",
    "mpl.rcParams['text.usetex'] = True"
   ]
  },
  {
   "cell_type": "markdown",
   "id": "b690eb0b-7330-461a-b4ff-c9f98208a959",
   "metadata": {},
   "source": [
    "## Fetch and build data from AAVSO observations\n",
    "\n",
    "Similarly as https://github.com/hippke/betelbot/ does it."
   ]
  },
  {
   "cell_type": "code",
   "execution_count": null,
   "id": "be0b277d-005c-449e-80b1-4409142a593a",
   "metadata": {},
   "outputs": [],
   "source": [
    "import requests\n",
    "from bs4 import BeautifulSoup"
   ]
  },
  {
   "cell_type": "code",
   "execution_count": null,
   "id": "6a832588-5308-408f-bc1f-c0316121980d",
   "metadata": {
    "tags": []
   },
   "outputs": [],
   "source": [
    "# Iterate over the first N pages of Alpha Ori (Betelgeuse) observations\n",
    "# and gather all Betelgeuse data from them\n",
    "jd = []\n",
    "mg = []\n",
    "\n",
    "url_base = 'https://apps.aavso.org/webobs/results/?star=000-BBW-825&num_results=200&obs_types=vis&page={}'\n",
    "for p_i in tqdm(range(1, 60)):\n",
    "    # Fetch and parse the HTML5 page\n",
    "    r = requests.get(url_base.format(p_i))\n",
    "    soup = BeautifulSoup(markup=r.content, features='html.parser')\n",
    "    # Rows of data are contained in the <table> element with a <thead> element\n",
    "    # containing a header and a <tbody> element containing the data\n",
    "    #\n",
    "    # The first and last column of these headers are just bad HTML, drop them\n",
    "    header = soup.select_one('thead').select('th')[1:-1]\n",
    "    # The rows are contained in <tr> elements inside a singular <tbody> element\n",
    "    table = soup.select('tbody tr')\n",
    "    # Relevant data in each row are stored in every 4th <tr> tag, which we\n",
    "    # should extract the Julian Date (3th column) and magnitude (5th column) from\n",
    "    for row in table[::4]:\n",
    "        jd.append(row.select('td')[2].get_text())\n",
    "        mg.append(row.select('td')[4].get_text().lstrip('<>'))\n",
    "jd = np.array(jd, dtype=np.float64)\n",
    "mg = np.array(mg, dtype=np.float64)"
   ]
  },
  {
   "cell_type": "markdown",
   "id": "8f007b6d-7885-4e37-bb7a-6b556e35f0aa",
   "metadata": {},
   "source": [
    "## Convert Julian Date to Gregorian Date"
   ]
  },
  {
   "cell_type": "code",
   "execution_count": null,
   "id": "6c5fc72a-7d66-4a2b-8dad-332640abdf56",
   "metadata": {
    "tags": []
   },
   "outputs": [],
   "source": [
    "def jd2g(jd):\n",
    "    '''Convert Julian Date to Gregorian Datetime in a NumPy and Pandas\n",
    "    compatible format.\n",
    "\n",
    "    Algorithm is the same as in `jdcal.jd2gcal()` seen in\n",
    "    https://github.com/phn/jdcal/blob/master/jdcal.py#L193.\n",
    "\n",
    "    Parameters\n",
    "    ----------\n",
    "    jd : scalar or array_like\n",
    "        Julian Date or array of Julian Dates.\n",
    "    '''\n",
    "    f, jd_i = np.modf(jd)\n",
    "\n",
    "    # Calculate years, months and days\n",
    "    ell = jd_i + 68569\n",
    "    n = np.int64((4 * ell) / 146097.0)\n",
    "    ell -= np.int64(((146097 * n) + 3) / 4.0)\n",
    "    i = np.int64((4000 * (ell + 1)) / 1461001)\n",
    "    ell -= np.int64((1461 * i) / 4.0) - 31\n",
    "    j = np.int64((80 * ell) / 2447.0)\n",
    "    D = ell - np.int64((2447 * j) / 80.0)\n",
    "    ell = np.int64(j / 11.0)\n",
    "    M = j + 2 - (12 * ell)\n",
    "    Y = 100 * (n - 49) + i + ell\n",
    "\n",
    "    # Calculate hours, minutes and seconds\n",
    "    r, HH = np.modf(f*24)\n",
    "    r, MM = np.modf(r*60)\n",
    "    r, SS = np.modf(r*60)\n",
    "\n",
    "    T = np.stack((Y, M, D, HH, MM, SS), axis=-1)\n",
    "    T = np.array(T, copy=False, dtype=np.int64)\n",
    "\n",
    "    # Convert values to integers and then to `numpy.datetime64` arrays\n",
    "    fmt = '{:04}-{:02}-{:02}T{:02}:{:02}:{:02}'\n",
    "    gd = pd.DatetimeIndex([\n",
    "        fmt.format(y, m, d, hh, mm, ss) for y, m, d, hh, mm, ss in T\n",
    "    ])\n",
    "\n",
    "    return gd"
   ]
  },
  {
   "cell_type": "code",
   "execution_count": null,
   "id": "b5894278-33ae-4b1b-9a71-122fb46a424e",
   "metadata": {},
   "outputs": [],
   "source": [
    "gd = jd2g(jd)\n",
    "jd_i = np.int64(jd)\n",
    "gd_i = jd2g(jd_i)\n",
    "ujd = np.unique(jd_i)\n",
    "ugd = jd2g(ujd)"
   ]
  },
  {
   "cell_type": "markdown",
   "id": "983d9136-5c1b-4578-9bfa-72fe1e1ffbb4",
   "metadata": {},
   "source": [
    "## Aggregate magnitudes and errors"
   ]
  },
  {
   "cell_type": "code",
   "execution_count": null,
   "id": "51868806-83c0-46e4-9f63-ed74513638ef",
   "metadata": {},
   "outputs": [],
   "source": [
    "df = pd.DataFrame(data={'jd': jd, 'gd': gd, 'mag': mg})\n",
    "group = df['mag'].groupby(jd_i)\n",
    "df_agg = pd.DataFrame(data={\n",
    "        'gd': ugd,\n",
    "        'mean': group.mean(),\n",
    "        'std': group.std()\n",
    "})"
   ]
  },
  {
   "cell_type": "code",
   "execution_count": null,
   "id": "77d8987e-0f3b-4b32-9c84-5d20f4c6b4b1",
   "metadata": {},
   "outputs": [],
   "source": [
    "# Drop observations outside a specified time interval\n",
    "min_date = pd.Timestamp('2021-08-01')\n",
    "max_date = pd.Timestamp('2024-09-01')\n",
    "df_agg = df_agg[(df_agg['gd'] > min_date) & (df_agg['gd'] < max_date)]\n",
    "\n",
    "# Drop outlier observations\n",
    "max_std = 3\n",
    "df_mean, df_std = df_agg['mean'].mean(), df_agg['mean'].std()\n",
    "df_agg = df_agg[abs(df_agg['mean'] - df_mean) < max_std*df_std]\n",
    "\n",
    "# Exclude days, where only a single observation was made\n",
    "# (or where a single observation remained after the filtering above)\n",
    "df_agg.dropna(axis=0, how='any', inplace=True)"
   ]
  },
  {
   "cell_type": "markdown",
   "id": "dd4a64dd-5ad7-43f6-a4ef-312aa4eb5c3a",
   "metadata": {},
   "source": [
    "## Plot data"
   ]
  },
  {
   "cell_type": "code",
   "execution_count": null,
   "id": "10ab9689-b14d-43b3-8dee-69839d8dcf83",
   "metadata": {},
   "outputs": [],
   "source": [
    "def set_colors(arr, cmap,\n",
    "               *,\n",
    "               vmin=0.0, vmax=1.0, imin=0.0, imax=1.0):\n",
    "    '''Create and scale a colormap for an interval of the values in an\n",
    "    array, using SciPy's 1D interpolation.\n",
    "\n",
    "    Parameters\n",
    "    ----------\n",
    "    arr : array-like\n",
    "        Input values to scale the colormap to.\n",
    "    cmap : \n",
    "        Any matplotlib colormap the \n",
    "    '''\n",
    "\n",
    "    arr_c = np.array(arr, copy=True)\n",
    "    amin, amax = np.min(arr_c), np.max(arr_c)\n",
    "\n",
    "    mmin = amin + imin*(amax - amin)\n",
    "    mmax = amin + imax*(amax - amin)\n",
    "    arr_c[arr_c < mmin] = mmin\n",
    "    arr_c[arr_c > mmax] = mmax\n",
    "\n",
    "    # Scale the colorscale with\n",
    "    m = scipy.interpolate.interp1d(\n",
    "        x=[mmax, mmin], y=[vmin, vmax], kind='linear'\n",
    "    )\n",
    "\n",
    "    c = cmap(m(arr_c))\n",
    "\n",
    "    return c"
   ]
  },
  {
   "cell_type": "code",
   "execution_count": null,
   "id": "89142d03-99b3-4d07-84e7-6f88325bf71c",
   "metadata": {},
   "outputs": [],
   "source": [
    "fig, ax = plt.subplots(figsize=(8, 6), dpi=140,\n",
    "                       facecolor='black', subplot_kw=dict(facecolor='black'))\n",
    "for spine in ax.spines.values():\n",
    "    spine.set_edgecolor('white')\n",
    "\n",
    "colors = set_colors(df_agg['mean'], cmap=cm.magma,\n",
    "                    vmin=0.5, vmax=1.0, imin=0.0, imax=1.0)\n",
    "ax.scatter(df_agg['gd'], df_agg['mean'],\n",
    "           c=colors, s=2**3, alpha=0.8, zorder=1)\n",
    "ax.errorbar(df_agg['gd'], df_agg['mean'], yerr=df_agg['std'],\n",
    "            ecolor=colors, elinewidth=0.5, linestyle='None',\n",
    "            alpha=0.2, zorder=0)\n",
    "\n",
    "ax.set_xlim(None, df_agg['gd'].values[-1] + pd.Timedelta(1, 'W'))\n",
    "ax.set_ylim(9, 11)\n",
    "ax.tick_params(axis='both', which='both', labelcolor='white')\n",
    "ax.tick_params(axis='x', which='both', labelrotation=30)\n",
    "ax.xaxis.set_major_locator(mdates.MonthLocator(interval=3))\n",
    "ax.xaxis.set_major_formatter(mdates.DateFormatter('%Y-%b'))\n",
    "\n",
    "ax.invert_yaxis()\n",
    "\n",
    "ax.set_ylabel('\\\\textbf{Magnitude}',\n",
    "              color='white', fontsize=24)\n",
    "\n",
    "ax.set_title('\\\\textbf{Fig. 1.} AAVSO light curve of \\\\textit{T Coronae Borealis}', y=-0.2,\n",
    "             fontsize=18, color='white')\n",
    "\n",
    "# Pre-eruption dimming?\n",
    "ax.text(x=np.datetime64('2023-10-15'), y=10.85, s='\\\\texttt{Pre-eruption dimming?}',\n",
    "        color='white', fontsize=12, alpha=0.8,\n",
    "        ha='center', va='bottom',\n",
    "        bbox=dict(facecolor='black', alpha=0.2, lw=0))\n",
    "\n",
    "# Source text\n",
    "ax.text(x=0.99, y=0.975, s='\\\\texttt{Source of data: https://www.aavso.org/}',\n",
    "        color='white', fontsize=8, alpha=0.8,\n",
    "        ha='right', va='top', transform=ax.transAxes,\n",
    "        bbox=dict(facecolor='black', alpha=0.2, lw=0))\n",
    "\n",
    "# Credit\n",
    "ax.text(x=0.01, y=0.02, s='\\\\texttt{@masterdesky}',\n",
    "        color='white', fontsize=8, alpha=0.4,\n",
    "        ha='left', va='bottom', transform=ax.transAxes,\n",
    "        bbox=dict(facecolor='black', alpha=0.2, lw=0))\n",
    "\n",
    "os.makedirs(ODIR, exist_ok=True)\n",
    "fig.savefig(os.path.join(ODIR, f'TCrB.{FFMT}'), format=FFMT, dpi='figure',\n",
    "            bbox_inches='tight', pad_inches='layout',\n",
    "            facecolor='auto', edgecolor='auto', backend=None)\n",
    "plt.show()"
   ]
  },
  {
   "cell_type": "code",
   "execution_count": null,
   "id": "808f9296-d95e-45e3-9aa2-b1b3e0f6bc1f",
   "metadata": {},
   "outputs": [],
   "source": []
  },
  {
   "cell_type": "code",
   "execution_count": null,
   "id": "d37838f1-70aa-4f6f-a1ac-fde95bebba5f",
   "metadata": {},
   "outputs": [],
   "source": []
  }
 ],
 "metadata": {
  "kernelspec": {
   "display_name": "Python 3 (ipykernel)",
   "language": "python",
   "name": "python3"
  },
  "language_info": {
   "codemirror_mode": {
    "name": "ipython",
    "version": 3
   },
   "file_extension": ".py",
   "mimetype": "text/x-python",
   "name": "python",
   "nbconvert_exporter": "python",
   "pygments_lexer": "ipython3",
   "version": "3.12.4"
  }
 },
 "nbformat": 4,
 "nbformat_minor": 5
}
