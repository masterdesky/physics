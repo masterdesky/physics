{
 "cells": [
  {
   "cell_type": "markdown",
   "metadata": {},
   "source": [
    "# Building light curve of Betelgeuse ($\\alpha$ Ori) from AAVSO magnitude measurements"
   ]
  },
  {
   "cell_type": "code",
   "execution_count": null,
   "metadata": {},
   "outputs": [],
   "source": [
    "import os\n",
    "import scipy\n",
    "import numpy as np\n",
    "import pandas as pd\n",
    "\n",
    "import matplotlib as mpl\n",
    "import matplotlib.cm as cm\n",
    "import matplotlib.pyplot as plt\n",
    "import matplotlib.dates as mdates"
   ]
  },
  {
   "cell_type": "code",
   "execution_count": null,
   "metadata": {},
   "outputs": [],
   "source": [
    "out = './out'\n",
    "figsave_format = 'png'\n",
    "figsave_dpi = 200\n",
    "\n",
    "# Configure rcParams\n",
    "size  = {'major': 6, 'minor': 3}\n",
    "width = {'major': 1, 'minor': 1}\n",
    "for xy in ['xtick', 'ytick']:\n",
    "    for t in ['major', 'minor']:\n",
    "        mpl.rcParams[f'{xy}.{t}.size'] = size[t]\n",
    "        mpl.rcParams[f'{xy}.{t}.width'] = width[t]\n",
    "    mpl.rcParams[f'{xy}.direction'] = 'in'\n",
    "    mpl.rcParams[f'{xy}.color'] = 'white'\n",
    "mpl.rcParams['text.usetex'] = True"
   ]
  },
  {
   "cell_type": "markdown",
   "metadata": {},
   "source": [
    "## Fetch and build data from AAVSO observations\n",
    "\n",
    "Similarly as https://github.com/hippke/betelbot/ does it."
   ]
  },
  {
   "cell_type": "code",
   "execution_count": null,
   "metadata": {},
   "outputs": [],
   "source": [
    "import requests\n",
    "from bs4 import BeautifulSoup"
   ]
  },
  {
   "cell_type": "code",
   "execution_count": null,
   "metadata": {
    "tags": []
   },
   "outputs": [],
   "source": [
    "# Iterate over the first N pages of Alpha Ori (Betelgeuse) observations\n",
    "# and gather all Betelgeuse data from them\n",
    "jd = []\n",
    "mg = []\n",
    "\n",
    "url_base = 'https://www.aavso.org/apps/webobs/results/?star=betelgeuse&num_results=200&obs_types=vis&page={}'\n",
    "for p_i in range(1, 15):\n",
    "    # Fetch and parse the HTML5 page\n",
    "    r = requests.get(url_base.format(p_i))\n",
    "    soup = BeautifulSoup(markup=r.content, features='html.parser')\n",
    "    # Rows of data are contained in the <table> element with a <thead> element\n",
    "    # containing a header and a <tbody> element containing the data\n",
    "    #\n",
    "    # The first and last column of these headers are just bad HTML, drop them\n",
    "    header = soup.select_one('thead').select('th')[1:-1]\n",
    "    # The rows are contained in <tr> elements inside a singular <tbody> element\n",
    "    table = soup.select('tbody tr')\n",
    "    # Relevant data in each row are stored in every 4th <tr> tag, which we\n",
    "    # should extract the Julian Date (3th column) and magnitude (5th column) from\n",
    "    for row in table[::4]:\n",
    "        jd.append(row.select('td')[2].get_text())\n",
    "        mg.append(row.select('td')[4].get_text())\n",
    "jd = np.array(jd, dtype=np.float64)\n",
    "mg = np.array(mg, dtype=np.float64)"
   ]
  },
  {
   "cell_type": "markdown",
   "metadata": {},
   "source": [
    "## Convert Julian Dates to Gregorian Date"
   ]
  },
  {
   "cell_type": "code",
   "execution_count": null,
   "metadata": {
    "tags": []
   },
   "outputs": [],
   "source": [
    "def jd2g(jd):\n",
    "    '''Convert Julian Date to Gregorian Datetime in a NumPy and Pandas\n",
    "    compatible format.\n",
    "\n",
    "    Algorithm is the same as in `jdcal.jd2gcal()` seen in\n",
    "    https://github.com/phn/jdcal/blob/master/jdcal.py#L193.\n",
    "\n",
    "    Parameters\n",
    "    ----------\n",
    "    jd : scalar or array_like\n",
    "        Julian Date or array of Julian Dates.\n",
    "    '''\n",
    "    f, jd_i = np.modf(jd)\n",
    "\n",
    "    # Calculate years, months and days\n",
    "    ell = jd_i + 68569\n",
    "    n = np.int64((4 * ell) / 146097.0)\n",
    "    ell -= np.int64(((146097 * n) + 3) / 4.0)\n",
    "    i = np.int64((4000 * (ell + 1)) / 1461001)\n",
    "    ell -= np.int64((1461 * i) / 4.0) - 31\n",
    "    j = np.int64((80 * ell) / 2447.0)\n",
    "    D = ell - np.int64((2447 * j) / 80.0)\n",
    "    ell = np.int64(j / 11.0)\n",
    "    M = j + 2 - (12 * ell)\n",
    "    Y = 100 * (n - 49) + i + ell\n",
    "\n",
    "    # Calculate hours, minutes and seconds\n",
    "    r, HH = np.modf(f*24)\n",
    "    r, MM = np.modf(r*60)\n",
    "    r, SS = np.modf(r*60)\n",
    "\n",
    "    T = np.stack((Y, M, D, HH, MM, SS), axis=-1)\n",
    "    T = np.array(T, copy=False, dtype=np.int64)\n",
    "\n",
    "    # Convert values to integers and then to `numpy.datetime64` arrays\n",
    "    fmt = '{:04}-{:02}-{:02}T{:02}:{:02}:{:02}'\n",
    "    gd = pd.DatetimeIndex([\n",
    "        fmt.format(y, m, d, hh, mm, ss) for y, m, d, hh, mm, ss in T\n",
    "    ])\n",
    "\n",
    "    return gd"
   ]
  },
  {
   "cell_type": "code",
   "execution_count": null,
   "metadata": {},
   "outputs": [],
   "source": [
    "gd = jd2g(jd)\n",
    "jd_i = np.int64(jd)\n",
    "gd_i = jd2g(jd_i)\n",
    "ujd = np.unique(jd_i)\n",
    "ugd = jd2g(ujd)"
   ]
  },
  {
   "cell_type": "markdown",
   "metadata": {},
   "source": [
    "## Aggregate magnitudes and errors"
   ]
  },
  {
   "cell_type": "code",
   "execution_count": null,
   "metadata": {},
   "outputs": [],
   "source": [
    "df = pd.DataFrame(data={'jd': jd, 'gd': gd, 'mag': mg})\n",
    "group = df['mag'].groupby(jd_i)\n",
    "df_agg = pd.DataFrame(data={\n",
    "        'gd': ugd,\n",
    "        'mean': group.mean(),\n",
    "        'std': group.std()\n",
    "})"
   ]
  },
  {
   "cell_type": "code",
   "execution_count": null,
   "metadata": {},
   "outputs": [],
   "source": [
    "# Drop observations outside a specified time interval\n",
    "min_date = pd.Timestamp('2022-08-01')\n",
    "max_date = pd.Timestamp('2023-06-01')\n",
    "df_agg = df_agg[(df_agg['gd'] > min_date) & (df_agg['gd'] < max_date)]\n",
    "\n",
    "# Drop outlier observations\n",
    "max_std = 3\n",
    "df_mean, df_std = df_agg['mean'].mean(), df_agg['mean'].std()\n",
    "df_agg = df_agg[abs(df_agg['mean'] - df_mean) < max_std*df_std]\n",
    "\n",
    "# Exclude days, where only a single observation was made\n",
    "# (or where a single observation remained after the filtering above)\n",
    "df_agg.dropna(axis=0, how='any', inplace=True)"
   ]
  },
  {
   "cell_type": "markdown",
   "metadata": {},
   "source": [
    "## Plot data"
   ]
  },
  {
   "cell_type": "code",
   "execution_count": null,
   "metadata": {},
   "outputs": [],
   "source": [
    "def set_colors(arr, cmap,\n",
    "               *,\n",
    "               vmin=0.0, vmax=1.0, imin=0.0, imax=1.0):\n",
    "    '''Create and scale a colormap for an interval of the values in an\n",
    "    array, using SciPy's 1D interpolation.\n",
    "\n",
    "    Parameters\n",
    "    ----------\n",
    "    arr : array-like\n",
    "        Input values to scale the colormap to.\n",
    "    cmap : \n",
    "        Any matplotlib colormap the \n",
    "    '''\n",
    "\n",
    "    arr_c = np.array(arr, copy=True)\n",
    "    amin, amax = np.min(arr_c), np.max(arr_c)\n",
    "\n",
    "    mmin = amin + imin*(amax - amin)\n",
    "    mmax = amin + imax*(amax - amin)\n",
    "    arr_c[arr_c < mmin] = mmin\n",
    "    arr_c[arr_c > mmax] = mmax\n",
    "\n",
    "    # Scale the colorscale with \n",
    "    m = scipy.interpolate.interp1d(\n",
    "        x=[mmax, mmin], y=[vmin, vmax], kind='linear'\n",
    "    )\n",
    "\n",
    "    c = cmap(m(arr_c))\n",
    "\n",
    "    return c"
   ]
  },
  {
   "cell_type": "code",
   "execution_count": null,
   "metadata": {},
   "outputs": [],
   "source": [
    "fig, ax = plt.subplots(figsize=(12, 4), dpi=140,\n",
    "                       facecolor='black', subplot_kw=dict(facecolor='black'))\n",
    "for spine in ax.spines.values():\n",
    "    spine.set_edgecolor('white')\n",
    "\n",
    "colors = set_colors(df_agg['mean'], cmap=cm.magma_r,\n",
    "                    vmin=0, vmax=0.5, imin=0.0, imax=1.0)\n",
    "ax.scatter(df_agg['gd'], df_agg['mean'],\n",
    "           c=colors, s=9, alpha=0.8, zorder=1)\n",
    "ax.errorbar(df_agg['gd'], df_agg['mean'], yerr=df_agg['std'],\n",
    "            ecolor=colors, elinewidth=0.5, linestyle='None',\n",
    "            alpha=0.2, zorder=0)\n",
    "\n",
    "ax.set_xlim(None, df_agg['gd'].values[-1] + pd.Timedelta(1, 'W'))\n",
    "ax.set_ylim(0.0, 0.8)\n",
    "ax.tick_params(axis='both', which='both', labelcolor='white')\n",
    "ax.tick_params(axis='x', which='both', labelrotation=30)\n",
    "ax.xaxis.set_major_locator(mdates.MonthLocator(interval=2))\n",
    "ax.xaxis.set_major_formatter(mdates.DateFormatter('%Y-%b'))\n",
    "\n",
    "ax.set_ylabel('\\\\textbf{Normalized flux}\\n{\\\\normalsize [baseline is $0.5$]}',\n",
    "              color='white', fontsize=16, linespacing=0.8)\n",
    "\n",
    "ax.set_title('\\\\textbf{Fig. 1.} AAVSO light curve of Betelgeuse', y=-0.27,\n",
    "             fontsize=14, color='white')\n",
    "\n",
    "# Source text\n",
    "ax.text(x=0.99, y=0.975, s='\\\\texttt{Source of data: https://www.aavso.org/}',\n",
    "        color='white', fontsize=8, alpha=0.8,\n",
    "        ha='right', va='top', transform=ax.transAxes,\n",
    "        bbox=dict(facecolor='black', alpha=0.2, lw=0))\n",
    "\n",
    "plt.show()"
   ]
  },
  {
   "cell_type": "markdown",
   "metadata": {},
   "source": [
    "#### Caption in Early 2020:\n",
    "Betelgeuse, or α Ori is a red supergiant, semiregular variable star and it is the second brightest star in the Orion constellation. In the past approx. 4 months its allegedly irregular dimming could be observed even by the naked eye. It is now almost entirely concluded, that this phenomenon was observed due to a large-grain circumstellar dust along our sightline to Betelgeuse[1]. Since the middle of february Betelgeuse slowly started to get brigther again. On this Fig. I've shown the V-band magnitude of Betelgeuse between the 15th of October, 2019 and 15th of March, 2020.\n",
    "\n",
    "========  \n",
    "References:\n",
    "[1]: Levesque, E. M., & Massey, P. (2020). Betelgeuse Just Isn't That Cool: Effective Temperature Alone Cannot Explain the Recent Dimming of Betelgeuse. arXiv preprint arXiv:2002.10463.\n",
    "\n",
    "#betelgeuse #variable #star #redgiant #astronomy #tschillaghass"
   ]
  },
  {
   "cell_type": "code",
   "execution_count": null,
   "metadata": {},
   "outputs": [],
   "source": []
  }
 ],
 "metadata": {
  "kernelspec": {
   "display_name": "Python 3 (ipykernel)",
   "language": "python",
   "name": "python3"
  },
  "language_info": {
   "codemirror_mode": {
    "name": "ipython",
    "version": 3
   },
   "file_extension": ".py",
   "mimetype": "text/x-python",
   "name": "python",
   "nbconvert_exporter": "python",
   "pygments_lexer": "ipython3",
   "version": "3.10.10"
  }
 },
 "nbformat": 4,
 "nbformat_minor": 4
}
