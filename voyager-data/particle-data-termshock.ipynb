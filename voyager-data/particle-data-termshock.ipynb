{
 "cells": [
  {
   "cell_type": "markdown",
   "id": "2bfa3188-673d-40fa-864e-535aeed07bc2",
   "metadata": {},
   "source": [
    "# Voyager-1 LET data during the crossing the termination shock in 2004"
   ]
  },
  {
   "cell_type": "code",
   "execution_count": null,
   "id": "a3c16e73-134c-4f64-bfa4-539202c8e251",
   "metadata": {},
   "outputs": [],
   "source": [
    "import os\n",
    "import sys\n",
    "import numpy as np\n",
    "import pandas as pd\n",
    "from datetime import datetime\n",
    "\n",
    "import matplotlib as mpl\n",
    "import matplotlib.cm as cm\n",
    "import matplotlib.pyplot as plt\n",
    "import matplotlib.dates as mdates\n",
    "import matplotlib.ticker as plticker"
   ]
  },
  {
   "cell_type": "markdown",
   "id": "fb3d72c6-073d-4e15-a72d-6cfc37a9f7d2",
   "metadata": {},
   "source": [
    "### Just some `matplotlib` and `seaborn` parameter tuning"
   ]
  },
  {
   "cell_type": "code",
   "execution_count": null,
   "id": "108c9d72-8d18-4dad-b521-5b205cfa861e",
   "metadata": {},
   "outputs": [],
   "source": [
    "axistitlesize = 26\n",
    "axisticksize = 23\n",
    "axislabelsize = 26\n",
    "axislegendsize = 23\n",
    "axistextsize = 20\n",
    "axiscbarfontsize = 15\n",
    "\n",
    "# Set axtick dimensions\n",
    "major_size = 6\n",
    "major_width = 1.2\n",
    "minor_size = 3\n",
    "minor_width = 1\n",
    "mpl.rcParams['xtick.major.size'] = major_size\n",
    "mpl.rcParams['xtick.major.width'] = major_width\n",
    "mpl.rcParams['xtick.minor.size'] = minor_size\n",
    "mpl.rcParams['xtick.minor.width'] = minor_width\n",
    "mpl.rcParams['ytick.major.size'] = major_size\n",
    "mpl.rcParams['ytick.major.width'] = major_width\n",
    "mpl.rcParams['ytick.minor.size'] = minor_size\n",
    "mpl.rcParams['ytick.minor.width'] = minor_width"
   ]
  },
  {
   "cell_type": "code",
   "execution_count": null,
   "id": "50fcede9-9bda-4835-8df7-e07ad6df69fe",
   "metadata": {},
   "outputs": [],
   "source": [
    "DATADIR = '/home/masterdesky/data/voyager/'"
   ]
  },
  {
   "cell_type": "code",
   "execution_count": null,
   "id": "d69761bf-632f-4e60-bc60-d0e2c4ae2a3d",
   "metadata": {},
   "outputs": [],
   "source": [
    "TERMSHOCK = np.datetime64('2004-12-15')"
   ]
  },
  {
   "cell_type": "markdown",
   "id": "124c6c64-b8b4-44eb-a826-741fbf3be908",
   "metadata": {},
   "source": [
    "## 2. Plot measurement values"
   ]
  },
  {
   "cell_type": "code",
   "execution_count": null,
   "id": "f980b47c-c10e-4016-89c6-312e7316b4ea",
   "metadata": {
    "tags": []
   },
   "outputs": [],
   "source": [
    "data = pd.read_csv(os.path.join(DATADIR, '20030701-20050631-voyager-1-let-a-L1-single-rates.txt'),\n",
    "                   sep=' ', skiprows=2, parse_dates=[0],\n",
    "                   names=['Time', 'LA1', 'LA1_err'])\n",
    "data = data.drop(labels=data[data['LA1'] == 0].index)\n",
    "data['Time'] = pd.to_datetime(data['Time'])"
   ]
  },
  {
   "cell_type": "code",
   "execution_count": null,
   "id": "e1f8781a-dd74-41c2-b8c4-924d6c27bcd3",
   "metadata": {},
   "outputs": [],
   "source": [
    "fig, axes = plt.subplots(figsize=(10, 10), dpi=120,\n",
    "                         facecolor='black', subplot_kw={'facecolor' : '.95'})\n",
    "\n",
    "axes.grid(True)\n",
    "\n",
    "cmap = cm.Reds\n",
    "x = data['Time']\n",
    "y = data['LA1']\n",
    "y_err = data['LA1_err']\n",
    "axes.errorbar(x, y, yerr=y_err,\n",
    "              color=cmap(0.4), fmt='', alpha=0.3)\n",
    "\n",
    "sr = 5\n",
    "axes.scatter(x, y, s=sr**2,\n",
    "             color=cmap(0.4), ec=cmap(0.8, 0.2), alpha=0.5,\n",
    "             zorder=3)\n",
    "\n",
    "axes.axvline(x=TERMSHOCK, label='Voyager-1 enters the heliosheath (2004-12-15)',\n",
    "             color=cmap(1.0), lw=4, ls='--', alpha=0.5, zorder=2)\n",
    "termshock = pd.date_range(start=\"2004-02-01\",end='2004-12-15').to_pydatetime().tolist()\n",
    "axes.fill_between(termshock, -np.max(y)*2, np.max(y)*2,\n",
    "                  label='Turbulence of the termination shock',\n",
    "                  color=cm.Oranges(0.4), alpha=0.5)\n",
    "termshock = pd.date_range(start=\"2004-12-15\",end='2005-07-01').to_pydatetime().tolist()\n",
    "axes.fill_between(termshock, -np.max(y)*2, np.max(y)*2,\n",
    "                  label='Heliosheath',\n",
    "                  color=cm.Blues(0.3), alpha=0.5)\n",
    "\n",
    "axes.set_title('VOYAGER-1\\n>0.5 MeV/nuc nuclei (LET-A L1 single rate)',\n",
    "               fontsize=axistitlesize, fontweight='bold', color='white')\n",
    "axes.set_xlabel('Time',\n",
    "                fontsize=axislabelsize, fontweight='bold', color='white')\n",
    "axes.set_ylabel('Particles / sec',\n",
    "                fontsize=axislabelsize, fontweight='bold', color='white')\n",
    "\n",
    "## X-ticks\n",
    "# Major ticks every month\n",
    "axes.xaxis.set_major_locator(mdates.MonthLocator(interval=2))\n",
    "axes.xaxis.set_major_formatter(mdates.DateFormatter('%Y-%b'))\n",
    "# Tick parameters\n",
    "axes.tick_params(axis='x', which='both',\n",
    "                 colors='white', labelsize=16, rotation=42)\n",
    "# Ax limits\n",
    "datemin = np.datetime64('2003-07-01') - np.timedelta64(1, 'D')\n",
    "datemax = np.datetime64('2005-07-01') + np.timedelta64(1, 'D')\n",
    "axes.set_xlim(datemin, datemax)\n",
    "\n",
    "## Y-ticks\n",
    "# Major ticks every 0.1\n",
    "loc = plticker.MultipleLocator(base=4) # this locator puts ticks at regular intervals\n",
    "axes.yaxis.set_major_locator(loc)\n",
    "# Tick parameters\n",
    "axes.tick_params(axis='y', which='both',\n",
    "                 colors='white', labelsize=18, rotation=0)\n",
    "# Ax limits\n",
    "axes.set_ylim(-2, 62)\n",
    "\n",
    "axes.legend(loc='upper left', fontsize=axislegendsize-5)\n",
    "\n",
    "plt.savefig('voyager_05mev_LET-A-L1-termshock.svg',\n",
    "            format='png',\n",
    "            dpi=150,\n",
    "            bbox_inches='tight')\n",
    "\n",
    "plt.show()"
   ]
  },
  {
   "cell_type": "code",
   "execution_count": null,
   "id": "c719f9ac-3fd7-4ac3-a752-684024b0a589",
   "metadata": {
    "tags": []
   },
   "outputs": [],
   "source": [
    "data = pd.read_csv(os.path.join(DATADIR, '20000701-20070631-voyager-1-let-a-L1-single-rates.txt'),\n",
    "                   sep=' ', skiprows=2, parse_dates=[0],\n",
    "                   names=['Time', 'LA1', 'LA1_err'])\n",
    "data = data.drop(labels=data[data['LA1'] == 0].index)\n",
    "data['Time'] = pd.to_datetime(data['Time'])"
   ]
  },
  {
   "cell_type": "code",
   "execution_count": null,
   "id": "92c47446-08f3-4c80-aac3-583a330e814a",
   "metadata": {},
   "outputs": [],
   "source": [
    "fig, axes = plt.subplots(figsize=(10, 10), dpi=120,\n",
    "                         facecolor='black', subplot_kw={'facecolor' : '.95'})\n",
    "\n",
    "axes.grid(True)\n",
    "\n",
    "cmap = cm.Reds\n",
    "x = data['Time']\n",
    "y = data['LA1']\n",
    "y_err = data['LA1_err']\n",
    "axes.errorbar(x, y, yerr=y_err,\n",
    "              color=cmap(0.4), fmt='', alpha=0.3)\n",
    "\n",
    "sr = 5\n",
    "axes.scatter(x, y, s=sr**2,\n",
    "             color=cmap(0.4), ec=cmap(0.8, 0.2), alpha=0.5,\n",
    "             zorder=3)\n",
    "\n",
    "axes.axvline(x=TERMSHOCK, label='Voyager-1 enters the heliosheath (2004-12-15)',\n",
    "             color=cmap(1.0), lw=4, ls='--', alpha=0.5, zorder=2)\n",
    "termshock = pd.date_range(start=\"2004-02-01\",end='2004-12-15').to_pydatetime().tolist()\n",
    "axes.fill_between(termshock, -np.max(y)*2, np.max(y)*2,\n",
    "                  label='Turbulence of the termination shock',\n",
    "                  color=cm.Oranges(0.4), alpha=0.5)\n",
    "termshock = pd.date_range(start=\"2004-12-15\",end='2007-07-01').to_pydatetime().tolist()\n",
    "axes.fill_between(termshock, -np.max(y)*2, np.max(y)*2,\n",
    "                  label='Heliosheath',\n",
    "                  color=cm.Blues(0.3), alpha=0.5)\n",
    "\n",
    "axes.set_title('VOYAGER-1\\n>0.5 MeV/nuc nuclei (LET-A L1 single rate)',\n",
    "               fontsize=axistitlesize, fontweight='bold', color='white')\n",
    "axes.set_xlabel('Time',\n",
    "                fontsize=axislabelsize, fontweight='bold', color='white')\n",
    "axes.set_ylabel('Particles / sec',\n",
    "                fontsize=axislabelsize, fontweight='bold', color='white')\n",
    "\n",
    "## X-ticks\n",
    "# Major ticks every month\n",
    "axes.xaxis.set_major_locator(mdates.MonthLocator(interval=6))\n",
    "axes.xaxis.set_major_formatter(mdates.DateFormatter('%Y-%b'))\n",
    "# Tick parameters\n",
    "axes.tick_params(axis='x', which='both',\n",
    "                 colors='white', labelsize=16, rotation=42)\n",
    "# Ax limits\n",
    "datemin = np.datetime64('2000-07-01') - np.timedelta64(1, 'D')\n",
    "datemax = np.datetime64('2007-07-01') + np.timedelta64(1, 'D')\n",
    "axes.set_xlim(datemin, datemax)\n",
    "\n",
    "## Y-ticks\n",
    "# Major ticks every 0.1\n",
    "loc = plticker.MultipleLocator(base=4) # this locator puts ticks at regular intervals\n",
    "axes.yaxis.set_major_locator(loc)\n",
    "# Tick parameters\n",
    "axes.tick_params(axis='y', which='both',\n",
    "                 colors='white', labelsize=18, rotation=0)\n",
    "# Ax limits\n",
    "axes.set_ylim(-2, 62)\n",
    "\n",
    "axes.legend(loc='upper left', fontsize=axislegendsize-3)\n",
    "\n",
    "plt.savefig('voyager_05mev_LET-A-L1-termshock_extended.svg',\n",
    "            format='png',\n",
    "            dpi=150,\n",
    "            bbox_inches='tight')\n",
    "\n",
    "plt.show()"
   ]
  },
  {
   "cell_type": "code",
   "execution_count": null,
   "id": "0d69a964-d9aa-407e-a25b-e5f69dee8c68",
   "metadata": {},
   "outputs": [],
   "source": []
  },
  {
   "cell_type": "code",
   "execution_count": null,
   "id": "3ed552ef-6894-4ad2-8ca6-00e637f14b72",
   "metadata": {},
   "outputs": [],
   "source": []
  }
 ],
 "metadata": {
  "kernelspec": {
   "display_name": "Python 3 (ipykernel)",
   "language": "python",
   "name": "python3"
  },
  "language_info": {
   "codemirror_mode": {
    "name": "ipython",
    "version": 3
   },
   "file_extension": ".py",
   "mimetype": "text/x-python",
   "name": "python",
   "nbconvert_exporter": "python",
   "pygments_lexer": "ipython3",
   "version": "3.11.6"
  }
 },
 "nbformat": 4,
 "nbformat_minor": 5
}
